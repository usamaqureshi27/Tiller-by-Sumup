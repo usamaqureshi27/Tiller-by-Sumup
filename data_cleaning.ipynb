{
 "cells": [
  {
   "cell_type": "code",
   "execution_count": 216,
   "metadata": {},
   "outputs": [],
   "source": [
    "import pandas as pd \n",
    "import numpy as np \n",
    "import seaborn as sns \n",
    "import matplotlib.pyplot as plt\n",
    "%matplotlib inline\n",
    "from datetime import datetime , date\n",
    "\n",
    "import warnings\n",
    "warnings.filterwarnings('ignore')"
   ]
  },
  {
   "cell_type": "markdown",
   "metadata": {},
   "source": [
    "## Order Data"
   ]
  },
  {
   "cell_type": "code",
   "execution_count": 217,
   "metadata": {},
   "outputs": [],
   "source": [
    "# Loading the Order Data from the csv file\n",
    "order_data = pd.read_csv('Data_Files/order_data.csv')"
   ]
  },
  {
   "cell_type": "code",
   "execution_count": 218,
   "metadata": {},
   "outputs": [
    {
     "data": {
      "text/plain": [
       "(500, 12)"
      ]
     },
     "execution_count": 218,
     "metadata": {},
     "output_type": "execute_result"
    }
   ],
   "source": [
    "order_data.shape"
   ]
  },
  {
   "cell_type": "code",
   "execution_count": 219,
   "metadata": {},
   "outputs": [
    {
     "data": {
      "text/html": [
       "<div>\n",
       "<style scoped>\n",
       "    .dataframe tbody tr th:only-of-type {\n",
       "        vertical-align: middle;\n",
       "    }\n",
       "\n",
       "    .dataframe tbody tr th {\n",
       "        vertical-align: top;\n",
       "    }\n",
       "\n",
       "    .dataframe thead th {\n",
       "        text-align: right;\n",
       "    }\n",
       "</style>\n",
       "<table border=\"1\" class=\"dataframe\">\n",
       "  <thead>\n",
       "    <tr style=\"text-align: right;\">\n",
       "      <th></th>\n",
       "      <th>id_order</th>\n",
       "      <th>id_store</th>\n",
       "      <th>id_table</th>\n",
       "      <th>id_waiter</th>\n",
       "      <th>id_device</th>\n",
       "      <th>date_opened</th>\n",
       "      <th>date_closed</th>\n",
       "      <th>dim_status</th>\n",
       "      <th>dim_source</th>\n",
       "      <th>m_nb_customer</th>\n",
       "      <th>m_cached_payed</th>\n",
       "      <th>m_cached_price</th>\n",
       "    </tr>\n",
       "  </thead>\n",
       "  <tbody>\n",
       "    <tr>\n",
       "      <th>0</th>\n",
       "      <td>112572333</td>\n",
       "      <td>7786</td>\n",
       "      <td>NaN</td>\n",
       "      <td>24920.0</td>\n",
       "      <td>14854.0</td>\n",
       "      <td>12/01/2020 16:03:02</td>\n",
       "      <td>12/01/2020 16:03:13</td>\n",
       "      <td>CLOSED</td>\n",
       "      <td>tiller-order</td>\n",
       "      <td>1</td>\n",
       "      <td>11.9</td>\n",
       "      <td>11.9</td>\n",
       "    </tr>\n",
       "    <tr>\n",
       "      <th>1</th>\n",
       "      <td>112912195</td>\n",
       "      <td>6830</td>\n",
       "      <td>133612.0</td>\n",
       "      <td>12894.0</td>\n",
       "      <td>13026.0</td>\n",
       "      <td>14/01/2020 22:06:18</td>\n",
       "      <td>14/01/2020 22:08:10</td>\n",
       "      <td>CLOSED</td>\n",
       "      <td>Tiller iPAD</td>\n",
       "      <td>4</td>\n",
       "      <td>61.1</td>\n",
       "      <td>61.1</td>\n",
       "    </tr>\n",
       "    <tr>\n",
       "      <th>2</th>\n",
       "      <td>113129706</td>\n",
       "      <td>8291</td>\n",
       "      <td>NaN</td>\n",
       "      <td>16823.0</td>\n",
       "      <td>15760.0</td>\n",
       "      <td>16/01/2020 11:11:02</td>\n",
       "      <td>16/01/2020 11:11:30</td>\n",
       "      <td>CLOSED</td>\n",
       "      <td>tiller-order</td>\n",
       "      <td>1</td>\n",
       "      <td>11.7</td>\n",
       "      <td>11.7</td>\n",
       "    </tr>\n",
       "    <tr>\n",
       "      <th>3</th>\n",
       "      <td>79969209</td>\n",
       "      <td>351</td>\n",
       "      <td>19300.0</td>\n",
       "      <td>461.0</td>\n",
       "      <td>128.0</td>\n",
       "      <td>29/06/2019 17:03:54</td>\n",
       "      <td>29/06/2019 18:22:21</td>\n",
       "      <td>CLOSED</td>\n",
       "      <td>Tiller iPAD</td>\n",
       "      <td>4</td>\n",
       "      <td>128.0</td>\n",
       "      <td>128.0</td>\n",
       "    </tr>\n",
       "    <tr>\n",
       "      <th>4</th>\n",
       "      <td>49208645</td>\n",
       "      <td>6008</td>\n",
       "      <td>NaN</td>\n",
       "      <td>10990.0</td>\n",
       "      <td>11065.0</td>\n",
       "      <td>16/11/2018 16:43:54</td>\n",
       "      <td>16/11/2018 16:56:15</td>\n",
       "      <td>CLOSED</td>\n",
       "      <td>Tiller iPAD</td>\n",
       "      <td>1</td>\n",
       "      <td>9.9</td>\n",
       "      <td>9.9</td>\n",
       "    </tr>\n",
       "  </tbody>\n",
       "</table>\n",
       "</div>"
      ],
      "text/plain": [
       "    id_order  id_store  id_table  id_waiter  id_device          date_opened  \\\n",
       "0  112572333      7786       NaN    24920.0    14854.0  12/01/2020 16:03:02   \n",
       "1  112912195      6830  133612.0    12894.0    13026.0  14/01/2020 22:06:18   \n",
       "2  113129706      8291       NaN    16823.0    15760.0  16/01/2020 11:11:02   \n",
       "3   79969209       351   19300.0      461.0      128.0  29/06/2019 17:03:54   \n",
       "4   49208645      6008       NaN    10990.0    11065.0  16/11/2018 16:43:54   \n",
       "\n",
       "           date_closed dim_status    dim_source  m_nb_customer  \\\n",
       "0  12/01/2020 16:03:13     CLOSED  tiller-order              1   \n",
       "1  14/01/2020 22:08:10     CLOSED   Tiller iPAD              4   \n",
       "2  16/01/2020 11:11:30     CLOSED  tiller-order              1   \n",
       "3  29/06/2019 18:22:21     CLOSED   Tiller iPAD              4   \n",
       "4  16/11/2018 16:56:15     CLOSED   Tiller iPAD              1   \n",
       "\n",
       "   m_cached_payed  m_cached_price  \n",
       "0            11.9            11.9  \n",
       "1            61.1            61.1  \n",
       "2            11.7            11.7  \n",
       "3           128.0           128.0  \n",
       "4             9.9             9.9  "
      ]
     },
     "execution_count": 219,
     "metadata": {},
     "output_type": "execute_result"
    }
   ],
   "source": [
    "order_data.head()"
   ]
  },
  {
   "cell_type": "code",
   "execution_count": 220,
   "metadata": {},
   "outputs": [
    {
     "data": {
      "text/plain": [
       "id_order            int64\n",
       "id_store            int64\n",
       "id_table          float64\n",
       "id_waiter         float64\n",
       "id_device         float64\n",
       "date_opened        object\n",
       "date_closed        object\n",
       "dim_status         object\n",
       "dim_source         object\n",
       "m_nb_customer       int64\n",
       "m_cached_payed    float64\n",
       "m_cached_price    float64\n",
       "dtype: object"
      ]
     },
     "execution_count": 220,
     "metadata": {},
     "output_type": "execute_result"
    }
   ],
   "source": [
    "order_data.dtypes"
   ]
  },
  {
   "cell_type": "code",
   "execution_count": 221,
   "metadata": {},
   "outputs": [
    {
     "name": "stdout",
     "output_type": "stream",
     "text": [
      "<class 'pandas.core.frame.DataFrame'>\n",
      "RangeIndex: 500 entries, 0 to 499\n",
      "Data columns (total 12 columns):\n",
      " #   Column          Non-Null Count  Dtype  \n",
      "---  ------          --------------  -----  \n",
      " 0   id_order        500 non-null    int64  \n",
      " 1   id_store        500 non-null    int64  \n",
      " 2   id_table        278 non-null    float64\n",
      " 3   id_waiter       490 non-null    float64\n",
      " 4   id_device       477 non-null    float64\n",
      " 5   date_opened     500 non-null    object \n",
      " 6   date_closed     500 non-null    object \n",
      " 7   dim_status      500 non-null    object \n",
      " 8   dim_source      411 non-null    object \n",
      " 9   m_nb_customer   500 non-null    int64  \n",
      " 10  m_cached_payed  500 non-null    float64\n",
      " 11  m_cached_price  500 non-null    float64\n",
      "dtypes: float64(5), int64(3), object(4)\n",
      "memory usage: 47.0+ KB\n"
     ]
    }
   ],
   "source": [
    "order_data.info()"
   ]
  },
  {
   "cell_type": "code",
   "execution_count": 222,
   "metadata": {},
   "outputs": [],
   "source": [
    "order_data[['id_order','id_store']] = order_data[['id_order','id_store']].astype(str)"
   ]
  },
  {
   "cell_type": "code",
   "execution_count": 223,
   "metadata": {},
   "outputs": [],
   "source": [
    "# order_data[['id_table', 'id_waiter', 'id_device']] = order_data[['id_table', 'id_waiter', 'id_device']].astype(str)"
   ]
  },
  {
   "cell_type": "code",
   "execution_count": 224,
   "metadata": {},
   "outputs": [],
   "source": [
    "order_data['date_opened'] = pd.to_datetime(order_data['date_opened'], format= \"%d/%m/%Y %H:%M:%S\")\n",
    "order_data['date_closed'] = pd.to_datetime(order_data['date_closed'], format= \"%d/%m/%Y %H:%M:%S\")"
   ]
  },
  {
   "cell_type": "code",
   "execution_count": 225,
   "metadata": {},
   "outputs": [
    {
     "data": {
      "text/plain": [
       "id_order            0\n",
       "id_store            0\n",
       "id_table          222\n",
       "id_waiter          10\n",
       "id_device          23\n",
       "date_opened         0\n",
       "date_closed         0\n",
       "dim_status          0\n",
       "dim_source         89\n",
       "m_nb_customer       0\n",
       "m_cached_payed      0\n",
       "m_cached_price      0\n",
       "dtype: int64"
      ]
     },
     "execution_count": 225,
     "metadata": {},
     "output_type": "execute_result"
    }
   ],
   "source": [
    "# Total number of missing values\n",
    "order_data.isnull().sum()"
   ]
  },
  {
   "cell_type": "code",
   "execution_count": 226,
   "metadata": {},
   "outputs": [
    {
     "data": {
      "text/plain": [
       "id_order           0.0\n",
       "id_store           0.0\n",
       "id_table          44.4\n",
       "id_waiter          2.0\n",
       "id_device          4.6\n",
       "date_opened        0.0\n",
       "date_closed        0.0\n",
       "dim_status         0.0\n",
       "dim_source        17.8\n",
       "m_nb_customer      0.0\n",
       "m_cached_payed     0.0\n",
       "m_cached_price     0.0\n",
       "dtype: float64"
      ]
     },
     "execution_count": 226,
     "metadata": {},
     "output_type": "execute_result"
    }
   ],
   "source": [
    "order_data.isnull().sum()/len(order_data)*100"
   ]
  },
  {
   "cell_type": "code",
   "execution_count": 227,
   "metadata": {},
   "outputs": [
    {
     "data": {
      "text/plain": [
       "<Axes: >"
      ]
     },
     "execution_count": 227,
     "metadata": {},
     "output_type": "execute_result"
    },
    {
     "data": {
      "image/png": "[encoded data removed]",
      "text/plain": [
       "<Figure size 640x480 with 2 Axes>"
      ]
     },
     "metadata": {},
     "output_type": "display_data"
    }
   ],
   "source": [
    "sns.heatmap(order_data.isnull() , yticklabels= False , cbar= True , cmap=\"viridis\" )"
   ]
  },
  {
   "cell_type": "markdown",
   "metadata": {},
   "source": [
    "Since the id_table has around 45% data missing, so we can drop this column."
   ]
  },
  {
   "cell_type": "code",
   "execution_count": 228,
   "metadata": {},
   "outputs": [],
   "source": [
    "order_data.drop(columns = \"id_table\" , inplace = True)"
   ]
  },
  {
   "cell_type": "code",
   "execution_count": 229,
   "metadata": {},
   "outputs": [
    {
     "data": {
      "text/html": [
       "<div>\n",
       "<style scoped>\n",
       "    .dataframe tbody tr th:only-of-type {\n",
       "        vertical-align: middle;\n",
       "    }\n",
       "\n",
       "    .dataframe tbody tr th {\n",
       "        vertical-align: top;\n",
       "    }\n",
       "\n",
       "    .dataframe thead th {\n",
       "        text-align: right;\n",
       "    }\n",
       "</style>\n",
       "<table border=\"1\" class=\"dataframe\">\n",
       "  <thead>\n",
       "    <tr style=\"text-align: right;\">\n",
       "      <th></th>\n",
       "      <th>id_order</th>\n",
       "      <th>id_store</th>\n",
       "      <th>id_waiter</th>\n",
       "      <th>id_device</th>\n",
       "      <th>date_opened</th>\n",
       "      <th>date_closed</th>\n",
       "      <th>dim_status</th>\n",
       "      <th>dim_source</th>\n",
       "      <th>m_nb_customer</th>\n",
       "      <th>m_cached_payed</th>\n",
       "      <th>m_cached_price</th>\n",
       "    </tr>\n",
       "  </thead>\n",
       "  <tbody>\n",
       "    <tr>\n",
       "      <th>203</th>\n",
       "      <td>67419062</td>\n",
       "      <td>7872</td>\n",
       "      <td>NaN</td>\n",
       "      <td>15009.0</td>\n",
       "      <td>2019-04-09 21:36:21</td>\n",
       "      <td>2019-04-09 21:36:54</td>\n",
       "      <td>CLOSED</td>\n",
       "      <td>Tiller iPAD</td>\n",
       "      <td>1</td>\n",
       "      <td>30.0</td>\n",
       "      <td>30.0</td>\n",
       "    </tr>\n",
       "    <tr>\n",
       "      <th>222</th>\n",
       "      <td>88964143</td>\n",
       "      <td>7872</td>\n",
       "      <td>NaN</td>\n",
       "      <td>15009.0</td>\n",
       "      <td>2019-08-24 20:53:07</td>\n",
       "      <td>2019-08-24 20:53:26</td>\n",
       "      <td>CLOSED</td>\n",
       "      <td>Tiller iPAD</td>\n",
       "      <td>1</td>\n",
       "      <td>25.0</td>\n",
       "      <td>25.0</td>\n",
       "    </tr>\n",
       "    <tr>\n",
       "      <th>233</th>\n",
       "      <td>50639223</td>\n",
       "      <td>8291</td>\n",
       "      <td>NaN</td>\n",
       "      <td>15747.0</td>\n",
       "      <td>2018-11-29 12:10:01</td>\n",
       "      <td>2018-11-29 16:18:34</td>\n",
       "      <td>CLOSED</td>\n",
       "      <td>Tiller iPAD</td>\n",
       "      <td>1</td>\n",
       "      <td>8.9</td>\n",
       "      <td>8.9</td>\n",
       "    </tr>\n",
       "    <tr>\n",
       "      <th>242</th>\n",
       "      <td>52200722</td>\n",
       "      <td>8291</td>\n",
       "      <td>NaN</td>\n",
       "      <td>15747.0</td>\n",
       "      <td>2018-12-10 11:18:16</td>\n",
       "      <td>2018-12-10 11:18:41</td>\n",
       "      <td>CLOSED</td>\n",
       "      <td>Tiller iPAD</td>\n",
       "      <td>1</td>\n",
       "      <td>8.9</td>\n",
       "      <td>8.9</td>\n",
       "    </tr>\n",
       "    <tr>\n",
       "      <th>355</th>\n",
       "      <td>49170536</td>\n",
       "      <td>8291</td>\n",
       "      <td>NaN</td>\n",
       "      <td>15747.0</td>\n",
       "      <td>2018-11-16 12:22:02</td>\n",
       "      <td>2018-11-16 12:22:24</td>\n",
       "      <td>CLOSED</td>\n",
       "      <td>Tiller iPAD</td>\n",
       "      <td>1</td>\n",
       "      <td>10.9</td>\n",
       "      <td>10.9</td>\n",
       "    </tr>\n",
       "    <tr>\n",
       "      <th>377</th>\n",
       "      <td>97051495</td>\n",
       "      <td>7872</td>\n",
       "      <td>NaN</td>\n",
       "      <td>15009.0</td>\n",
       "      <td>2019-10-09 17:37:27</td>\n",
       "      <td>2019-10-09 17:37:35</td>\n",
       "      <td>CLOSED</td>\n",
       "      <td>Tiller iPAD</td>\n",
       "      <td>1</td>\n",
       "      <td>45.0</td>\n",
       "      <td>45.0</td>\n",
       "    </tr>\n",
       "    <tr>\n",
       "      <th>420</th>\n",
       "      <td>113439250</td>\n",
       "      <td>7872</td>\n",
       "      <td>NaN</td>\n",
       "      <td>15009.0</td>\n",
       "      <td>2020-01-17 18:55:52</td>\n",
       "      <td>2020-01-17 18:55:58</td>\n",
       "      <td>CLOSED</td>\n",
       "      <td>Tiller iPAD</td>\n",
       "      <td>1</td>\n",
       "      <td>25.0</td>\n",
       "      <td>25.0</td>\n",
       "    </tr>\n",
       "    <tr>\n",
       "      <th>432</th>\n",
       "      <td>95632856</td>\n",
       "      <td>7872</td>\n",
       "      <td>NaN</td>\n",
       "      <td>15009.0</td>\n",
       "      <td>2019-10-01 20:59:24</td>\n",
       "      <td>2019-10-01 21:00:02</td>\n",
       "      <td>CLOSED</td>\n",
       "      <td>Tiller iPAD</td>\n",
       "      <td>1</td>\n",
       "      <td>30.0</td>\n",
       "      <td>30.0</td>\n",
       "    </tr>\n",
       "    <tr>\n",
       "      <th>473</th>\n",
       "      <td>86371443</td>\n",
       "      <td>7872</td>\n",
       "      <td>NaN</td>\n",
       "      <td>15009.0</td>\n",
       "      <td>2019-08-06 19:10:37</td>\n",
       "      <td>2019-08-06 20:04:22</td>\n",
       "      <td>CLOSED</td>\n",
       "      <td>Tiller iPAD</td>\n",
       "      <td>1</td>\n",
       "      <td>55.0</td>\n",
       "      <td>55.0</td>\n",
       "    </tr>\n",
       "    <tr>\n",
       "      <th>487</th>\n",
       "      <td>50386223</td>\n",
       "      <td>8291</td>\n",
       "      <td>NaN</td>\n",
       "      <td>15747.0</td>\n",
       "      <td>2018-11-27 11:28:03</td>\n",
       "      <td>2018-11-27 15:08:35</td>\n",
       "      <td>CLOSED</td>\n",
       "      <td>Tiller iPAD</td>\n",
       "      <td>1</td>\n",
       "      <td>20.8</td>\n",
       "      <td>20.8</td>\n",
       "    </tr>\n",
       "  </tbody>\n",
       "</table>\n",
       "</div>"
      ],
      "text/plain": [
       "      id_order id_store  id_waiter  id_device         date_opened  \\\n",
       "203   67419062     7872        NaN    15009.0 2019-04-09 21:36:21   \n",
       "222   88964143     7872        NaN    15009.0 2019-08-24 20:53:07   \n",
       "233   50639223     8291        NaN    15747.0 2018-11-29 12:10:01   \n",
       "242   52200722     8291        NaN    15747.0 2018-12-10 11:18:16   \n",
       "355   49170536     8291        NaN    15747.0 2018-11-16 12:22:02   \n",
       "377   97051495     7872        NaN    15009.0 2019-10-09 17:37:27   \n",
       "420  113439250     7872        NaN    15009.0 2020-01-17 18:55:52   \n",
       "432   95632856     7872        NaN    15009.0 2019-10-01 20:59:24   \n",
       "473   86371443     7872        NaN    15009.0 2019-08-06 19:10:37   \n",
       "487   50386223     8291        NaN    15747.0 2018-11-27 11:28:03   \n",
       "\n",
       "            date_closed dim_status   dim_source  m_nb_customer  \\\n",
       "203 2019-04-09 21:36:54     CLOSED  Tiller iPAD              1   \n",
       "222 2019-08-24 20:53:26     CLOSED  Tiller iPAD              1   \n",
       "233 2018-11-29 16:18:34     CLOSED  Tiller iPAD              1   \n",
       "242 2018-12-10 11:18:41     CLOSED  Tiller iPAD              1   \n",
       "355 2018-11-16 12:22:24     CLOSED  Tiller iPAD              1   \n",
       "377 2019-10-09 17:37:35     CLOSED  Tiller iPAD              1   \n",
       "420 2020-01-17 18:55:58     CLOSED  Tiller iPAD              1   \n",
       "432 2019-10-01 21:00:02     CLOSED  Tiller iPAD              1   \n",
       "473 2019-08-06 20:04:22     CLOSED  Tiller iPAD              1   \n",
       "487 2018-11-27 15:08:35     CLOSED  Tiller iPAD              1   \n",
       "\n",
       "     m_cached_payed  m_cached_price  \n",
       "203            30.0            30.0  \n",
       "222            25.0            25.0  \n",
       "233             8.9             8.9  \n",
       "242             8.9             8.9  \n",
       "355            10.9            10.9  \n",
       "377            45.0            45.0  \n",
       "420            25.0            25.0  \n",
       "432            30.0            30.0  \n",
       "473            55.0            55.0  \n",
       "487            20.8            20.8  "
      ]
     },
     "execution_count": 229,
     "metadata": {},
     "output_type": "execute_result"
    }
   ],
   "source": [
    "order_data[order_data['id_waiter'].isnull()]"
   ]
  },
  {
   "cell_type": "code",
   "execution_count": 230,
   "metadata": {},
   "outputs": [
    {
     "data": {
      "text/plain": [
       "38"
      ]
     },
     "execution_count": 230,
     "metadata": {},
     "output_type": "execute_result"
    }
   ],
   "source": [
    "order_data['id_waiter'].nunique()"
   ]
  },
  {
   "cell_type": "code",
   "execution_count": 231,
   "metadata": {},
   "outputs": [
    {
     "data": {
      "text/plain": [
       "id_waiter\n",
       "16823.0    55\n",
       "2464.0     54\n",
       "461.0      37\n",
       "14302.0    35\n",
       "2752.0     32\n",
       "1095.0     27\n",
       "472.0      25\n",
       "2753.0     25\n",
       "12894.0    18\n",
       "9270.0     18\n",
       "10990.0    13\n",
       "15509.0    12\n",
       "7225.0     12\n",
       "8257.0     12\n",
       "13318.0    11\n",
       "10411.0    11\n",
       "17650.0     9\n",
       "9137.0      9\n",
       "10627.0     8\n",
       "10991.0     8\n",
       "14172.0     7\n",
       "7185.0      6\n",
       "22355.0     6\n",
       "9665.0      5\n",
       "10977.0     5\n",
       "6693.0      4\n",
       "26319.0     4\n",
       "25560.0     4\n",
       "10628.0     3\n",
       "15756.0     2\n",
       "972.0       2\n",
       "25250.0     2\n",
       "17052.0     2\n",
       "20061.0     2\n",
       "11211.0     2\n",
       "24920.0     1\n",
       "8303.0      1\n",
       "12873.0     1\n",
       "Name: count, dtype: int64"
      ]
     },
     "execution_count": 231,
     "metadata": {},
     "output_type": "execute_result"
    }
   ],
   "source": [
    "order_data['id_waiter'].value_counts()"
   ]
  },
  {
   "cell_type": "markdown",
   "metadata": {},
   "source": [
    "Since the waiter id is under 2% and 10 in total number, so we can replace it with mode. "
   ]
  },
  {
   "cell_type": "code",
   "execution_count": 232,
   "metadata": {},
   "outputs": [
    {
     "data": {
      "text/plain": [
       "16823.0"
      ]
     },
     "execution_count": 232,
     "metadata": {},
     "output_type": "execute_result"
    }
   ],
   "source": [
    "waiter_mode = order_data['id_waiter'].mode() [0]\n",
    "waiter_mode"
   ]
  },
  {
   "cell_type": "code",
   "execution_count": 233,
   "metadata": {},
   "outputs": [],
   "source": [
    "order_data['id_waiter'].fillna(waiter_mode, inplace = True )"
   ]
  },
  {
   "cell_type": "code",
   "execution_count": 234,
   "metadata": {},
   "outputs": [
    {
     "data": {
      "text/plain": [
       "30"
      ]
     },
     "execution_count": 234,
     "metadata": {},
     "output_type": "execute_result"
    }
   ],
   "source": [
    "order_data['id_device'].nunique()"
   ]
  },
  {
   "cell_type": "code",
   "execution_count": 235,
   "metadata": {},
   "outputs": [
    {
     "data": {
      "text/plain": [
       "id_device\n",
       "424.0      47\n",
       "15747.0    44\n",
       "13022.0    38\n",
       "5949.0     32\n",
       "128.0      29\n",
       "9251.0     27\n",
       "129.0      25\n",
       "13026.0    21\n",
       "11065.0    20\n",
       "15760.0    19\n",
       "10214.0    18\n",
       "3063.0     18\n",
       "6780.0     17\n",
       "754.0      16\n",
       "6153.0     15\n",
       "14854.0    13\n",
       "8270.0     13\n",
       "10625.0    11\n",
       "13929.0    10\n",
       "15758.0     9\n",
       "15009.0     8\n",
       "755.0       6\n",
       "716.0       5\n",
       "10064.0     5\n",
       "13930.0     3\n",
       "3064.0      2\n",
       "11020.0     2\n",
       "25379.0     2\n",
       "757.0       1\n",
       "7011.0      1\n",
       "Name: count, dtype: int64"
      ]
     },
     "execution_count": 235,
     "metadata": {},
     "output_type": "execute_result"
    }
   ],
   "source": [
    "order_data['id_device'].value_counts()"
   ]
  },
  {
   "cell_type": "markdown",
   "metadata": {},
   "source": [
    "Since the id device is 23 in total number, which one of top entries of data, so we can't replace it with the mode rather remove all the indexes where id device is null."
   ]
  },
  {
   "cell_type": "code",
   "execution_count": 236,
   "metadata": {},
   "outputs": [
    {
     "data": {
      "text/plain": [
       "Index([ 14,  20,  56,  57, 120, 121, 122, 123, 131, 171, 172, 236, 298, 299,\n",
       "       358, 427, 428, 431, 433, 488, 489, 490, 492],\n",
       "      dtype='int64')"
      ]
     },
     "execution_count": 236,
     "metadata": {},
     "output_type": "execute_result"
    }
   ],
   "source": [
    "device_drop_index = order_data[order_data['id_device'].isnull()].index\n",
    "device_drop_index"
   ]
  },
  {
   "cell_type": "code",
   "execution_count": 237,
   "metadata": {},
   "outputs": [],
   "source": [
    "order_data.drop(index= device_drop_index, inplace=True, axis=0)"
   ]
  },
  {
   "cell_type": "code",
   "execution_count": 238,
   "metadata": {},
   "outputs": [
    {
     "data": {
      "text/plain": [
       "dim_source\n",
       "Tiller iPAD     329\n",
       "tiller-order     78\n",
       "Name: count, dtype: int64"
      ]
     },
     "execution_count": 238,
     "metadata": {},
     "output_type": "execute_result"
    }
   ],
   "source": [
    "order_data['dim_source'].value_counts()"
   ]
  },
  {
   "cell_type": "code",
   "execution_count": 239,
   "metadata": {},
   "outputs": [
    {
     "data": {
      "text/plain": [
       "dim_source\n",
       "Tiller iPAD     68.972746\n",
       "tiller-order    16.352201\n",
       "Name: count, dtype: float64"
      ]
     },
     "execution_count": 239,
     "metadata": {},
     "output_type": "execute_result"
    }
   ],
   "source": [
    "order_data['dim_source'].value_counts()/len(order_data)*100"
   ]
  },
  {
   "cell_type": "markdown",
   "metadata": {},
   "source": [
    "Since the difference between Tiller iPAD and Tiller Order is very much, so we will fill the missing values with higher weightage of Tiller iPAD"
   ]
  },
  {
   "cell_type": "code",
   "execution_count": 240,
   "metadata": {},
   "outputs": [],
   "source": [
    "order_data['dim_source'].fillna('Tiller iPAD', axis = 0, inplace = True)"
   ]
  },
  {
   "cell_type": "code",
   "execution_count": 241,
   "metadata": {},
   "outputs": [],
   "source": [
    "# To standardrize the entries of data in dim_source column\n",
    "order_data['dim_source'].replace('tiller-order' , 'Tiller order' , inplace = True)"
   ]
  },
  {
   "cell_type": "code",
   "execution_count": 242,
   "metadata": {},
   "outputs": [
    {
     "data": {
      "text/plain": [
       "id_order          0\n",
       "id_store          0\n",
       "id_waiter         0\n",
       "id_device         0\n",
       "date_opened       0\n",
       "date_closed       0\n",
       "dim_status        0\n",
       "dim_source        0\n",
       "m_nb_customer     0\n",
       "m_cached_payed    0\n",
       "m_cached_price    0\n",
       "dtype: int64"
      ]
     },
     "execution_count": 242,
     "metadata": {},
     "output_type": "execute_result"
    }
   ],
   "source": [
    "order_data.isnull().sum()"
   ]
  },
  {
   "cell_type": "code",
   "execution_count": 243,
   "metadata": {},
   "outputs": [],
   "source": [
    "# Exporting the Cleaned Order Data Set to csv\n",
    "order_data.to_csv('Order_data_Cleaned.csv', index=False)"
   ]
  },
  {
   "cell_type": "markdown",
   "metadata": {},
   "source": [
    "## Order Line"
   ]
  },
  {
   "cell_type": "code",
   "execution_count": 244,
   "metadata": {},
   "outputs": [],
   "source": [
    "# Loading the Order Data from the csv file\n",
    "order_line = pd.read_csv('Data_Files/order_line.csv')"
   ]
  },
  {
   "cell_type": "code",
   "execution_count": 245,
   "metadata": {},
   "outputs": [
    {
     "data": {
      "text/plain": [
       "(500, 20)"
      ]
     },
     "execution_count": 245,
     "metadata": {},
     "output_type": "execute_result"
    }
   ],
   "source": [
    "order_line.shape"
   ]
  },
  {
   "cell_type": "code",
   "execution_count": 246,
   "metadata": {},
   "outputs": [
    {
     "data": {
      "text/html": [
       "<div>\n",
       "<style scoped>\n",
       "    .dataframe tbody tr th:only-of-type {\n",
       "        vertical-align: middle;\n",
       "    }\n",
       "\n",
       "    .dataframe tbody tr th {\n",
       "        vertical-align: top;\n",
       "    }\n",
       "\n",
       "    .dataframe thead th {\n",
       "        text-align: right;\n",
       "    }\n",
       "</style>\n",
       "<table border=\"1\" class=\"dataframe\">\n",
       "  <thead>\n",
       "    <tr style=\"text-align: right;\">\n",
       "      <th></th>\n",
       "      <th>id_order_line</th>\n",
       "      <th>id_order</th>\n",
       "      <th>date_opended</th>\n",
       "      <th>date_created</th>\n",
       "      <th>m_quantity</th>\n",
       "      <th>m_unit_price</th>\n",
       "      <th>m_unit_price_exc_vat</th>\n",
       "      <th>m_total_price_inc_vat</th>\n",
       "      <th>m_total_price_exc_vat</th>\n",
       "      <th>m_tax_percent</th>\n",
       "      <th>m_discount_amount</th>\n",
       "      <th>dim_type</th>\n",
       "      <th>dim_category</th>\n",
       "      <th>dim_name</th>\n",
       "      <th>dim_status</th>\n",
       "      <th>dim_feature_type</th>\n",
       "      <th>dim_unit_measure</th>\n",
       "      <th>dim_unit_measure_display</th>\n",
       "      <th>dim_category_translated</th>\n",
       "      <th>dim_name_translated</th>\n",
       "    </tr>\n",
       "  </thead>\n",
       "  <tbody>\n",
       "    <tr>\n",
       "      <th>0</th>\n",
       "      <td>36303668</td>\n",
       "      <td>7901432</td>\n",
       "      <td>29/04/2017 20:38:13</td>\n",
       "      <td>29/04/2017 20:38:13</td>\n",
       "      <td>1</td>\n",
       "      <td>0</td>\n",
       "      <td>0</td>\n",
       "      <td>0</td>\n",
       "      <td>0</td>\n",
       "      <td>0.2</td>\n",
       "      <td>0</td>\n",
       "      <td>OPTION</td>\n",
       "      <td>Martini 15 cl</td>\n",
       "      <td>Gin</td>\n",
       "      <td>WAITING</td>\n",
       "      <td>NaN</td>\n",
       "      <td>NaN</td>\n",
       "      <td>NaN</td>\n",
       "      <td>Martini 15 cl</td>\n",
       "      <td>Gin</td>\n",
       "    </tr>\n",
       "    <tr>\n",
       "      <th>1</th>\n",
       "      <td>160656467</td>\n",
       "      <td>35669117</td>\n",
       "      <td>18/07/2018 12:55:12</td>\n",
       "      <td>18/07/2018 13:09:03</td>\n",
       "      <td>1</td>\n",
       "      <td>0</td>\n",
       "      <td>0</td>\n",
       "      <td>0</td>\n",
       "      <td>0</td>\n",
       "      <td>0.1</td>\n",
       "      <td>0</td>\n",
       "      <td>PRODUCT</td>\n",
       "      <td>WRAP DE SARRASIN</td>\n",
       "      <td>NYC</td>\n",
       "      <td>WAITING</td>\n",
       "      <td>NaN</td>\n",
       "      <td>NaN</td>\n",
       "      <td>NaN</td>\n",
       "      <td>BUCKWHEAT WRAP</td>\n",
       "      <td>NYC</td>\n",
       "    </tr>\n",
       "    <tr>\n",
       "      <th>2</th>\n",
       "      <td>127895661</td>\n",
       "      <td>27274572</td>\n",
       "      <td>27/04/2018 10:44:45</td>\n",
       "      <td>27/04/2018 10:49:04</td>\n",
       "      <td>1</td>\n",
       "      <td>0</td>\n",
       "      <td>0</td>\n",
       "      <td>0</td>\n",
       "      <td>0</td>\n",
       "      <td>0.1</td>\n",
       "      <td>0</td>\n",
       "      <td>PRODUCT</td>\n",
       "      <td>BREIZH'N'ROLL</td>\n",
       "      <td>NYC</td>\n",
       "      <td>IN_PROGRESS</td>\n",
       "      <td>NaN</td>\n",
       "      <td>NaN</td>\n",
       "      <td>NaN</td>\n",
       "      <td>BREIZH&amp;#39;N&amp;#39;ROLL</td>\n",
       "      <td>NYC</td>\n",
       "    </tr>\n",
       "    <tr>\n",
       "      <th>3</th>\n",
       "      <td>124934060</td>\n",
       "      <td>26512568</td>\n",
       "      <td>19/04/2018 10:35:06</td>\n",
       "      <td>19/04/2018 10:35:20</td>\n",
       "      <td>1</td>\n",
       "      <td>0</td>\n",
       "      <td>0</td>\n",
       "      <td>0</td>\n",
       "      <td>0</td>\n",
       "      <td>0.1</td>\n",
       "      <td>0</td>\n",
       "      <td>PRODUCT</td>\n",
       "      <td>BREIZH'N'ROLL</td>\n",
       "      <td>NYC</td>\n",
       "      <td>IN_PROGRESS</td>\n",
       "      <td>NaN</td>\n",
       "      <td>NaN</td>\n",
       "      <td>NaN</td>\n",
       "      <td>BREIZH&amp;#39;N&amp;#39;ROLL</td>\n",
       "      <td>NYC</td>\n",
       "    </tr>\n",
       "    <tr>\n",
       "      <th>4</th>\n",
       "      <td>83606925</td>\n",
       "      <td>16715607</td>\n",
       "      <td>24/11/2017 12:35:38</td>\n",
       "      <td>24/11/2017 12:36:19</td>\n",
       "      <td>1</td>\n",
       "      <td>0</td>\n",
       "      <td>0</td>\n",
       "      <td>0</td>\n",
       "      <td>0</td>\n",
       "      <td>0.1</td>\n",
       "      <td>0</td>\n",
       "      <td>PRODUCT</td>\n",
       "      <td>BREIZH'N'ROLL</td>\n",
       "      <td>NYC</td>\n",
       "      <td>IN_PROGRESS</td>\n",
       "      <td>NaN</td>\n",
       "      <td>NaN</td>\n",
       "      <td>NaN</td>\n",
       "      <td>BREIZH&amp;#39;N&amp;#39;ROLL</td>\n",
       "      <td>NYC</td>\n",
       "    </tr>\n",
       "  </tbody>\n",
       "</table>\n",
       "</div>"
      ],
      "text/plain": [
       "   id_order_line  id_order         date_opended         date_created  \\\n",
       "0       36303668   7901432  29/04/2017 20:38:13  29/04/2017 20:38:13   \n",
       "1      160656467  35669117  18/07/2018 12:55:12  18/07/2018 13:09:03   \n",
       "2      127895661  27274572  27/04/2018 10:44:45  27/04/2018 10:49:04   \n",
       "3      124934060  26512568  19/04/2018 10:35:06  19/04/2018 10:35:20   \n",
       "4       83606925  16715607  24/11/2017 12:35:38  24/11/2017 12:36:19   \n",
       "\n",
       "   m_quantity  m_unit_price  m_unit_price_exc_vat  m_total_price_inc_vat  \\\n",
       "0           1             0                     0                      0   \n",
       "1           1             0                     0                      0   \n",
       "2           1             0                     0                      0   \n",
       "3           1             0                     0                      0   \n",
       "4           1             0                     0                      0   \n",
       "\n",
       "   m_total_price_exc_vat  m_tax_percent  m_discount_amount dim_type  \\\n",
       "0                      0            0.2                  0   OPTION   \n",
       "1                      0            0.1                  0  PRODUCT   \n",
       "2                      0            0.1                  0  PRODUCT   \n",
       "3                      0            0.1                  0  PRODUCT   \n",
       "4                      0            0.1                  0  PRODUCT   \n",
       "\n",
       "       dim_category dim_name   dim_status dim_feature_type dim_unit_measure  \\\n",
       "0     Martini 15 cl      Gin      WAITING              NaN              NaN   \n",
       "1  WRAP DE SARRASIN      NYC      WAITING              NaN              NaN   \n",
       "2     BREIZH'N'ROLL      NYC  IN_PROGRESS              NaN              NaN   \n",
       "3     BREIZH'N'ROLL      NYC  IN_PROGRESS              NaN              NaN   \n",
       "4     BREIZH'N'ROLL      NYC  IN_PROGRESS              NaN              NaN   \n",
       "\n",
       "  dim_unit_measure_display dim_category_translated dim_name_translated  \n",
       "0                      NaN           Martini 15 cl                 Gin  \n",
       "1                      NaN          BUCKWHEAT WRAP                 NYC  \n",
       "2                      NaN   BREIZH&#39;N&#39;ROLL                 NYC  \n",
       "3                      NaN   BREIZH&#39;N&#39;ROLL                 NYC  \n",
       "4                      NaN   BREIZH&#39;N&#39;ROLL                 NYC  "
      ]
     },
     "execution_count": 246,
     "metadata": {},
     "output_type": "execute_result"
    }
   ],
   "source": [
    "order_line.head()"
   ]
  },
  {
   "cell_type": "code",
   "execution_count": 247,
   "metadata": {},
   "outputs": [
    {
     "data": {
      "text/plain": [
       "id_order_line                 int64\n",
       "id_order                      int64\n",
       "date_opended                 object\n",
       "date_created                 object\n",
       "m_quantity                    int64\n",
       "m_unit_price                  int64\n",
       "m_unit_price_exc_vat          int64\n",
       "m_total_price_inc_vat         int64\n",
       "m_total_price_exc_vat         int64\n",
       "m_tax_percent               float64\n",
       "m_discount_amount             int64\n",
       "dim_type                     object\n",
       "dim_category                 object\n",
       "dim_name                     object\n",
       "dim_status                   object\n",
       "dim_feature_type             object\n",
       "dim_unit_measure             object\n",
       "dim_unit_measure_display     object\n",
       "dim_category_translated      object\n",
       "dim_name_translated          object\n",
       "dtype: object"
      ]
     },
     "execution_count": 247,
     "metadata": {},
     "output_type": "execute_result"
    }
   ],
   "source": [
    "order_line.dtypes"
   ]
  },
  {
   "cell_type": "code",
   "execution_count": 248,
   "metadata": {},
   "outputs": [
    {
     "name": "stdout",
     "output_type": "stream",
     "text": [
      "<class 'pandas.core.frame.DataFrame'>\n",
      "RangeIndex: 500 entries, 0 to 499\n",
      "Data columns (total 20 columns):\n",
      " #   Column                    Non-Null Count  Dtype  \n",
      "---  ------                    --------------  -----  \n",
      " 0   id_order_line             500 non-null    int64  \n",
      " 1   id_order                  500 non-null    int64  \n",
      " 2   date_opended              500 non-null    object \n",
      " 3   date_created              500 non-null    object \n",
      " 4   m_quantity                500 non-null    int64  \n",
      " 5   m_unit_price              500 non-null    int64  \n",
      " 6   m_unit_price_exc_vat      500 non-null    int64  \n",
      " 7   m_total_price_inc_vat     500 non-null    int64  \n",
      " 8   m_total_price_exc_vat     500 non-null    int64  \n",
      " 9   m_tax_percent             500 non-null    float64\n",
      " 10  m_discount_amount         500 non-null    int64  \n",
      " 11  dim_type                  500 non-null    object \n",
      " 12  dim_category              500 non-null    object \n",
      " 13  dim_name                  500 non-null    object \n",
      " 14  dim_status                500 non-null    object \n",
      " 15  dim_feature_type          3 non-null      object \n",
      " 16  dim_unit_measure          73 non-null     object \n",
      " 17  dim_unit_measure_display  73 non-null     object \n",
      " 18  dim_category_translated   500 non-null    object \n",
      " 19  dim_name_translated       500 non-null    object \n",
      "dtypes: float64(1), int64(8), object(11)\n",
      "memory usage: 78.2+ KB\n"
     ]
    }
   ],
   "source": [
    "order_line.info()"
   ]
  },
  {
   "cell_type": "code",
   "execution_count": 249,
   "metadata": {},
   "outputs": [],
   "source": [
    "order_line[['id_order_line','id_order']] = order_line[['id_order_line','id_order']].astype(str)"
   ]
  },
  {
   "cell_type": "code",
   "execution_count": 250,
   "metadata": {},
   "outputs": [],
   "source": [
    "order_line['date_opended'] = pd.to_datetime(order_line['date_opended'], format= \"%d/%m/%Y %H:%M:%S\")\n",
    "order_line['date_created'] = pd.to_datetime(order_line['date_created'], format= \"%d/%m/%Y %H:%M:%S\")"
   ]
  },
  {
   "cell_type": "code",
   "execution_count": 251,
   "metadata": {},
   "outputs": [
    {
     "data": {
      "text/plain": [
       "id_order_line                 0\n",
       "id_order                      0\n",
       "date_opended                  0\n",
       "date_created                  0\n",
       "m_quantity                    0\n",
       "m_unit_price                  0\n",
       "m_unit_price_exc_vat          0\n",
       "m_total_price_inc_vat         0\n",
       "m_total_price_exc_vat         0\n",
       "m_tax_percent                 0\n",
       "m_discount_amount             0\n",
       "dim_type                      0\n",
       "dim_category                  0\n",
       "dim_name                      0\n",
       "dim_status                    0\n",
       "dim_feature_type            497\n",
       "dim_unit_measure            427\n",
       "dim_unit_measure_display    427\n",
       "dim_category_translated       0\n",
       "dim_name_translated           0\n",
       "dtype: int64"
      ]
     },
     "execution_count": 251,
     "metadata": {},
     "output_type": "execute_result"
    }
   ],
   "source": [
    "# Total number of missing values\n",
    "order_line.isnull().sum()"
   ]
  },
  {
   "cell_type": "code",
   "execution_count": 252,
   "metadata": {},
   "outputs": [
    {
     "data": {
      "text/plain": [
       "id_order_line                0.0\n",
       "id_order                     0.0\n",
       "date_opended                 0.0\n",
       "date_created                 0.0\n",
       "m_quantity                   0.0\n",
       "m_unit_price                 0.0\n",
       "m_unit_price_exc_vat         0.0\n",
       "m_total_price_inc_vat        0.0\n",
       "m_total_price_exc_vat        0.0\n",
       "m_tax_percent                0.0\n",
       "m_discount_amount            0.0\n",
       "dim_type                     0.0\n",
       "dim_category                 0.0\n",
       "dim_name                     0.0\n",
       "dim_status                   0.0\n",
       "dim_feature_type            99.4\n",
       "dim_unit_measure            85.4\n",
       "dim_unit_measure_display    85.4\n",
       "dim_category_translated      0.0\n",
       "dim_name_translated          0.0\n",
       "dtype: float64"
      ]
     },
     "execution_count": 252,
     "metadata": {},
     "output_type": "execute_result"
    }
   ],
   "source": [
    "# Total percentage of missing values\n",
    "order_line.isnull().sum()/len(order_line)*100"
   ]
  },
  {
   "cell_type": "code",
   "execution_count": 253,
   "metadata": {},
   "outputs": [],
   "source": [
    "order_line.drop( columns=[\"dim_feature_type\",\"dim_unit_measure\",\"dim_unit_measure_display\"] , inplace = True)"
   ]
  },
  {
   "cell_type": "code",
   "execution_count": 254,
   "metadata": {},
   "outputs": [
    {
     "data": {
      "text/plain": [
       "id_order_line              0\n",
       "id_order                   0\n",
       "date_opended               0\n",
       "date_created               0\n",
       "m_quantity                 0\n",
       "m_unit_price               0\n",
       "m_unit_price_exc_vat       0\n",
       "m_total_price_inc_vat      0\n",
       "m_total_price_exc_vat      0\n",
       "m_tax_percent              0\n",
       "m_discount_amount          0\n",
       "dim_type                   0\n",
       "dim_category               0\n",
       "dim_name                   0\n",
       "dim_status                 0\n",
       "dim_category_translated    0\n",
       "dim_name_translated        0\n",
       "dtype: int64"
      ]
     },
     "execution_count": 254,
     "metadata": {},
     "output_type": "execute_result"
    }
   ],
   "source": [
    "order_line.isnull().sum()"
   ]
  },
  {
   "cell_type": "code",
   "execution_count": 255,
   "metadata": {},
   "outputs": [],
   "source": [
    "# To standardrize the entries of data in dim_category column\n",
    "order_line['dim_category'].replace('Cuisson' , 'Cuissons' , inplace = True)"
   ]
  },
  {
   "cell_type": "code",
   "execution_count": 256,
   "metadata": {},
   "outputs": [],
   "source": [
    "# To standardrize the entries of data in dim_category_translated column\n",
    "order_line['dim_category_translated'].replace('COOKINGS' , 'cooking' , inplace = True)"
   ]
  },
  {
   "cell_type": "code",
   "execution_count": 257,
   "metadata": {},
   "outputs": [],
   "source": [
    "# Exporting the Order line Set to csv\n",
    "order_line.to_csv('Order_line_Cleaned.csv', index=False)"
   ]
  },
  {
   "cell_type": "markdown",
   "metadata": {},
   "source": [
    "## Payment Data"
   ]
  },
  {
   "cell_type": "code",
   "execution_count": 258,
   "metadata": {},
   "outputs": [],
   "source": [
    "# Loading the Order Data from the csv file\n",
    "payment = pd.read_csv('Data_Files/payment_data.csv')"
   ]
  },
  {
   "cell_type": "code",
   "execution_count": 259,
   "metadata": {},
   "outputs": [
    {
     "data": {
      "text/plain": [
       "(500, 8)"
      ]
     },
     "execution_count": 259,
     "metadata": {},
     "output_type": "execute_result"
    }
   ],
   "source": [
    "payment.shape"
   ]
  },
  {
   "cell_type": "code",
   "execution_count": 260,
   "metadata": {},
   "outputs": [
    {
     "data": {
      "text/html": [
       "<div>\n",
       "<style scoped>\n",
       "    .dataframe tbody tr th:only-of-type {\n",
       "        vertical-align: middle;\n",
       "    }\n",
       "\n",
       "    .dataframe tbody tr th {\n",
       "        vertical-align: top;\n",
       "    }\n",
       "\n",
       "    .dataframe thead th {\n",
       "        text-align: right;\n",
       "    }\n",
       "</style>\n",
       "<table border=\"1\" class=\"dataframe\">\n",
       "  <thead>\n",
       "    <tr style=\"text-align: right;\">\n",
       "      <th></th>\n",
       "      <th>id_pay</th>\n",
       "      <th>id_order</th>\n",
       "      <th>dim_status</th>\n",
       "      <th>dim_type</th>\n",
       "      <th>m_amount</th>\n",
       "      <th>m_cashback</th>\n",
       "      <th>m_credit</th>\n",
       "      <th>date_created</th>\n",
       "    </tr>\n",
       "  </thead>\n",
       "  <tbody>\n",
       "    <tr>\n",
       "      <th>0</th>\n",
       "      <td>51132874</td>\n",
       "      <td>37856999</td>\n",
       "      <td>ACCEPTED</td>\n",
       "      <td>CB_Sans_Contact</td>\n",
       "      <td>16.1</td>\n",
       "      <td>0</td>\n",
       "      <td>0</td>\n",
       "      <td>08/08/2018 12:17:22</td>\n",
       "    </tr>\n",
       "    <tr>\n",
       "      <th>1</th>\n",
       "      <td>29021533</td>\n",
       "      <td>20355020</td>\n",
       "      <td>ACCEPTED</td>\n",
       "      <td>CB_Sans_Contact</td>\n",
       "      <td>13.9</td>\n",
       "      <td>0</td>\n",
       "      <td>0</td>\n",
       "      <td>31/01/2018 12:49:26</td>\n",
       "    </tr>\n",
       "    <tr>\n",
       "      <th>2</th>\n",
       "      <td>180172825</td>\n",
       "      <td>143751020</td>\n",
       "      <td>ACCEPTED</td>\n",
       "      <td>CB_SANS_CONTACT</td>\n",
       "      <td>25.3</td>\n",
       "      <td>0</td>\n",
       "      <td>0</td>\n",
       "      <td>23/09/2020 12:51:19</td>\n",
       "    </tr>\n",
       "    <tr>\n",
       "      <th>3</th>\n",
       "      <td>114043888</td>\n",
       "      <td>88950069</td>\n",
       "      <td>ACCEPTED</td>\n",
       "      <td>AMERICAN_EXPRESS</td>\n",
       "      <td>75.6</td>\n",
       "      <td>0</td>\n",
       "      <td>0</td>\n",
       "      <td>24/08/2019 19:31:05</td>\n",
       "    </tr>\n",
       "    <tr>\n",
       "      <th>4</th>\n",
       "      <td>32433714</td>\n",
       "      <td>22894007</td>\n",
       "      <td>ACCEPTED</td>\n",
       "      <td>BANK_TRANSFER</td>\n",
       "      <td>66.0</td>\n",
       "      <td>0</td>\n",
       "      <td>0</td>\n",
       "      <td>08/03/2018 14:00:10</td>\n",
       "    </tr>\n",
       "  </tbody>\n",
       "</table>\n",
       "</div>"
      ],
      "text/plain": [
       "      id_pay   id_order dim_status          dim_type  m_amount  m_cashback  \\\n",
       "0   51132874   37856999   ACCEPTED   CB_Sans_Contact      16.1           0   \n",
       "1   29021533   20355020   ACCEPTED   CB_Sans_Contact      13.9           0   \n",
       "2  180172825  143751020   ACCEPTED   CB_SANS_CONTACT      25.3           0   \n",
       "3  114043888   88950069   ACCEPTED  AMERICAN_EXPRESS      75.6           0   \n",
       "4   32433714   22894007   ACCEPTED     BANK_TRANSFER      66.0           0   \n",
       "\n",
       "   m_credit         date_created  \n",
       "0         0  08/08/2018 12:17:22  \n",
       "1         0  31/01/2018 12:49:26  \n",
       "2         0  23/09/2020 12:51:19  \n",
       "3         0  24/08/2019 19:31:05  \n",
       "4         0  08/03/2018 14:00:10  "
      ]
     },
     "execution_count": 260,
     "metadata": {},
     "output_type": "execute_result"
    }
   ],
   "source": [
    "payment.head()"
   ]
  },
  {
   "cell_type": "code",
   "execution_count": 261,
   "metadata": {},
   "outputs": [
    {
     "name": "stdout",
     "output_type": "stream",
     "text": [
      "<class 'pandas.core.frame.DataFrame'>\n",
      "RangeIndex: 500 entries, 0 to 499\n",
      "Data columns (total 8 columns):\n",
      " #   Column        Non-Null Count  Dtype  \n",
      "---  ------        --------------  -----  \n",
      " 0   id_pay        500 non-null    int64  \n",
      " 1   id_order      500 non-null    int64  \n",
      " 2   dim_status    500 non-null    object \n",
      " 3   dim_type      500 non-null    object \n",
      " 4   m_amount      500 non-null    float64\n",
      " 5   m_cashback    500 non-null    int64  \n",
      " 6   m_credit      500 non-null    int64  \n",
      " 7   date_created  500 non-null    object \n",
      "dtypes: float64(1), int64(4), object(3)\n",
      "memory usage: 31.4+ KB\n"
     ]
    }
   ],
   "source": [
    "payment.info()"
   ]
  },
  {
   "cell_type": "code",
   "execution_count": 262,
   "metadata": {},
   "outputs": [
    {
     "data": {
      "text/plain": [
       "id_pay            int64\n",
       "id_order          int64\n",
       "dim_status       object\n",
       "dim_type         object\n",
       "m_amount        float64\n",
       "m_cashback        int64\n",
       "m_credit          int64\n",
       "date_created     object\n",
       "dtype: object"
      ]
     },
     "execution_count": 262,
     "metadata": {},
     "output_type": "execute_result"
    }
   ],
   "source": [
    "payment.dtypes"
   ]
  },
  {
   "cell_type": "code",
   "execution_count": 263,
   "metadata": {},
   "outputs": [],
   "source": [
    "payment[['id_pay','id_order']] = payment[['id_pay','id_order']].astype(str)"
   ]
  },
  {
   "cell_type": "code",
   "execution_count": 264,
   "metadata": {},
   "outputs": [],
   "source": [
    "payment['date_created'] = pd.to_datetime(payment['date_created'], format= \"%d/%m/%Y %H:%M:%S\")"
   ]
  },
  {
   "cell_type": "code",
   "execution_count": 265,
   "metadata": {},
   "outputs": [],
   "source": [
    "# To standardrize the entries of data in dim_type column\n",
    "payment['dim_type'].replace('CB_Sans_Contact' , 'CB_SANS_CONTACT' , inplace = True)"
   ]
  },
  {
   "cell_type": "code",
   "execution_count": 266,
   "metadata": {},
   "outputs": [
    {
     "data": {
      "text/plain": [
       "1"
      ]
     },
     "execution_count": 266,
     "metadata": {},
     "output_type": "execute_result"
    }
   ],
   "source": [
    "payment['m_cashback'].nunique()"
   ]
  },
  {
   "cell_type": "code",
   "execution_count": 267,
   "metadata": {},
   "outputs": [
    {
     "data": {
      "text/plain": [
       "m_cashback\n",
       "0    500\n",
       "Name: count, dtype: int64"
      ]
     },
     "execution_count": 267,
     "metadata": {},
     "output_type": "execute_result"
    }
   ],
   "source": [
    "payment['m_cashback'].value_counts()"
   ]
  },
  {
   "cell_type": "code",
   "execution_count": 268,
   "metadata": {},
   "outputs": [
    {
     "data": {
      "text/plain": [
       "1"
      ]
     },
     "execution_count": 268,
     "metadata": {},
     "output_type": "execute_result"
    }
   ],
   "source": [
    "payment['m_credit'].nunique()"
   ]
  },
  {
   "cell_type": "code",
   "execution_count": 269,
   "metadata": {},
   "outputs": [],
   "source": [
    "payment.drop( columns=[\"m_credit\",\"m_cashback\"] , inplace = True)"
   ]
  },
  {
   "cell_type": "code",
   "execution_count": 270,
   "metadata": {},
   "outputs": [
    {
     "data": {
      "text/plain": [
       "id_pay          0\n",
       "id_order        0\n",
       "dim_status      0\n",
       "dim_type        0\n",
       "m_amount        0\n",
       "date_created    0\n",
       "dtype: int64"
      ]
     },
     "execution_count": 270,
     "metadata": {},
     "output_type": "execute_result"
    }
   ],
   "source": [
    "# Total number of missing values\n",
    "payment.isnull().sum()"
   ]
  },
  {
   "cell_type": "code",
   "execution_count": 271,
   "metadata": {},
   "outputs": [],
   "source": [
    "# Exporting the paymentSet to csv\n",
    "payment.to_csv('payment_Cleaned.csv', index=False)"
   ]
  },
  {
   "cell_type": "markdown",
   "metadata": {},
   "source": [
    "## Store Data"
   ]
  },
  {
   "cell_type": "code",
   "execution_count": 272,
   "metadata": {},
   "outputs": [],
   "source": [
    "# Loading the store Data from the csv file\n",
    "store = pd.read_csv('Data_Files/store_data.csv')"
   ]
  },
  {
   "cell_type": "code",
   "execution_count": 273,
   "metadata": {},
   "outputs": [
    {
     "data": {
      "text/plain": [
       "(21, 5)"
      ]
     },
     "execution_count": 273,
     "metadata": {},
     "output_type": "execute_result"
    }
   ],
   "source": [
    "store.shape"
   ]
  },
  {
   "cell_type": "code",
   "execution_count": 274,
   "metadata": {},
   "outputs": [
    {
     "data": {
      "text/html": [
       "<div>\n",
       "<style scoped>\n",
       "    .dataframe tbody tr th:only-of-type {\n",
       "        vertical-align: middle;\n",
       "    }\n",
       "\n",
       "    .dataframe tbody tr th {\n",
       "        vertical-align: top;\n",
       "    }\n",
       "\n",
       "    .dataframe thead th {\n",
       "        text-align: right;\n",
       "    }\n",
       "</style>\n",
       "<table border=\"1\" class=\"dataframe\">\n",
       "  <thead>\n",
       "    <tr style=\"text-align: right;\">\n",
       "      <th></th>\n",
       "      <th>id_store</th>\n",
       "      <th>date_created</th>\n",
       "      <th>dim_zipcode</th>\n",
       "      <th>dim_country</th>\n",
       "      <th>dim_currency</th>\n",
       "    </tr>\n",
       "  </thead>\n",
       "  <tbody>\n",
       "    <tr>\n",
       "      <th>0</th>\n",
       "      <td>360</td>\n",
       "      <td>29/07/2015 06:54:50</td>\n",
       "      <td>75001</td>\n",
       "      <td>FR</td>\n",
       "      <td>EUR</td>\n",
       "    </tr>\n",
       "    <tr>\n",
       "      <th>1</th>\n",
       "      <td>351</td>\n",
       "      <td>25/07/2015 11:51:52</td>\n",
       "      <td>75002</td>\n",
       "      <td>FR</td>\n",
       "      <td>EUR</td>\n",
       "    </tr>\n",
       "    <tr>\n",
       "      <th>2</th>\n",
       "      <td>4803</td>\n",
       "      <td>04/10/2017 13:56:31</td>\n",
       "      <td>75002</td>\n",
       "      <td>FR</td>\n",
       "      <td>EUR</td>\n",
       "    </tr>\n",
       "    <tr>\n",
       "      <th>3</th>\n",
       "      <td>4364</td>\n",
       "      <td>27/06/2017 12:27:31</td>\n",
       "      <td>75003</td>\n",
       "      <td>FR</td>\n",
       "      <td>EUR</td>\n",
       "    </tr>\n",
       "    <tr>\n",
       "      <th>4</th>\n",
       "      <td>5281</td>\n",
       "      <td>08/12/2017 11:09:59</td>\n",
       "      <td>75004</td>\n",
       "      <td>FR</td>\n",
       "      <td>EUR</td>\n",
       "    </tr>\n",
       "    <tr>\n",
       "      <th>5</th>\n",
       "      <td>7872</td>\n",
       "      <td>25/09/2018 16:04:17</td>\n",
       "      <td>75005</td>\n",
       "      <td>FR</td>\n",
       "      <td>EUR</td>\n",
       "    </tr>\n",
       "    <tr>\n",
       "      <th>6</th>\n",
       "      <td>8291</td>\n",
       "      <td>12/11/2018 08:28:37</td>\n",
       "      <td>75008</td>\n",
       "      <td>FR</td>\n",
       "      <td>EUR</td>\n",
       "    </tr>\n",
       "    <tr>\n",
       "      <th>7</th>\n",
       "      <td>7304</td>\n",
       "      <td>08/07/2018 15:21:37</td>\n",
       "      <td>75008</td>\n",
       "      <td>FR</td>\n",
       "      <td>EUR</td>\n",
       "    </tr>\n",
       "    <tr>\n",
       "      <th>8</th>\n",
       "      <td>6827</td>\n",
       "      <td>11/05/2018 10:08:10</td>\n",
       "      <td>75009</td>\n",
       "      <td>FR</td>\n",
       "      <td>EUR</td>\n",
       "    </tr>\n",
       "    <tr>\n",
       "      <th>9</th>\n",
       "      <td>5498</td>\n",
       "      <td>29/12/2017 16:14:24</td>\n",
       "      <td>75009</td>\n",
       "      <td>FR</td>\n",
       "      <td>EUR</td>\n",
       "    </tr>\n",
       "    <tr>\n",
       "      <th>10</th>\n",
       "      <td>2035</td>\n",
       "      <td>17/05/2016 08:53:49</td>\n",
       "      <td>75010</td>\n",
       "      <td>FR</td>\n",
       "      <td>EUR</td>\n",
       "    </tr>\n",
       "    <tr>\n",
       "      <th>11</th>\n",
       "      <td>4151</td>\n",
       "      <td>15/05/2017 17:28:52</td>\n",
       "      <td>75012</td>\n",
       "      <td>FR</td>\n",
       "      <td>EUR</td>\n",
       "    </tr>\n",
       "    <tr>\n",
       "      <th>12</th>\n",
       "      <td>6830</td>\n",
       "      <td>11/05/2018 11:03:01</td>\n",
       "      <td>75013</td>\n",
       "      <td>FR</td>\n",
       "      <td>EUR</td>\n",
       "    </tr>\n",
       "    <tr>\n",
       "      <th>13</th>\n",
       "      <td>730</td>\n",
       "      <td>09/11/2015 15:35:23</td>\n",
       "      <td>75013</td>\n",
       "      <td>FR</td>\n",
       "      <td>EUR</td>\n",
       "    </tr>\n",
       "    <tr>\n",
       "      <th>14</th>\n",
       "      <td>1513</td>\n",
       "      <td>15/03/2016 17:34:25</td>\n",
       "      <td>75015</td>\n",
       "      <td>FR</td>\n",
       "      <td>EUR</td>\n",
       "    </tr>\n",
       "    <tr>\n",
       "      <th>15</th>\n",
       "      <td>6008</td>\n",
       "      <td>19/02/2018 11:58:54</td>\n",
       "      <td>75016</td>\n",
       "      <td>FR</td>\n",
       "      <td>EUR</td>\n",
       "    </tr>\n",
       "    <tr>\n",
       "      <th>16</th>\n",
       "      <td>5860</td>\n",
       "      <td>29/01/2018 08:52:26</td>\n",
       "      <td>75018</td>\n",
       "      <td>FR</td>\n",
       "      <td>EUR</td>\n",
       "    </tr>\n",
       "    <tr>\n",
       "      <th>17</th>\n",
       "      <td>5617</td>\n",
       "      <td>09/01/2018 16:01:41</td>\n",
       "      <td>75018</td>\n",
       "      <td>FR</td>\n",
       "      <td>EUR</td>\n",
       "    </tr>\n",
       "    <tr>\n",
       "      <th>18</th>\n",
       "      <td>7786</td>\n",
       "      <td>15/09/2018 12:46:15</td>\n",
       "      <td>75019</td>\n",
       "      <td>FR</td>\n",
       "      <td>EUR</td>\n",
       "    </tr>\n",
       "    <tr>\n",
       "      <th>19</th>\n",
       "      <td>4196</td>\n",
       "      <td>19/05/2017 15:44:32</td>\n",
       "      <td>75019</td>\n",
       "      <td>FR</td>\n",
       "      <td>EUR</td>\n",
       "    </tr>\n",
       "    <tr>\n",
       "      <th>20</th>\n",
       "      <td>5210</td>\n",
       "      <td>29/11/2017 17:31:49</td>\n",
       "      <td>75020</td>\n",
       "      <td>FR</td>\n",
       "      <td>EUR</td>\n",
       "    </tr>\n",
       "  </tbody>\n",
       "</table>\n",
       "</div>"
      ],
      "text/plain": [
       "    id_store         date_created  dim_zipcode dim_country dim_currency\n",
       "0        360  29/07/2015 06:54:50        75001          FR          EUR\n",
       "1        351  25/07/2015 11:51:52        75002          FR          EUR\n",
       "2       4803  04/10/2017 13:56:31        75002          FR          EUR\n",
       "3       4364  27/06/2017 12:27:31        75003          FR          EUR\n",
       "4       5281  08/12/2017 11:09:59        75004          FR          EUR\n",
       "5       7872  25/09/2018 16:04:17        75005          FR          EUR\n",
       "6       8291  12/11/2018 08:28:37        75008          FR          EUR\n",
       "7       7304  08/07/2018 15:21:37        75008          FR          EUR\n",
       "8       6827  11/05/2018 10:08:10        75009          FR          EUR\n",
       "9       5498  29/12/2017 16:14:24        75009          FR          EUR\n",
       "10      2035  17/05/2016 08:53:49        75010          FR          EUR\n",
       "11      4151  15/05/2017 17:28:52        75012          FR          EUR\n",
       "12      6830  11/05/2018 11:03:01        75013          FR          EUR\n",
       "13       730  09/11/2015 15:35:23        75013          FR          EUR\n",
       "14      1513  15/03/2016 17:34:25        75015          FR          EUR\n",
       "15      6008  19/02/2018 11:58:54        75016          FR          EUR\n",
       "16      5860  29/01/2018 08:52:26        75018          FR          EUR\n",
       "17      5617  09/01/2018 16:01:41        75018          FR          EUR\n",
       "18      7786  15/09/2018 12:46:15        75019          FR          EUR\n",
       "19      4196  19/05/2017 15:44:32        75019          FR          EUR\n",
       "20      5210  29/11/2017 17:31:49        75020          FR          EUR"
      ]
     },
     "execution_count": 274,
     "metadata": {},
     "output_type": "execute_result"
    }
   ],
   "source": [
    "store.head(21)"
   ]
  },
  {
   "cell_type": "code",
   "execution_count": 275,
   "metadata": {},
   "outputs": [
    {
     "data": {
      "text/plain": [
       "id_store         int64\n",
       "date_created    object\n",
       "dim_zipcode      int64\n",
       "dim_country     object\n",
       "dim_currency    object\n",
       "dtype: object"
      ]
     },
     "execution_count": 275,
     "metadata": {},
     "output_type": "execute_result"
    }
   ],
   "source": [
    "store.dtypes"
   ]
  },
  {
   "cell_type": "code",
   "execution_count": 276,
   "metadata": {},
   "outputs": [],
   "source": [
    "store['id_store'] = store['id_store'].astype(str)"
   ]
  },
  {
   "cell_type": "code",
   "execution_count": 277,
   "metadata": {},
   "outputs": [],
   "source": [
    "store['date_created'] = pd.to_datetime(store['date_created'], format= \"%d/%m/%Y %H:%M:%S\")"
   ]
  },
  {
   "cell_type": "code",
   "execution_count": 278,
   "metadata": {},
   "outputs": [
    {
     "data": {
      "text/plain": [
       "id_store        0\n",
       "date_created    0\n",
       "dim_zipcode     0\n",
       "dim_country     0\n",
       "dim_currency    0\n",
       "dtype: int64"
      ]
     },
     "execution_count": 278,
     "metadata": {},
     "output_type": "execute_result"
    }
   ],
   "source": [
    "# Total number of missing values\n",
    "store.isnull().sum()"
   ]
  },
  {
   "cell_type": "code",
   "execution_count": 279,
   "metadata": {},
   "outputs": [],
   "source": [
    "# Exporting the paymentSet to csv\n",
    "store.to_csv('store_data.csv', index=False)"
   ]
  }
 ],
 "metadata": {
  "kernelspec": {
   "display_name": "Python 3",
   "language": "python",
   "name": "python3"
  },
  "language_info": {
   "codemirror_mode": {
    "name": "ipython",
    "version": 3
   },
   "file_extension": ".py",
   "mimetype": "text/x-python",
   "name": "python",
   "nbconvert_exporter": "python",
   "pygments_lexer": "ipython3",
   "version": "3.10.11"
  },
  "orig_nbformat": 4
 },
 "nbformat": 4,
 "nbformat_minor": 2
}
