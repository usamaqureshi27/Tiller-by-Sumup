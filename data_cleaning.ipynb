{
 "cells": [
  {
   "cell_type": "code",
   "execution_count": 147,
   "metadata": {},
   "outputs": [],
   "source": [
    "import pandas as pd \n",
    "import numpy as np \n",
    "import seaborn as sns \n",
    "import matplotlib.pyplot as plt\n",
    "%matplotlib inline\n",
    "from datetime import datetime , date\n",
    "\n",
    "import warnings\n",
    "warnings.filterwarnings('ignore')"
   ]
  },
  {
   "cell_type": "markdown",
   "metadata": {},
   "source": [
    "## Order Data"
   ]
  },
  {
   "cell_type": "code",
   "execution_count": 148,
   "metadata": {},
   "outputs": [],
   "source": [
    "# Loading the Order Data from the csv file\n",
    "order_data = pd.read_csv('Data_Files/order_data.csv')"
   ]
  },
  {
   "cell_type": "code",
   "execution_count": 149,
   "metadata": {},
   "outputs": [
    {
     "data": {
      "text/plain": [
       "(500, 12)"
      ]
     },
     "execution_count": 149,
     "metadata": {},
     "output_type": "execute_result"
    }
   ],
   "source": [
    "order_data.shape"
   ]
  },
  {
   "cell_type": "code",
   "execution_count": 150,
   "metadata": {},
   "outputs": [
    {
     "data": {
      "text/html": [
       "<div>\n",
       "<style scoped>\n",
       "    .dataframe tbody tr th:only-of-type {\n",
       "        vertical-align: middle;\n",
       "    }\n",
       "\n",
       "    .dataframe tbody tr th {\n",
       "        vertical-align: top;\n",
       "    }\n",
       "\n",
       "    .dataframe thead th {\n",
       "        text-align: right;\n",
       "    }\n",
       "</style>\n",
       "<table border=\"1\" class=\"dataframe\">\n",
       "  <thead>\n",
       "    <tr style=\"text-align: right;\">\n",
       "      <th></th>\n",
       "      <th>id_order</th>\n",
       "      <th>id_store</th>\n",
       "      <th>id_table</th>\n",
       "      <th>id_waiter</th>\n",
       "      <th>id_device</th>\n",
       "      <th>date_opened</th>\n",
       "      <th>date_closed</th>\n",
       "      <th>dim_status</th>\n",
       "      <th>dim_source</th>\n",
       "      <th>m_nb_customer</th>\n",
       "      <th>m_cached_payed</th>\n",
       "      <th>m_cached_price</th>\n",
       "    </tr>\n",
       "  </thead>\n",
       "  <tbody>\n",
       "    <tr>\n",
       "      <th>0</th>\n",
       "      <td>112572333</td>\n",
       "      <td>7786</td>\n",
       "      <td>NaN</td>\n",
       "      <td>24920.0</td>\n",
       "      <td>14854.0</td>\n",
       "      <td>12/01/2020 16:03:02</td>\n",
       "      <td>12/01/2020 16:03:13</td>\n",
       "      <td>CLOSED</td>\n",
       "      <td>tiller-order</td>\n",
       "      <td>1</td>\n",
       "      <td>11.9</td>\n",
       "      <td>11.9</td>\n",
       "    </tr>\n",
       "    <tr>\n",
       "      <th>1</th>\n",
       "      <td>112912195</td>\n",
       "      <td>6830</td>\n",
       "      <td>133612.0</td>\n",
       "      <td>12894.0</td>\n",
       "      <td>13026.0</td>\n",
       "      <td>14/01/2020 22:06:18</td>\n",
       "      <td>14/01/2020 22:08:10</td>\n",
       "      <td>CLOSED</td>\n",
       "      <td>Tiller iPAD</td>\n",
       "      <td>4</td>\n",
       "      <td>61.1</td>\n",
       "      <td>61.1</td>\n",
       "    </tr>\n",
       "    <tr>\n",
       "      <th>2</th>\n",
       "      <td>113129706</td>\n",
       "      <td>8291</td>\n",
       "      <td>NaN</td>\n",
       "      <td>16823.0</td>\n",
       "      <td>15760.0</td>\n",
       "      <td>16/01/2020 11:11:02</td>\n",
       "      <td>16/01/2020 11:11:30</td>\n",
       "      <td>CLOSED</td>\n",
       "      <td>tiller-order</td>\n",
       "      <td>1</td>\n",
       "      <td>11.7</td>\n",
       "      <td>11.7</td>\n",
       "    </tr>\n",
       "    <tr>\n",
       "      <th>3</th>\n",
       "      <td>79969209</td>\n",
       "      <td>351</td>\n",
       "      <td>19300.0</td>\n",
       "      <td>461.0</td>\n",
       "      <td>128.0</td>\n",
       "      <td>29/06/2019 17:03:54</td>\n",
       "      <td>29/06/2019 18:22:21</td>\n",
       "      <td>CLOSED</td>\n",
       "      <td>Tiller iPAD</td>\n",
       "      <td>4</td>\n",
       "      <td>128.0</td>\n",
       "      <td>128.0</td>\n",
       "    </tr>\n",
       "    <tr>\n",
       "      <th>4</th>\n",
       "      <td>49208645</td>\n",
       "      <td>6008</td>\n",
       "      <td>NaN</td>\n",
       "      <td>10990.0</td>\n",
       "      <td>11065.0</td>\n",
       "      <td>16/11/2018 16:43:54</td>\n",
       "      <td>16/11/2018 16:56:15</td>\n",
       "      <td>CLOSED</td>\n",
       "      <td>Tiller iPAD</td>\n",
       "      <td>1</td>\n",
       "      <td>9.9</td>\n",
       "      <td>9.9</td>\n",
       "    </tr>\n",
       "  </tbody>\n",
       "</table>\n",
       "</div>"
      ],
      "text/plain": [
       "    id_order  id_store  id_table  id_waiter  id_device          date_opened  \\\n",
       "0  112572333      7786       NaN    24920.0    14854.0  12/01/2020 16:03:02   \n",
       "1  112912195      6830  133612.0    12894.0    13026.0  14/01/2020 22:06:18   \n",
       "2  113129706      8291       NaN    16823.0    15760.0  16/01/2020 11:11:02   \n",
       "3   79969209       351   19300.0      461.0      128.0  29/06/2019 17:03:54   \n",
       "4   49208645      6008       NaN    10990.0    11065.0  16/11/2018 16:43:54   \n",
       "\n",
       "           date_closed dim_status    dim_source  m_nb_customer  \\\n",
       "0  12/01/2020 16:03:13     CLOSED  tiller-order              1   \n",
       "1  14/01/2020 22:08:10     CLOSED   Tiller iPAD              4   \n",
       "2  16/01/2020 11:11:30     CLOSED  tiller-order              1   \n",
       "3  29/06/2019 18:22:21     CLOSED   Tiller iPAD              4   \n",
       "4  16/11/2018 16:56:15     CLOSED   Tiller iPAD              1   \n",
       "\n",
       "   m_cached_payed  m_cached_price  \n",
       "0            11.9            11.9  \n",
       "1            61.1            61.1  \n",
       "2            11.7            11.7  \n",
       "3           128.0           128.0  \n",
       "4             9.9             9.9  "
      ]
     },
     "execution_count": 150,
     "metadata": {},
     "output_type": "execute_result"
    }
   ],
   "source": [
    "order_data.head()"
   ]
  },
  {
   "cell_type": "code",
   "execution_count": 151,
   "metadata": {},
   "outputs": [
    {
     "data": {
      "text/plain": [
       "id_order            int64\n",
       "id_store            int64\n",
       "id_table          float64\n",
       "id_waiter         float64\n",
       "id_device         float64\n",
       "date_opened        object\n",
       "date_closed        object\n",
       "dim_status         object\n",
       "dim_source         object\n",
       "m_nb_customer       int64\n",
       "m_cached_payed    float64\n",
       "m_cached_price    float64\n",
       "dtype: object"
      ]
     },
     "execution_count": 151,
     "metadata": {},
     "output_type": "execute_result"
    }
   ],
   "source": [
    "order_data.dtypes"
   ]
  },
  {
   "cell_type": "code",
   "execution_count": 152,
   "metadata": {},
   "outputs": [
    {
     "name": "stdout",
     "output_type": "stream",
     "text": [
      "<class 'pandas.core.frame.DataFrame'>\n",
      "RangeIndex: 500 entries, 0 to 499\n",
      "Data columns (total 12 columns):\n",
      " #   Column          Non-Null Count  Dtype  \n",
      "---  ------          --------------  -----  \n",
      " 0   id_order        500 non-null    int64  \n",
      " 1   id_store        500 non-null    int64  \n",
      " 2   id_table        278 non-null    float64\n",
      " 3   id_waiter       490 non-null    float64\n",
      " 4   id_device       477 non-null    float64\n",
      " 5   date_opened     500 non-null    object \n",
      " 6   date_closed     500 non-null    object \n",
      " 7   dim_status      500 non-null    object \n",
      " 8   dim_source      411 non-null    object \n",
      " 9   m_nb_customer   500 non-null    int64  \n",
      " 10  m_cached_payed  500 non-null    float64\n",
      " 11  m_cached_price  500 non-null    float64\n",
      "dtypes: float64(5), int64(3), object(4)\n",
      "memory usage: 47.0+ KB\n"
     ]
    }
   ],
   "source": [
    "order_data.info()"
   ]
  },
  {
   "cell_type": "code",
   "execution_count": 153,
   "metadata": {},
   "outputs": [],
   "source": [
    "order_data[['id_order','id_store']] = order_data[['id_order','id_store']].astype(str)"
   ]
  },
  {
   "cell_type": "code",
   "execution_count": 154,
   "metadata": {},
   "outputs": [],
   "source": [
    "# order_data[['id_table', 'id_waiter', 'id_device']] = order_data[['id_table', 'id_waiter', 'id_device']].astype(str)"
   ]
  },
  {
   "cell_type": "code",
   "execution_count": 155,
   "metadata": {},
   "outputs": [],
   "source": [
    "order_data['date_opened'] = pd.to_datetime(order_data['date_opened'], format= \"%d/%m/%Y %H:%M:%S\")\n",
    "order_data['date_closed'] = pd.to_datetime(order_data['date_closed'], format= \"%d/%m/%Y %H:%M:%S\")"
   ]
  },
  {
   "cell_type": "code",
   "execution_count": 156,
   "metadata": {},
   "outputs": [
    {
     "data": {
      "text/plain": [
       "id_order            0\n",
       "id_store            0\n",
       "id_table          222\n",
       "id_waiter          10\n",
       "id_device          23\n",
       "date_opened         0\n",
       "date_closed         0\n",
       "dim_status          0\n",
       "dim_source         89\n",
       "m_nb_customer       0\n",
       "m_cached_payed      0\n",
       "m_cached_price      0\n",
       "dtype: int64"
      ]
     },
     "execution_count": 156,
     "metadata": {},
     "output_type": "execute_result"
    }
   ],
   "source": [
    "# Total number of missing values\n",
    "order_data.isnull().sum()"
   ]
  },
  {
   "cell_type": "code",
   "execution_count": 157,
   "metadata": {},
   "outputs": [
    {
     "data": {
      "text/plain": [
       "id_order           0.0\n",
       "id_store           0.0\n",
       "id_table          44.4\n",
       "id_waiter          2.0\n",
       "id_device          4.6\n",
       "date_opened        0.0\n",
       "date_closed        0.0\n",
       "dim_status         0.0\n",
       "dim_source        17.8\n",
       "m_nb_customer      0.0\n",
       "m_cached_payed     0.0\n",
       "m_cached_price     0.0\n",
       "dtype: float64"
      ]
     },
     "execution_count": 157,
     "metadata": {},
     "output_type": "execute_result"
    }
   ],
   "source": [
    "order_data.isnull().sum()/len(order_data)*100"
   ]
  },
  {
   "cell_type": "code",
   "execution_count": 158,
   "metadata": {},
   "outputs": [
    {
     "data": {
      "text/plain": [
       "<Axes: >"
      ]
     },
     "execution_count": 158,
     "metadata": {},
     "output_type": "execute_result"
    },
    {
     "data": {
      "image/png": "[encoded data removed]",
      "text/plain": [
       "<Figure size 640x480 with 2 Axes>"
      ]
     },
     "metadata": {},
     "output_type": "display_data"
    }
   ],
   "source": [
    "sns.heatmap(order_data.isnull() , yticklabels= False , cbar= True , cmap=\"viridis\" )"
   ]
  },
  {
   "cell_type": "markdown",
   "metadata": {},
   "source": [
    "Since the id_table has around 45% data missing, so we can drop this column."
   ]
  },
  {
   "cell_type": "code",
   "execution_count": 159,
   "metadata": {},
   "outputs": [],
   "source": [
    "order_data.drop(columns = \"id_table\" , inplace = True)"
   ]
  },
  {
   "cell_type": "code",
   "execution_count": 160,
   "metadata": {},
   "outputs": [
    {
     "data": {
      "text/html": [
       "<div>\n",
       "<style scoped>\n",
       "    .dataframe tbody tr th:only-of-type {\n",
       "        vertical-align: middle;\n",
       "    }\n",
       "\n",
       "    .dataframe tbody tr th {\n",
       "        vertical-align: top;\n",
       "    }\n",
       "\n",
       "    .dataframe thead th {\n",
       "        text-align: right;\n",
       "    }\n",
       "</style>\n",
       "<table border=\"1\" class=\"dataframe\">\n",
       "  <thead>\n",
       "    <tr style=\"text-align: right;\">\n",
       "      <th></th>\n",
       "      <th>id_order</th>\n",
       "      <th>id_store</th>\n",
       "      <th>id_waiter</th>\n",
       "      <th>id_device</th>\n",
       "      <th>date_opened</th>\n",
       "      <th>date_closed</th>\n",
       "      <th>dim_status</th>\n",
       "      <th>dim_source</th>\n",
       "      <th>m_nb_customer</th>\n",
       "      <th>m_cached_payed</th>\n",
       "      <th>m_cached_price</th>\n",
       "    </tr>\n",
       "  </thead>\n",
       "  <tbody>\n",
       "    <tr>\n",
       "      <th>203</th>\n",
       "      <td>67419062</td>\n",
       "      <td>7872</td>\n",
       "      <td>NaN</td>\n",
       "      <td>15009.0</td>\n",
       "      <td>2019-04-09 21:36:21</td>\n",
       "      <td>2019-04-09 21:36:54</td>\n",
       "      <td>CLOSED</td>\n",
       "      <td>Tiller iPAD</td>\n",
       "      <td>1</td>\n",
       "      <td>30.0</td>\n",
       "      <td>30.0</td>\n",
       "    </tr>\n",
       "    <tr>\n",
       "      <th>222</th>\n",
       "      <td>88964143</td>\n",
       "      <td>7872</td>\n",
       "      <td>NaN</td>\n",
       "      <td>15009.0</td>\n",
       "      <td>2019-08-24 20:53:07</td>\n",
       "      <td>2019-08-24 20:53:26</td>\n",
       "      <td>CLOSED</td>\n",
       "      <td>Tiller iPAD</td>\n",
       "      <td>1</td>\n",
       "      <td>25.0</td>\n",
       "      <td>25.0</td>\n",
       "    </tr>\n",
       "    <tr>\n",
       "      <th>233</th>\n",
       "      <td>50639223</td>\n",
       "      <td>8291</td>\n",
       "      <td>NaN</td>\n",
       "      <td>15747.0</td>\n",
       "      <td>2018-11-29 12:10:01</td>\n",
       "      <td>2018-11-29 16:18:34</td>\n",
       "      <td>CLOSED</td>\n",
       "      <td>Tiller iPAD</td>\n",
       "      <td>1</td>\n",
       "      <td>8.9</td>\n",
       "      <td>8.9</td>\n",
       "    </tr>\n",
       "    <tr>\n",
       "      <th>242</th>\n",
       "      <td>52200722</td>\n",
       "      <td>8291</td>\n",
       "      <td>NaN</td>\n",
       "      <td>15747.0</td>\n",
       "      <td>2018-12-10 11:18:16</td>\n",
       "      <td>2018-12-10 11:18:41</td>\n",
       "      <td>CLOSED</td>\n",
       "      <td>Tiller iPAD</td>\n",
       "      <td>1</td>\n",
       "      <td>8.9</td>\n",
       "      <td>8.9</td>\n",
       "    </tr>\n",
       "    <tr>\n",
       "      <th>355</th>\n",
       "      <td>49170536</td>\n",
       "      <td>8291</td>\n",
       "      <td>NaN</td>\n",
       "      <td>15747.0</td>\n",
       "      <td>2018-11-16 12:22:02</td>\n",
       "      <td>2018-11-16 12:22:24</td>\n",
       "      <td>CLOSED</td>\n",
       "      <td>Tiller iPAD</td>\n",
       "      <td>1</td>\n",
       "      <td>10.9</td>\n",
       "      <td>10.9</td>\n",
       "    </tr>\n",
       "    <tr>\n",
       "      <th>377</th>\n",
       "      <td>97051495</td>\n",
       "      <td>7872</td>\n",
       "      <td>NaN</td>\n",
       "      <td>15009.0</td>\n",
       "      <td>2019-10-09 17:37:27</td>\n",
       "      <td>2019-10-09 17:37:35</td>\n",
       "      <td>CLOSED</td>\n",
       "      <td>Tiller iPAD</td>\n",
       "      <td>1</td>\n",
       "      <td>45.0</td>\n",
       "      <td>45.0</td>\n",
       "    </tr>\n",
       "    <tr>\n",
       "      <th>420</th>\n",
       "      <td>113439250</td>\n",
       "      <td>7872</td>\n",
       "      <td>NaN</td>\n",
       "      <td>15009.0</td>\n",
       "      <td>2020-01-17 18:55:52</td>\n",
       "      <td>2020-01-17 18:55:58</td>\n",
       "      <td>CLOSED</td>\n",
       "      <td>Tiller iPAD</td>\n",
       "      <td>1</td>\n",
       "      <td>25.0</td>\n",
       "      <td>25.0</td>\n",
       "    </tr>\n",
       "    <tr>\n",
       "      <th>432</th>\n",
       "      <td>95632856</td>\n",
       "      <td>7872</td>\n",
       "      <td>NaN</td>\n",
       "      <td>15009.0</td>\n",
       "      <td>2019-10-01 20:59:24</td>\n",
       "      <td>2019-10-01 21:00:02</td>\n",
       "      <td>CLOSED</td>\n",
       "      <td>Tiller iPAD</td>\n",
       "      <td>1</td>\n",
       "      <td>30.0</td>\n",
       "      <td>30.0</td>\n",
       "    </tr>\n",
       "    <tr>\n",
       "      <th>473</th>\n",
       "      <td>86371443</td>\n",
       "      <td>7872</td>\n",
       "      <td>NaN</td>\n",
       "      <td>15009.0</td>\n",
       "      <td>2019-08-06 19:10:37</td>\n",
       "      <td>2019-08-06 20:04:22</td>\n",
       "      <td>CLOSED</td>\n",
       "      <td>Tiller iPAD</td>\n",
       "      <td>1</td>\n",
       "      <td>55.0</td>\n",
       "      <td>55.0</td>\n",
       "    </tr>\n",
       "    <tr>\n",
       "      <th>487</th>\n",
       "      <td>50386223</td>\n",
       "      <td>8291</td>\n",
       "      <td>NaN</td>\n",
       "      <td>15747.0</td>\n",
       "      <td>2018-11-27 11:28:03</td>\n",
       "      <td>2018-11-27 15:08:35</td>\n",
       "      <td>CLOSED</td>\n",
       "      <td>Tiller iPAD</td>\n",
       "      <td>1</td>\n",
       "      <td>20.8</td>\n",
       "      <td>20.8</td>\n",
       "    </tr>\n",
       "  </tbody>\n",
       "</table>\n",
       "</div>"
      ],
      "text/plain": [
       "      id_order id_store  id_waiter  id_device         date_opened  \\\n",
       "203   67419062     7872        NaN    15009.0 2019-04-09 21:36:21   \n",
       "222   88964143     7872        NaN    15009.0 2019-08-24 20:53:07   \n",
       "233   50639223     8291        NaN    15747.0 2018-11-29 12:10:01   \n",
       "242   52200722     8291        NaN    15747.0 2018-12-10 11:18:16   \n",
       "355   49170536     8291        NaN    15747.0 2018-11-16 12:22:02   \n",
       "377   97051495     7872        NaN    15009.0 2019-10-09 17:37:27   \n",
       "420  113439250     7872        NaN    15009.0 2020-01-17 18:55:52   \n",
       "432   95632856     7872        NaN    15009.0 2019-10-01 20:59:24   \n",
       "473   86371443     7872        NaN    15009.0 2019-08-06 19:10:37   \n",
       "487   50386223     8291        NaN    15747.0 2018-11-27 11:28:03   \n",
       "\n",
       "            date_closed dim_status   dim_source  m_nb_customer  \\\n",
       "203 2019-04-09 21:36:54     CLOSED  Tiller iPAD              1   \n",
       "222 2019-08-24 20:53:26     CLOSED  Tiller iPAD              1   \n",
       "233 2018-11-29 16:18:34     CLOSED  Tiller iPAD              1   \n",
       "242 2018-12-10 11:18:41     CLOSED  Tiller iPAD              1   \n",
       "355 2018-11-16 12:22:24     CLOSED  Tiller iPAD              1   \n",
       "377 2019-10-09 17:37:35     CLOSED  Tiller iPAD              1   \n",
       "420 2020-01-17 18:55:58     CLOSED  Tiller iPAD              1   \n",
       "432 2019-10-01 21:00:02     CLOSED  Tiller iPAD              1   \n",
       "473 2019-08-06 20:04:22     CLOSED  Tiller iPAD              1   \n",
       "487 2018-11-27 15:08:35     CLOSED  Tiller iPAD              1   \n",
       "\n",
       "     m_cached_payed  m_cached_price  \n",
       "203            30.0            30.0  \n",
       "222            25.0            25.0  \n",
       "233             8.9             8.9  \n",
       "242             8.9             8.9  \n",
       "355            10.9            10.9  \n",
       "377            45.0            45.0  \n",
       "420            25.0            25.0  \n",
       "432            30.0            30.0  \n",
       "473            55.0            55.0  \n",
       "487            20.8            20.8  "
      ]
     },
     "execution_count": 160,
     "metadata": {},
     "output_type": "execute_result"
    }
   ],
   "source": [
    "order_data[order_data['id_waiter'].isnull()]"
   ]
  },
  {
   "cell_type": "code",
   "execution_count": 161,
   "metadata": {},
   "outputs": [
    {
     "data": {
      "text/plain": [
       "38"
      ]
     },
     "execution_count": 161,
     "metadata": {},
     "output_type": "execute_result"
    }
   ],
   "source": [
    "order_data['id_waiter'].nunique()"
   ]
  },
  {
   "cell_type": "code",
   "execution_count": 162,
   "metadata": {},
   "outputs": [
    {
     "data": {
      "text/plain": [
       "id_waiter\n",
       "16823.0    55\n",
       "2464.0     54\n",
       "461.0      37\n",
       "14302.0    35\n",
       "2752.0     32\n",
       "1095.0     27\n",
       "472.0      25\n",
       "2753.0     25\n",
       "12894.0    18\n",
       "9270.0     18\n",
       "10990.0    13\n",
       "15509.0    12\n",
       "7225.0     12\n",
       "8257.0     12\n",
       "13318.0    11\n",
       "10411.0    11\n",
       "17650.0     9\n",
       "9137.0      9\n",
       "10627.0     8\n",
       "10991.0     8\n",
       "14172.0     7\n",
       "7185.0      6\n",
       "22355.0     6\n",
       "9665.0      5\n",
       "10977.0     5\n",
       "6693.0      4\n",
       "26319.0     4\n",
       "25560.0     4\n",
       "10628.0     3\n",
       "15756.0     2\n",
       "972.0       2\n",
       "25250.0     2\n",
       "17052.0     2\n",
       "20061.0     2\n",
       "11211.0     2\n",
       "24920.0     1\n",
       "8303.0      1\n",
       "12873.0     1\n",
       "Name: count, dtype: int64"
      ]
     },
     "execution_count": 162,
     "metadata": {},
     "output_type": "execute_result"
    }
   ],
   "source": [
    "order_data['id_waiter'].value_counts()"
   ]
  },
  {
   "cell_type": "markdown",
   "metadata": {},
   "source": [
    "Since the waiter id is under 2% and 10 in total number, so we can replace it with mode. "
   ]
  },
  {
   "cell_type": "code",
   "execution_count": 163,
   "metadata": {},
   "outputs": [
    {
     "data": {
      "text/plain": [
       "16823.0"
      ]
     },
     "execution_count": 163,
     "metadata": {},
     "output_type": "execute_result"
    }
   ],
   "source": [
    "waiter_mode = order_data['id_waiter'].mode() [0]\n",
    "waiter_mode"
   ]
  },
  {
   "cell_type": "code",
   "execution_count": 164,
   "metadata": {},
   "outputs": [],
   "source": [
    "order_data['id_waiter'].fillna(waiter_mode, inplace = True )"
   ]
  },
  {
   "cell_type": "code",
   "execution_count": 165,
   "metadata": {},
   "outputs": [
    {
     "data": {
      "text/plain": [
       "30"
      ]
     },
     "execution_count": 165,
     "metadata": {},
     "output_type": "execute_result"
    }
   ],
   "source": [
    "order_data['id_device'].nunique()"
   ]
  },
  {
   "cell_type": "code",
   "execution_count": 166,
   "metadata": {},
   "outputs": [
    {
     "data": {
      "text/plain": [
       "id_device\n",
       "424.0      47\n",
       "15747.0    44\n",
       "13022.0    38\n",
       "5949.0     32\n",
       "128.0      29\n",
       "9251.0     27\n",
       "129.0      25\n",
       "13026.0    21\n",
       "11065.0    20\n",
       "15760.0    19\n",
       "10214.0    18\n",
       "3063.0     18\n",
       "6780.0     17\n",
       "754.0      16\n",
       "6153.0     15\n",
       "14854.0    13\n",
       "8270.0     13\n",
       "10625.0    11\n",
       "13929.0    10\n",
       "15758.0     9\n",
       "15009.0     8\n",
       "755.0       6\n",
       "716.0       5\n",
       "10064.0     5\n",
       "13930.0     3\n",
       "3064.0      2\n",
       "11020.0     2\n",
       "25379.0     2\n",
       "757.0       1\n",
       "7011.0      1\n",
       "Name: count, dtype: int64"
      ]
     },
     "execution_count": 166,
     "metadata": {},
     "output_type": "execute_result"
    }
   ],
   "source": [
    "order_data['id_device'].value_counts()"
   ]
  },
  {
   "cell_type": "markdown",
   "metadata": {},
   "source": [
    "Since the id device is 23 in total number, which one of top entries of data, so we can't replace it with the mode rather remove all the indexes where id device is null."
   ]
  },
  {
   "cell_type": "code",
   "execution_count": 167,
   "metadata": {},
   "outputs": [
    {
     "data": {
      "text/plain": [
       "Index([ 14,  20,  56,  57, 120, 121, 122, 123, 131, 171, 172, 236, 298, 299,\n",
       "       358, 427, 428, 431, 433, 488, 489, 490, 492],\n",
       "      dtype='int64')"
      ]
     },
     "execution_count": 167,
     "metadata": {},
     "output_type": "execute_result"
    }
   ],
   "source": [
    "device_drop_index = order_data[order_data['id_device'].isnull()].index\n",
    "device_drop_index"
   ]
  },
  {
   "cell_type": "code",
   "execution_count": 168,
   "metadata": {},
   "outputs": [],
   "source": [
    "order_data.drop(index= device_drop_index, inplace=True, axis=0)"
   ]
  },
  {
   "cell_type": "code",
   "execution_count": 169,
   "metadata": {},
   "outputs": [
    {
     "data": {
      "text/plain": [
       "dim_source\n",
       "Tiller iPAD     329\n",
       "tiller-order     78\n",
       "Name: count, dtype: int64"
      ]
     },
     "execution_count": 169,
     "metadata": {},
     "output_type": "execute_result"
    }
   ],
   "source": [
    "order_data['dim_source'].value_counts()"
   ]
  },
  {
   "cell_type": "code",
   "execution_count": 170,
   "metadata": {},
   "outputs": [
    {
     "data": {
      "text/plain": [
       "dim_source\n",
       "Tiller iPAD     68.972746\n",
       "tiller-order    16.352201\n",
       "Name: count, dtype: float64"
      ]
     },
     "execution_count": 170,
     "metadata": {},
     "output_type": "execute_result"
    }
   ],
   "source": [
    "order_data['dim_source'].value_counts()/len(order_data)*100"
   ]
  },
  {
   "cell_type": "markdown",
   "metadata": {},
   "source": [
    "Since the difference between Tiller iPAD and Tiller Order is very much, so we will fill the missing values with higher weightage of Tiller iPAD"
   ]
  },
  {
   "cell_type": "code",
   "execution_count": 171,
   "metadata": {},
   "outputs": [],
   "source": [
    "order_data['dim_source'].fillna('Tiller iPAD', axis = 0, inplace = True)"
   ]
  },
  {
   "cell_type": "code",
   "execution_count": 172,
   "metadata": {},
   "outputs": [],
   "source": [
    "# To standardrize the entries of data in dim_source column\n",
    "order_data['dim_source'].replace('tiller-order' , 'Tiller order' , inplace = True)"
   ]
  },
  {
   "cell_type": "code",
   "execution_count": 173,
   "metadata": {},
   "outputs": [
    {
     "data": {
      "text/plain": [
       "id_order          0\n",
       "id_store          0\n",
       "id_waiter         0\n",
       "id_device         0\n",
       "date_opened       0\n",
       "date_closed       0\n",
       "dim_status        0\n",
       "dim_source        0\n",
       "m_nb_customer     0\n",
       "m_cached_payed    0\n",
       "m_cached_price    0\n",
       "dtype: int64"
      ]
     },
     "execution_count": 173,
     "metadata": {},
     "output_type": "execute_result"
    }
   ],
   "source": [
    "order_data.isnull().sum()"
   ]
  },
  {
   "cell_type": "code",
   "execution_count": 174,
   "metadata": {},
   "outputs": [
    {
     "data": {
      "text/plain": [
       "0     2020-01-12 16:03:02\n",
       "1     2020-01-14 22:06:18\n",
       "2     2020-01-16 11:11:02\n",
       "3     2019-06-29 17:03:54\n",
       "4     2018-11-16 16:43:54\n",
       "              ...        \n",
       "495   2016-08-05 15:01:48\n",
       "496   2018-01-22 20:35:41\n",
       "497   2018-01-27 19:04:21\n",
       "498   2019-09-27 13:24:23\n",
       "499   2019-10-03 19:51:38\n",
       "Name: date_opened, Length: 477, dtype: datetime64[ns]"
      ]
     },
     "execution_count": 174,
     "metadata": {},
     "output_type": "execute_result"
    }
   ],
   "source": [
    "order_data['date_opened']"
   ]
  },
  {
   "cell_type": "code",
   "execution_count": 175,
   "metadata": {},
   "outputs": [],
   "source": [
    "breakfast_start = datetime.strptime('00:00:00', '%H:%M:%S').time()\n",
    "breakfast_end = datetime.strptime('11:59:59', '%H:%M:%S').time()\n",
    "\n",
    "lunch_start = datetime.strptime('12:00:00', '%H:%M:%S').time()\n",
    "lunch_end = datetime.strptime('17:59:59', '%H:%M:%S').time()\n",
    "\n",
    "dinner_start = datetime.strptime('18:00:00', '%H:%M:%S').time()\n",
    "dinner_end = datetime.strptime('23:59:59', '%H:%M:%S').time()"
   ]
  },
  {
   "cell_type": "code",
   "execution_count": 176,
   "metadata": {},
   "outputs": [],
   "source": [
    "order_data['time'] = order_data['date_opened'].dt.time"
   ]
  },
  {
   "cell_type": "code",
   "execution_count": 177,
   "metadata": {},
   "outputs": [],
   "source": [
    "def meal(time):\n",
    "    if  time < breakfast_end :\n",
    "        return 'Breakfast'\n",
    "    elif time < lunch_end:\n",
    "        return 'Lunch'\n",
    "    else:\n",
    "        return 'Dinner'"
   ]
  },
  {
   "cell_type": "code",
   "execution_count": 178,
   "metadata": {},
   "outputs": [],
   "source": [
    "order_data['meal_types'] = order_data['time'].apply(meal)"
   ]
  },
  {
   "cell_type": "code",
   "execution_count": 179,
   "metadata": {},
   "outputs": [
    {
     "data": {
      "text/plain": [
       "(477, 13)"
      ]
     },
     "execution_count": 179,
     "metadata": {},
     "output_type": "execute_result"
    }
   ],
   "source": [
    "order_data.shape"
   ]
  },
  {
   "cell_type": "code",
   "execution_count": 180,
   "metadata": {},
   "outputs": [
    {
     "data": {
      "text/html": [
       "<div>\n",
       "<style scoped>\n",
       "    .dataframe tbody tr th:only-of-type {\n",
       "        vertical-align: middle;\n",
       "    }\n",
       "\n",
       "    .dataframe tbody tr th {\n",
       "        vertical-align: top;\n",
       "    }\n",
       "\n",
       "    .dataframe thead th {\n",
       "        text-align: right;\n",
       "    }\n",
       "</style>\n",
       "<table border=\"1\" class=\"dataframe\">\n",
       "  <thead>\n",
       "    <tr style=\"text-align: right;\">\n",
       "      <th></th>\n",
       "      <th>id_order</th>\n",
       "      <th>id_store</th>\n",
       "      <th>id_waiter</th>\n",
       "      <th>id_device</th>\n",
       "      <th>date_opened</th>\n",
       "      <th>date_closed</th>\n",
       "      <th>dim_status</th>\n",
       "      <th>dim_source</th>\n",
       "      <th>m_nb_customer</th>\n",
       "      <th>m_cached_payed</th>\n",
       "      <th>m_cached_price</th>\n",
       "      <th>time</th>\n",
       "      <th>meal_types</th>\n",
       "    </tr>\n",
       "  </thead>\n",
       "  <tbody>\n",
       "    <tr>\n",
       "      <th>0</th>\n",
       "      <td>112572333</td>\n",
       "      <td>7786</td>\n",
       "      <td>24920.0</td>\n",
       "      <td>14854.0</td>\n",
       "      <td>2020-01-12 16:03:02</td>\n",
       "      <td>2020-01-12 16:03:13</td>\n",
       "      <td>CLOSED</td>\n",
       "      <td>Tiller order</td>\n",
       "      <td>1</td>\n",
       "      <td>11.90</td>\n",
       "      <td>11.90</td>\n",
       "      <td>16:03:02</td>\n",
       "      <td>Lunch</td>\n",
       "    </tr>\n",
       "    <tr>\n",
       "      <th>1</th>\n",
       "      <td>112912195</td>\n",
       "      <td>6830</td>\n",
       "      <td>12894.0</td>\n",
       "      <td>13026.0</td>\n",
       "      <td>2020-01-14 22:06:18</td>\n",
       "      <td>2020-01-14 22:08:10</td>\n",
       "      <td>CLOSED</td>\n",
       "      <td>Tiller iPAD</td>\n",
       "      <td>4</td>\n",
       "      <td>61.10</td>\n",
       "      <td>61.10</td>\n",
       "      <td>22:06:18</td>\n",
       "      <td>Dinner</td>\n",
       "    </tr>\n",
       "    <tr>\n",
       "      <th>2</th>\n",
       "      <td>113129706</td>\n",
       "      <td>8291</td>\n",
       "      <td>16823.0</td>\n",
       "      <td>15760.0</td>\n",
       "      <td>2020-01-16 11:11:02</td>\n",
       "      <td>2020-01-16 11:11:30</td>\n",
       "      <td>CLOSED</td>\n",
       "      <td>Tiller order</td>\n",
       "      <td>1</td>\n",
       "      <td>11.70</td>\n",
       "      <td>11.70</td>\n",
       "      <td>11:11:02</td>\n",
       "      <td>Breakfast</td>\n",
       "    </tr>\n",
       "    <tr>\n",
       "      <th>3</th>\n",
       "      <td>79969209</td>\n",
       "      <td>351</td>\n",
       "      <td>461.0</td>\n",
       "      <td>128.0</td>\n",
       "      <td>2019-06-29 17:03:54</td>\n",
       "      <td>2019-06-29 18:22:21</td>\n",
       "      <td>CLOSED</td>\n",
       "      <td>Tiller iPAD</td>\n",
       "      <td>4</td>\n",
       "      <td>128.00</td>\n",
       "      <td>128.00</td>\n",
       "      <td>17:03:54</td>\n",
       "      <td>Lunch</td>\n",
       "    </tr>\n",
       "    <tr>\n",
       "      <th>4</th>\n",
       "      <td>49208645</td>\n",
       "      <td>6008</td>\n",
       "      <td>10990.0</td>\n",
       "      <td>11065.0</td>\n",
       "      <td>2018-11-16 16:43:54</td>\n",
       "      <td>2018-11-16 16:56:15</td>\n",
       "      <td>CLOSED</td>\n",
       "      <td>Tiller iPAD</td>\n",
       "      <td>1</td>\n",
       "      <td>9.90</td>\n",
       "      <td>9.90</td>\n",
       "      <td>16:43:54</td>\n",
       "      <td>Lunch</td>\n",
       "    </tr>\n",
       "    <tr>\n",
       "      <th>5</th>\n",
       "      <td>50451573</td>\n",
       "      <td>6008</td>\n",
       "      <td>10990.0</td>\n",
       "      <td>11065.0</td>\n",
       "      <td>2018-11-27 18:57:58</td>\n",
       "      <td>2018-11-27 18:58:59</td>\n",
       "      <td>CLOSED</td>\n",
       "      <td>Tiller iPAD</td>\n",
       "      <td>1</td>\n",
       "      <td>25.00</td>\n",
       "      <td>25.00</td>\n",
       "      <td>18:57:58</td>\n",
       "      <td>Dinner</td>\n",
       "    </tr>\n",
       "    <tr>\n",
       "      <th>6</th>\n",
       "      <td>50451883</td>\n",
       "      <td>730</td>\n",
       "      <td>1095.0</td>\n",
       "      <td>754.0</td>\n",
       "      <td>2018-11-27 19:01:28</td>\n",
       "      <td>2018-11-27 19:06:29</td>\n",
       "      <td>CLOSED</td>\n",
       "      <td>Tiller iPAD</td>\n",
       "      <td>1</td>\n",
       "      <td>28.80</td>\n",
       "      <td>28.80</td>\n",
       "      <td>19:01:28</td>\n",
       "      <td>Dinner</td>\n",
       "    </tr>\n",
       "    <tr>\n",
       "      <th>7</th>\n",
       "      <td>50454421</td>\n",
       "      <td>351</td>\n",
       "      <td>461.0</td>\n",
       "      <td>128.0</td>\n",
       "      <td>2018-11-27 19:17:04</td>\n",
       "      <td>2018-11-27 21:18:41</td>\n",
       "      <td>CLOSED</td>\n",
       "      <td>Tiller iPAD</td>\n",
       "      <td>2</td>\n",
       "      <td>55.00</td>\n",
       "      <td>55.00</td>\n",
       "      <td>19:17:04</td>\n",
       "      <td>Dinner</td>\n",
       "    </tr>\n",
       "    <tr>\n",
       "      <th>8</th>\n",
       "      <td>1904545</td>\n",
       "      <td>2035</td>\n",
       "      <td>2753.0</td>\n",
       "      <td>716.0</td>\n",
       "      <td>2016-07-07 17:28:36</td>\n",
       "      <td>2016-07-07 18:05:32</td>\n",
       "      <td>CLOSED</td>\n",
       "      <td>Tiller iPAD</td>\n",
       "      <td>0</td>\n",
       "      <td>27.00</td>\n",
       "      <td>27.00</td>\n",
       "      <td>17:28:36</td>\n",
       "      <td>Lunch</td>\n",
       "    </tr>\n",
       "    <tr>\n",
       "      <th>9</th>\n",
       "      <td>19691004</td>\n",
       "      <td>2035</td>\n",
       "      <td>2752.0</td>\n",
       "      <td>5949.0</td>\n",
       "      <td>2018-01-20 18:23:38</td>\n",
       "      <td>2018-01-20 19:08:46</td>\n",
       "      <td>CLOSED</td>\n",
       "      <td>Tiller iPAD</td>\n",
       "      <td>2</td>\n",
       "      <td>47.85</td>\n",
       "      <td>47.85</td>\n",
       "      <td>18:23:38</td>\n",
       "      <td>Dinner</td>\n",
       "    </tr>\n",
       "    <tr>\n",
       "      <th>10</th>\n",
       "      <td>19702583</td>\n",
       "      <td>1513</td>\n",
       "      <td>2464.0</td>\n",
       "      <td>424.0</td>\n",
       "      <td>2018-01-20 19:21:43</td>\n",
       "      <td>2018-01-20 21:13:48</td>\n",
       "      <td>CLOSED</td>\n",
       "      <td>Tiller iPAD</td>\n",
       "      <td>2</td>\n",
       "      <td>49.80</td>\n",
       "      <td>49.80</td>\n",
       "      <td>19:21:43</td>\n",
       "      <td>Dinner</td>\n",
       "    </tr>\n",
       "    <tr>\n",
       "      <th>11</th>\n",
       "      <td>21385338</td>\n",
       "      <td>2035</td>\n",
       "      <td>2753.0</td>\n",
       "      <td>5949.0</td>\n",
       "      <td>2018-02-15 11:53:42</td>\n",
       "      <td>2018-02-15 12:45:43</td>\n",
       "      <td>CLOSED</td>\n",
       "      <td>Tiller iPAD</td>\n",
       "      <td>5</td>\n",
       "      <td>111.10</td>\n",
       "      <td>111.10</td>\n",
       "      <td>11:53:42</td>\n",
       "      <td>Breakfast</td>\n",
       "    </tr>\n",
       "    <tr>\n",
       "      <th>12</th>\n",
       "      <td>95904308</td>\n",
       "      <td>6827</td>\n",
       "      <td>14302.0</td>\n",
       "      <td>13022.0</td>\n",
       "      <td>2019-10-03 11:17:30</td>\n",
       "      <td>2019-10-03 11:20:04</td>\n",
       "      <td>CLOSED</td>\n",
       "      <td>Tiller iPAD</td>\n",
       "      <td>1</td>\n",
       "      <td>54.00</td>\n",
       "      <td>54.00</td>\n",
       "      <td>11:17:30</td>\n",
       "      <td>Breakfast</td>\n",
       "    </tr>\n",
       "    <tr>\n",
       "      <th>13</th>\n",
       "      <td>65244054</td>\n",
       "      <td>8291</td>\n",
       "      <td>16823.0</td>\n",
       "      <td>15747.0</td>\n",
       "      <td>2019-03-26 12:45:35</td>\n",
       "      <td>2019-03-26 12:45:39</td>\n",
       "      <td>CLOSED</td>\n",
       "      <td>Tiller iPAD</td>\n",
       "      <td>1</td>\n",
       "      <td>9.90</td>\n",
       "      <td>9.90</td>\n",
       "      <td>12:45:35</td>\n",
       "      <td>Lunch</td>\n",
       "    </tr>\n",
       "    <tr>\n",
       "      <th>15</th>\n",
       "      <td>134994431</td>\n",
       "      <td>6827</td>\n",
       "      <td>14302.0</td>\n",
       "      <td>13022.0</td>\n",
       "      <td>2020-07-27 20:00:12</td>\n",
       "      <td>2020-07-27 20:01:31</td>\n",
       "      <td>CLOSED</td>\n",
       "      <td>Tiller order</td>\n",
       "      <td>1</td>\n",
       "      <td>62.00</td>\n",
       "      <td>62.00</td>\n",
       "      <td>20:00:12</td>\n",
       "      <td>Dinner</td>\n",
       "    </tr>\n",
       "  </tbody>\n",
       "</table>\n",
       "</div>"
      ],
      "text/plain": [
       "     id_order id_store  id_waiter  id_device         date_opened  \\\n",
       "0   112572333     7786    24920.0    14854.0 2020-01-12 16:03:02   \n",
       "1   112912195     6830    12894.0    13026.0 2020-01-14 22:06:18   \n",
       "2   113129706     8291    16823.0    15760.0 2020-01-16 11:11:02   \n",
       "3    79969209      351      461.0      128.0 2019-06-29 17:03:54   \n",
       "4    49208645     6008    10990.0    11065.0 2018-11-16 16:43:54   \n",
       "5    50451573     6008    10990.0    11065.0 2018-11-27 18:57:58   \n",
       "6    50451883      730     1095.0      754.0 2018-11-27 19:01:28   \n",
       "7    50454421      351      461.0      128.0 2018-11-27 19:17:04   \n",
       "8     1904545     2035     2753.0      716.0 2016-07-07 17:28:36   \n",
       "9    19691004     2035     2752.0     5949.0 2018-01-20 18:23:38   \n",
       "10   19702583     1513     2464.0      424.0 2018-01-20 19:21:43   \n",
       "11   21385338     2035     2753.0     5949.0 2018-02-15 11:53:42   \n",
       "12   95904308     6827    14302.0    13022.0 2019-10-03 11:17:30   \n",
       "13   65244054     8291    16823.0    15747.0 2019-03-26 12:45:35   \n",
       "15  134994431     6827    14302.0    13022.0 2020-07-27 20:00:12   \n",
       "\n",
       "           date_closed dim_status    dim_source  m_nb_customer  \\\n",
       "0  2020-01-12 16:03:13     CLOSED  Tiller order              1   \n",
       "1  2020-01-14 22:08:10     CLOSED   Tiller iPAD              4   \n",
       "2  2020-01-16 11:11:30     CLOSED  Tiller order              1   \n",
       "3  2019-06-29 18:22:21     CLOSED   Tiller iPAD              4   \n",
       "4  2018-11-16 16:56:15     CLOSED   Tiller iPAD              1   \n",
       "5  2018-11-27 18:58:59     CLOSED   Tiller iPAD              1   \n",
       "6  2018-11-27 19:06:29     CLOSED   Tiller iPAD              1   \n",
       "7  2018-11-27 21:18:41     CLOSED   Tiller iPAD              2   \n",
       "8  2016-07-07 18:05:32     CLOSED   Tiller iPAD              0   \n",
       "9  2018-01-20 19:08:46     CLOSED   Tiller iPAD              2   \n",
       "10 2018-01-20 21:13:48     CLOSED   Tiller iPAD              2   \n",
       "11 2018-02-15 12:45:43     CLOSED   Tiller iPAD              5   \n",
       "12 2019-10-03 11:20:04     CLOSED   Tiller iPAD              1   \n",
       "13 2019-03-26 12:45:39     CLOSED   Tiller iPAD              1   \n",
       "15 2020-07-27 20:01:31     CLOSED  Tiller order              1   \n",
       "\n",
       "    m_cached_payed  m_cached_price      time meal_types  \n",
       "0            11.90           11.90  16:03:02      Lunch  \n",
       "1            61.10           61.10  22:06:18     Dinner  \n",
       "2            11.70           11.70  11:11:02  Breakfast  \n",
       "3           128.00          128.00  17:03:54      Lunch  \n",
       "4             9.90            9.90  16:43:54      Lunch  \n",
       "5            25.00           25.00  18:57:58     Dinner  \n",
       "6            28.80           28.80  19:01:28     Dinner  \n",
       "7            55.00           55.00  19:17:04     Dinner  \n",
       "8            27.00           27.00  17:28:36      Lunch  \n",
       "9            47.85           47.85  18:23:38     Dinner  \n",
       "10           49.80           49.80  19:21:43     Dinner  \n",
       "11          111.10          111.10  11:53:42  Breakfast  \n",
       "12           54.00           54.00  11:17:30  Breakfast  \n",
       "13            9.90            9.90  12:45:35      Lunch  \n",
       "15           62.00           62.00  20:00:12     Dinner  "
      ]
     },
     "execution_count": 180,
     "metadata": {},
     "output_type": "execute_result"
    }
   ],
   "source": [
    "order_data.head(15)"
   ]
  },
  {
   "cell_type": "code",
   "execution_count": 181,
   "metadata": {},
   "outputs": [],
   "source": [
    "# Exporting the Cleaned Order Data Set to csv\n",
    "order_data.to_csv('Order_data_Cleaned.csv', index=False)"
   ]
  },
  {
   "cell_type": "markdown",
   "metadata": {},
   "source": [
    "## Order Line"
   ]
  },
  {
   "cell_type": "code",
   "execution_count": 182,
   "metadata": {},
   "outputs": [],
   "source": [
    "# Loading the Order Data from the csv file\n",
    "order_line = pd.read_csv('Data_Files/order_line.csv')"
   ]
  },
  {
   "cell_type": "code",
   "execution_count": 183,
   "metadata": {},
   "outputs": [
    {
     "data": {
      "text/plain": [
       "(500, 20)"
      ]
     },
     "execution_count": 183,
     "metadata": {},
     "output_type": "execute_result"
    }
   ],
   "source": [
    "order_line.shape"
   ]
  },
  {
   "cell_type": "code",
   "execution_count": 184,
   "metadata": {},
   "outputs": [
    {
     "data": {
      "text/html": [
       "<div>\n",
       "<style scoped>\n",
       "    .dataframe tbody tr th:only-of-type {\n",
       "        vertical-align: middle;\n",
       "    }\n",
       "\n",
       "    .dataframe tbody tr th {\n",
       "        vertical-align: top;\n",
       "    }\n",
       "\n",
       "    .dataframe thead th {\n",
       "        text-align: right;\n",
       "    }\n",
       "</style>\n",
       "<table border=\"1\" class=\"dataframe\">\n",
       "  <thead>\n",
       "    <tr style=\"text-align: right;\">\n",
       "      <th></th>\n",
       "      <th>id_order_line</th>\n",
       "      <th>id_order</th>\n",
       "      <th>date_opended</th>\n",
       "      <th>date_created</th>\n",
       "      <th>m_quantity</th>\n",
       "      <th>m_unit_price</th>\n",
       "      <th>m_unit_price_exc_vat</th>\n",
       "      <th>m_total_price_inc_vat</th>\n",
       "      <th>m_total_price_exc_vat</th>\n",
       "      <th>m_tax_percent</th>\n",
       "      <th>m_discount_amount</th>\n",
       "      <th>dim_type</th>\n",
       "      <th>dim_category</th>\n",
       "      <th>dim_name</th>\n",
       "      <th>dim_status</th>\n",
       "      <th>dim_feature_type</th>\n",
       "      <th>dim_unit_measure</th>\n",
       "      <th>dim_unit_measure_display</th>\n",
       "      <th>dim_category_translated</th>\n",
       "      <th>dim_name_translated</th>\n",
       "    </tr>\n",
       "  </thead>\n",
       "  <tbody>\n",
       "    <tr>\n",
       "      <th>0</th>\n",
       "      <td>36303668</td>\n",
       "      <td>7901432</td>\n",
       "      <td>29/04/2017 20:38:13</td>\n",
       "      <td>29/04/2017 20:38:13</td>\n",
       "      <td>1</td>\n",
       "      <td>0</td>\n",
       "      <td>0</td>\n",
       "      <td>0</td>\n",
       "      <td>0</td>\n",
       "      <td>0.2</td>\n",
       "      <td>0</td>\n",
       "      <td>OPTION</td>\n",
       "      <td>Martini 15 cl</td>\n",
       "      <td>Gin</td>\n",
       "      <td>WAITING</td>\n",
       "      <td>NaN</td>\n",
       "      <td>NaN</td>\n",
       "      <td>NaN</td>\n",
       "      <td>Martini 15 cl</td>\n",
       "      <td>Gin</td>\n",
       "    </tr>\n",
       "    <tr>\n",
       "      <th>1</th>\n",
       "      <td>160656467</td>\n",
       "      <td>35669117</td>\n",
       "      <td>18/07/2018 12:55:12</td>\n",
       "      <td>18/07/2018 13:09:03</td>\n",
       "      <td>1</td>\n",
       "      <td>0</td>\n",
       "      <td>0</td>\n",
       "      <td>0</td>\n",
       "      <td>0</td>\n",
       "      <td>0.1</td>\n",
       "      <td>0</td>\n",
       "      <td>PRODUCT</td>\n",
       "      <td>WRAP DE SARRASIN</td>\n",
       "      <td>NYC</td>\n",
       "      <td>WAITING</td>\n",
       "      <td>NaN</td>\n",
       "      <td>NaN</td>\n",
       "      <td>NaN</td>\n",
       "      <td>BUCKWHEAT WRAP</td>\n",
       "      <td>NYC</td>\n",
       "    </tr>\n",
       "    <tr>\n",
       "      <th>2</th>\n",
       "      <td>127895661</td>\n",
       "      <td>27274572</td>\n",
       "      <td>27/04/2018 10:44:45</td>\n",
       "      <td>27/04/2018 10:49:04</td>\n",
       "      <td>1</td>\n",
       "      <td>0</td>\n",
       "      <td>0</td>\n",
       "      <td>0</td>\n",
       "      <td>0</td>\n",
       "      <td>0.1</td>\n",
       "      <td>0</td>\n",
       "      <td>PRODUCT</td>\n",
       "      <td>BREIZH'N'ROLL</td>\n",
       "      <td>NYC</td>\n",
       "      <td>IN_PROGRESS</td>\n",
       "      <td>NaN</td>\n",
       "      <td>NaN</td>\n",
       "      <td>NaN</td>\n",
       "      <td>BREIZH&amp;#39;N&amp;#39;ROLL</td>\n",
       "      <td>NYC</td>\n",
       "    </tr>\n",
       "    <tr>\n",
       "      <th>3</th>\n",
       "      <td>124934060</td>\n",
       "      <td>26512568</td>\n",
       "      <td>19/04/2018 10:35:06</td>\n",
       "      <td>19/04/2018 10:35:20</td>\n",
       "      <td>1</td>\n",
       "      <td>0</td>\n",
       "      <td>0</td>\n",
       "      <td>0</td>\n",
       "      <td>0</td>\n",
       "      <td>0.1</td>\n",
       "      <td>0</td>\n",
       "      <td>PRODUCT</td>\n",
       "      <td>BREIZH'N'ROLL</td>\n",
       "      <td>NYC</td>\n",
       "      <td>IN_PROGRESS</td>\n",
       "      <td>NaN</td>\n",
       "      <td>NaN</td>\n",
       "      <td>NaN</td>\n",
       "      <td>BREIZH&amp;#39;N&amp;#39;ROLL</td>\n",
       "      <td>NYC</td>\n",
       "    </tr>\n",
       "    <tr>\n",
       "      <th>4</th>\n",
       "      <td>83606925</td>\n",
       "      <td>16715607</td>\n",
       "      <td>24/11/2017 12:35:38</td>\n",
       "      <td>24/11/2017 12:36:19</td>\n",
       "      <td>1</td>\n",
       "      <td>0</td>\n",
       "      <td>0</td>\n",
       "      <td>0</td>\n",
       "      <td>0</td>\n",
       "      <td>0.1</td>\n",
       "      <td>0</td>\n",
       "      <td>PRODUCT</td>\n",
       "      <td>BREIZH'N'ROLL</td>\n",
       "      <td>NYC</td>\n",
       "      <td>IN_PROGRESS</td>\n",
       "      <td>NaN</td>\n",
       "      <td>NaN</td>\n",
       "      <td>NaN</td>\n",
       "      <td>BREIZH&amp;#39;N&amp;#39;ROLL</td>\n",
       "      <td>NYC</td>\n",
       "    </tr>\n",
       "  </tbody>\n",
       "</table>\n",
       "</div>"
      ],
      "text/plain": [
       "   id_order_line  id_order         date_opended         date_created  \\\n",
       "0       36303668   7901432  29/04/2017 20:38:13  29/04/2017 20:38:13   \n",
       "1      160656467  35669117  18/07/2018 12:55:12  18/07/2018 13:09:03   \n",
       "2      127895661  27274572  27/04/2018 10:44:45  27/04/2018 10:49:04   \n",
       "3      124934060  26512568  19/04/2018 10:35:06  19/04/2018 10:35:20   \n",
       "4       83606925  16715607  24/11/2017 12:35:38  24/11/2017 12:36:19   \n",
       "\n",
       "   m_quantity  m_unit_price  m_unit_price_exc_vat  m_total_price_inc_vat  \\\n",
       "0           1             0                     0                      0   \n",
       "1           1             0                     0                      0   \n",
       "2           1             0                     0                      0   \n",
       "3           1             0                     0                      0   \n",
       "4           1             0                     0                      0   \n",
       "\n",
       "   m_total_price_exc_vat  m_tax_percent  m_discount_amount dim_type  \\\n",
       "0                      0            0.2                  0   OPTION   \n",
       "1                      0            0.1                  0  PRODUCT   \n",
       "2                      0            0.1                  0  PRODUCT   \n",
       "3                      0            0.1                  0  PRODUCT   \n",
       "4                      0            0.1                  0  PRODUCT   \n",
       "\n",
       "       dim_category dim_name   dim_status dim_feature_type dim_unit_measure  \\\n",
       "0     Martini 15 cl      Gin      WAITING              NaN              NaN   \n",
       "1  WRAP DE SARRASIN      NYC      WAITING              NaN              NaN   \n",
       "2     BREIZH'N'ROLL      NYC  IN_PROGRESS              NaN              NaN   \n",
       "3     BREIZH'N'ROLL      NYC  IN_PROGRESS              NaN              NaN   \n",
       "4     BREIZH'N'ROLL      NYC  IN_PROGRESS              NaN              NaN   \n",
       "\n",
       "  dim_unit_measure_display dim_category_translated dim_name_translated  \n",
       "0                      NaN           Martini 15 cl                 Gin  \n",
       "1                      NaN          BUCKWHEAT WRAP                 NYC  \n",
       "2                      NaN   BREIZH&#39;N&#39;ROLL                 NYC  \n",
       "3                      NaN   BREIZH&#39;N&#39;ROLL                 NYC  \n",
       "4                      NaN   BREIZH&#39;N&#39;ROLL                 NYC  "
      ]
     },
     "execution_count": 184,
     "metadata": {},
     "output_type": "execute_result"
    }
   ],
   "source": [
    "order_line.head()"
   ]
  },
  {
   "cell_type": "code",
   "execution_count": 185,
   "metadata": {},
   "outputs": [
    {
     "data": {
      "text/plain": [
       "id_order_line                 int64\n",
       "id_order                      int64\n",
       "date_opended                 object\n",
       "date_created                 object\n",
       "m_quantity                    int64\n",
       "m_unit_price                  int64\n",
       "m_unit_price_exc_vat          int64\n",
       "m_total_price_inc_vat         int64\n",
       "m_total_price_exc_vat         int64\n",
       "m_tax_percent               float64\n",
       "m_discount_amount             int64\n",
       "dim_type                     object\n",
       "dim_category                 object\n",
       "dim_name                     object\n",
       "dim_status                   object\n",
       "dim_feature_type             object\n",
       "dim_unit_measure             object\n",
       "dim_unit_measure_display     object\n",
       "dim_category_translated      object\n",
       "dim_name_translated          object\n",
       "dtype: object"
      ]
     },
     "execution_count": 185,
     "metadata": {},
     "output_type": "execute_result"
    }
   ],
   "source": [
    "order_line.dtypes"
   ]
  },
  {
   "cell_type": "code",
   "execution_count": 186,
   "metadata": {},
   "outputs": [
    {
     "name": "stdout",
     "output_type": "stream",
     "text": [
      "<class 'pandas.core.frame.DataFrame'>\n",
      "RangeIndex: 500 entries, 0 to 499\n",
      "Data columns (total 20 columns):\n",
      " #   Column                    Non-Null Count  Dtype  \n",
      "---  ------                    --------------  -----  \n",
      " 0   id_order_line             500 non-null    int64  \n",
      " 1   id_order                  500 non-null    int64  \n",
      " 2   date_opended              500 non-null    object \n",
      " 3   date_created              500 non-null    object \n",
      " 4   m_quantity                500 non-null    int64  \n",
      " 5   m_unit_price              500 non-null    int64  \n",
      " 6   m_unit_price_exc_vat      500 non-null    int64  \n",
      " 7   m_total_price_inc_vat     500 non-null    int64  \n",
      " 8   m_total_price_exc_vat     500 non-null    int64  \n",
      " 9   m_tax_percent             500 non-null    float64\n",
      " 10  m_discount_amount         500 non-null    int64  \n",
      " 11  dim_type                  500 non-null    object \n",
      " 12  dim_category              500 non-null    object \n",
      " 13  dim_name                  500 non-null    object \n",
      " 14  dim_status                500 non-null    object \n",
      " 15  dim_feature_type          3 non-null      object \n",
      " 16  dim_unit_measure          73 non-null     object \n",
      " 17  dim_unit_measure_display  73 non-null     object \n",
      " 18  dim_category_translated   500 non-null    object \n",
      " 19  dim_name_translated       500 non-null    object \n",
      "dtypes: float64(1), int64(8), object(11)\n",
      "memory usage: 78.2+ KB\n"
     ]
    }
   ],
   "source": [
    "order_line.info()"
   ]
  },
  {
   "cell_type": "code",
   "execution_count": 187,
   "metadata": {},
   "outputs": [],
   "source": [
    "order_line[['id_order_line','id_order']] = order_line[['id_order_line','id_order']].astype(str)"
   ]
  },
  {
   "cell_type": "code",
   "execution_count": 188,
   "metadata": {},
   "outputs": [],
   "source": [
    "order_line['date_opended'] = pd.to_datetime(order_line['date_opended'], format= \"%d/%m/%Y %H:%M:%S\")\n",
    "order_line['date_created'] = pd.to_datetime(order_line['date_created'], format= \"%d/%m/%Y %H:%M:%S\")"
   ]
  },
  {
   "cell_type": "code",
   "execution_count": 189,
   "metadata": {},
   "outputs": [
    {
     "data": {
      "text/plain": [
       "id_order_line                 0\n",
       "id_order                      0\n",
       "date_opended                  0\n",
       "date_created                  0\n",
       "m_quantity                    0\n",
       "m_unit_price                  0\n",
       "m_unit_price_exc_vat          0\n",
       "m_total_price_inc_vat         0\n",
       "m_total_price_exc_vat         0\n",
       "m_tax_percent                 0\n",
       "m_discount_amount             0\n",
       "dim_type                      0\n",
       "dim_category                  0\n",
       "dim_name                      0\n",
       "dim_status                    0\n",
       "dim_feature_type            497\n",
       "dim_unit_measure            427\n",
       "dim_unit_measure_display    427\n",
       "dim_category_translated       0\n",
       "dim_name_translated           0\n",
       "dtype: int64"
      ]
     },
     "execution_count": 189,
     "metadata": {},
     "output_type": "execute_result"
    }
   ],
   "source": [
    "# Total number of missing values\n",
    "order_line.isnull().sum()"
   ]
  },
  {
   "cell_type": "code",
   "execution_count": 190,
   "metadata": {},
   "outputs": [
    {
     "data": {
      "text/plain": [
       "id_order_line                0.0\n",
       "id_order                     0.0\n",
       "date_opended                 0.0\n",
       "date_created                 0.0\n",
       "m_quantity                   0.0\n",
       "m_unit_price                 0.0\n",
       "m_unit_price_exc_vat         0.0\n",
       "m_total_price_inc_vat        0.0\n",
       "m_total_price_exc_vat        0.0\n",
       "m_tax_percent                0.0\n",
       "m_discount_amount            0.0\n",
       "dim_type                     0.0\n",
       "dim_category                 0.0\n",
       "dim_name                     0.0\n",
       "dim_status                   0.0\n",
       "dim_feature_type            99.4\n",
       "dim_unit_measure            85.4\n",
       "dim_unit_measure_display    85.4\n",
       "dim_category_translated      0.0\n",
       "dim_name_translated          0.0\n",
       "dtype: float64"
      ]
     },
     "execution_count": 190,
     "metadata": {},
     "output_type": "execute_result"
    }
   ],
   "source": [
    "# Total percentage of missing values\n",
    "order_line.isnull().sum()/len(order_line)*100"
   ]
  },
  {
   "cell_type": "code",
   "execution_count": 191,
   "metadata": {},
   "outputs": [],
   "source": [
    "order_line.drop( columns=[\"dim_feature_type\",\"dim_unit_measure\",\"dim_unit_measure_display\"] , inplace = True)"
   ]
  },
  {
   "cell_type": "code",
   "execution_count": 192,
   "metadata": {},
   "outputs": [
    {
     "data": {
      "text/plain": [
       "id_order_line              0\n",
       "id_order                   0\n",
       "date_opended               0\n",
       "date_created               0\n",
       "m_quantity                 0\n",
       "m_unit_price               0\n",
       "m_unit_price_exc_vat       0\n",
       "m_total_price_inc_vat      0\n",
       "m_total_price_exc_vat      0\n",
       "m_tax_percent              0\n",
       "m_discount_amount          0\n",
       "dim_type                   0\n",
       "dim_category               0\n",
       "dim_name                   0\n",
       "dim_status                 0\n",
       "dim_category_translated    0\n",
       "dim_name_translated        0\n",
       "dtype: int64"
      ]
     },
     "execution_count": 192,
     "metadata": {},
     "output_type": "execute_result"
    }
   ],
   "source": [
    "order_line.isnull().sum()"
   ]
  },
  {
   "cell_type": "code",
   "execution_count": 193,
   "metadata": {},
   "outputs": [],
   "source": [
    "# To standardrize the entries of data in dim_category column\n",
    "order_line['dim_category'].replace('Cuisson' , 'Cuissons' , inplace = True)\n",
    "order_line['dim_category'].replace('CUISSONS' , 'Cuissons' , inplace = True)"
   ]
  },
  {
   "cell_type": "code",
   "execution_count": 194,
   "metadata": {},
   "outputs": [],
   "source": [
    "# To standardrize the entries of data in dim_category_translated column\n",
    "order_line['dim_category_translated'].replace('COOKINGS' , 'cooking' , inplace = True)\n",
    "order_line['dim_category_translated'].replace('BRUNCH' , 'Brunch' , inplace = True)\n",
    "order_line['dim_category_translated'].replace('cooking' , 'Cooking' , inplace = True)"
   ]
  },
  {
   "cell_type": "code",
   "execution_count": 195,
   "metadata": {},
   "outputs": [
    {
     "data": {
      "text/plain": [
       "15"
      ]
     },
     "execution_count": 195,
     "metadata": {},
     "output_type": "execute_result"
    }
   ],
   "source": [
    "order_line['dim_category_translated'].nunique()"
   ]
  },
  {
   "cell_type": "code",
   "execution_count": 196,
   "metadata": {},
   "outputs": [
    {
     "data": {
      "text/plain": [
       "dim_category_translated\n",
       "BUCKWHEAT WRAP           148\n",
       "Hot drinks                92\n",
       "Brunch                    52\n",
       "BREIZH&#39;N&#39;ROLL     50\n",
       "Drinks                    37\n",
       "COLD DRINKS               36\n",
       "Cooking                   28\n",
       "FOCACCIA TO TAKE AWAY     22\n",
       "CAFE / THE                11\n",
       "Martini 15 cl              5\n",
       "SCENT                      5\n",
       "Menu 25,00                 5\n",
       "ICE TASTE                  3\n",
       "FOCACCIA SUR PLACE         3\n",
       "Champagne                  3\n",
       "Name: count, dtype: int64"
      ]
     },
     "execution_count": 196,
     "metadata": {},
     "output_type": "execute_result"
    }
   ],
   "source": [
    "order_line['dim_category_translated'].value_counts()"
   ]
  },
  {
   "cell_type": "code",
   "execution_count": 247,
   "metadata": {},
   "outputs": [],
   "source": [
    "def categories(dim_category_translated):\n",
    "    if dim_category_translated ==  'Brunch' :\n",
    "        return 'Main Dishes'\n",
    "    if dim_category_translated ==   'Cooking' :\n",
    "        return 'Main Dishes'\n",
    "    if dim_category_translated ==   'Menu 25,00':\n",
    "        return 'Main Dishes'\n",
    "    elif dim_category_translated == 'BREIZH&#39;N&#39;ROLL' :\n",
    "        return 'Desserts'\n",
    "    elif dim_category_translated == 'BUCKWHEAT WRAP' :\n",
    "        return 'Appetizers'\n",
    "    elif dim_category_translated == 'COLD DRINKS' :\n",
    "        return 'Soft Drinks'\n",
    "    elif dim_category_translated == 'Drinks' :\n",
    "        return 'Wines'\n",
    "    elif dim_category_translated == 'FOCACCIA TO TAKE AWAY' :\n",
    "        return 'Cheeses'\n",
    "    elif dim_category_translated == 'FOCACCIA SUR PLACE' :\n",
    "        return 'Cheeses'\n",
    "    elif dim_category_translated == 'Hot drinks' :\n",
    "        return 'Hot Drinks'\n",
    "    elif dim_category_translated == 'CAFE / THE' :\n",
    "        return 'Beers'\n",
    "    elif dim_category_translated == 'ICE TASTE' :\n",
    "        return 'Beers'\n",
    "    elif dim_category_translated == 'Martini 15 cl' :\n",
    "        return 'Other Alcholic Drinks'\n",
    "    elif dim_category_translated == 'Champagne':\n",
    "        return 'Other Alcholic Drinks'\n",
    "    else:\n",
    "        return 'others'"
   ]
  },
  {
   "cell_type": "code",
   "execution_count": 248,
   "metadata": {},
   "outputs": [],
   "source": [
    "order_line['categories'] = order_line['dim_category_translated'].apply(categories)"
   ]
  },
  {
   "cell_type": "code",
   "execution_count": 249,
   "metadata": {},
   "outputs": [
    {
     "data": {
      "text/plain": [
       "10"
      ]
     },
     "execution_count": 249,
     "metadata": {},
     "output_type": "execute_result"
    }
   ],
   "source": [
    "order_line['categories'].nunique()"
   ]
  },
  {
   "cell_type": "code",
   "execution_count": 250,
   "metadata": {},
   "outputs": [
    {
     "data": {
      "text/plain": [
       "categories\n",
       "Appetizers               148\n",
       "Hot Drinks                92\n",
       "Main Dishes               85\n",
       "Desserts                  50\n",
       "Wines                     37\n",
       "Soft Drinks               36\n",
       "Cheeses                   25\n",
       "Beers                     14\n",
       "Other Alcholic Drinks      8\n",
       "others                     5\n",
       "Name: count, dtype: int64"
      ]
     },
     "execution_count": 250,
     "metadata": {},
     "output_type": "execute_result"
    }
   ],
   "source": [
    "order_line['categories'].value_counts()"
   ]
  },
  {
   "cell_type": "code",
   "execution_count": 251,
   "metadata": {},
   "outputs": [
    {
     "data": {
      "text/html": [
       "<div>\n",
       "<style scoped>\n",
       "    .dataframe tbody tr th:only-of-type {\n",
       "        vertical-align: middle;\n",
       "    }\n",
       "\n",
       "    .dataframe tbody tr th {\n",
       "        vertical-align: top;\n",
       "    }\n",
       "\n",
       "    .dataframe thead th {\n",
       "        text-align: right;\n",
       "    }\n",
       "</style>\n",
       "<table border=\"1\" class=\"dataframe\">\n",
       "  <thead>\n",
       "    <tr style=\"text-align: right;\">\n",
       "      <th></th>\n",
       "      <th>id_order_line</th>\n",
       "      <th>id_order</th>\n",
       "      <th>date_opended</th>\n",
       "      <th>date_created</th>\n",
       "      <th>m_quantity</th>\n",
       "      <th>m_unit_price</th>\n",
       "      <th>m_unit_price_exc_vat</th>\n",
       "      <th>m_total_price_inc_vat</th>\n",
       "      <th>m_total_price_exc_vat</th>\n",
       "      <th>m_tax_percent</th>\n",
       "      <th>m_discount_amount</th>\n",
       "      <th>dim_type</th>\n",
       "      <th>dim_category</th>\n",
       "      <th>dim_name</th>\n",
       "      <th>dim_status</th>\n",
       "      <th>dim_category_translated</th>\n",
       "      <th>dim_name_translated</th>\n",
       "      <th>categories</th>\n",
       "    </tr>\n",
       "  </thead>\n",
       "  <tbody>\n",
       "    <tr>\n",
       "      <th>0</th>\n",
       "      <td>36303668</td>\n",
       "      <td>7901432</td>\n",
       "      <td>2017-04-29 20:38:13</td>\n",
       "      <td>2017-04-29 20:38:13</td>\n",
       "      <td>1</td>\n",
       "      <td>0</td>\n",
       "      <td>0</td>\n",
       "      <td>0</td>\n",
       "      <td>0</td>\n",
       "      <td>0.2</td>\n",
       "      <td>0</td>\n",
       "      <td>OPTION</td>\n",
       "      <td>Martini 15 cl</td>\n",
       "      <td>Gin</td>\n",
       "      <td>WAITING</td>\n",
       "      <td>Martini 15 cl</td>\n",
       "      <td>Gin</td>\n",
       "      <td>Other Alcholic Drinks</td>\n",
       "    </tr>\n",
       "    <tr>\n",
       "      <th>1</th>\n",
       "      <td>160656467</td>\n",
       "      <td>35669117</td>\n",
       "      <td>2018-07-18 12:55:12</td>\n",
       "      <td>2018-07-18 13:09:03</td>\n",
       "      <td>1</td>\n",
       "      <td>0</td>\n",
       "      <td>0</td>\n",
       "      <td>0</td>\n",
       "      <td>0</td>\n",
       "      <td>0.1</td>\n",
       "      <td>0</td>\n",
       "      <td>PRODUCT</td>\n",
       "      <td>WRAP DE SARRASIN</td>\n",
       "      <td>NYC</td>\n",
       "      <td>WAITING</td>\n",
       "      <td>BUCKWHEAT WRAP</td>\n",
       "      <td>NYC</td>\n",
       "      <td>Appetizers</td>\n",
       "    </tr>\n",
       "    <tr>\n",
       "      <th>2</th>\n",
       "      <td>127895661</td>\n",
       "      <td>27274572</td>\n",
       "      <td>2018-04-27 10:44:45</td>\n",
       "      <td>2018-04-27 10:49:04</td>\n",
       "      <td>1</td>\n",
       "      <td>0</td>\n",
       "      <td>0</td>\n",
       "      <td>0</td>\n",
       "      <td>0</td>\n",
       "      <td>0.1</td>\n",
       "      <td>0</td>\n",
       "      <td>PRODUCT</td>\n",
       "      <td>BREIZH'N'ROLL</td>\n",
       "      <td>NYC</td>\n",
       "      <td>IN_PROGRESS</td>\n",
       "      <td>BREIZH&amp;#39;N&amp;#39;ROLL</td>\n",
       "      <td>NYC</td>\n",
       "      <td>Desserts</td>\n",
       "    </tr>\n",
       "    <tr>\n",
       "      <th>3</th>\n",
       "      <td>124934060</td>\n",
       "      <td>26512568</td>\n",
       "      <td>2018-04-19 10:35:06</td>\n",
       "      <td>2018-04-19 10:35:20</td>\n",
       "      <td>1</td>\n",
       "      <td>0</td>\n",
       "      <td>0</td>\n",
       "      <td>0</td>\n",
       "      <td>0</td>\n",
       "      <td>0.1</td>\n",
       "      <td>0</td>\n",
       "      <td>PRODUCT</td>\n",
       "      <td>BREIZH'N'ROLL</td>\n",
       "      <td>NYC</td>\n",
       "      <td>IN_PROGRESS</td>\n",
       "      <td>BREIZH&amp;#39;N&amp;#39;ROLL</td>\n",
       "      <td>NYC</td>\n",
       "      <td>Desserts</td>\n",
       "    </tr>\n",
       "    <tr>\n",
       "      <th>4</th>\n",
       "      <td>83606925</td>\n",
       "      <td>16715607</td>\n",
       "      <td>2017-11-24 12:35:38</td>\n",
       "      <td>2017-11-24 12:36:19</td>\n",
       "      <td>1</td>\n",
       "      <td>0</td>\n",
       "      <td>0</td>\n",
       "      <td>0</td>\n",
       "      <td>0</td>\n",
       "      <td>0.1</td>\n",
       "      <td>0</td>\n",
       "      <td>PRODUCT</td>\n",
       "      <td>BREIZH'N'ROLL</td>\n",
       "      <td>NYC</td>\n",
       "      <td>IN_PROGRESS</td>\n",
       "      <td>BREIZH&amp;#39;N&amp;#39;ROLL</td>\n",
       "      <td>NYC</td>\n",
       "      <td>Desserts</td>\n",
       "    </tr>\n",
       "    <tr>\n",
       "      <th>5</th>\n",
       "      <td>95576855</td>\n",
       "      <td>19444662</td>\n",
       "      <td>2018-01-17 11:34:34</td>\n",
       "      <td>2018-01-17 11:34:43</td>\n",
       "      <td>1</td>\n",
       "      <td>0</td>\n",
       "      <td>0</td>\n",
       "      <td>0</td>\n",
       "      <td>0</td>\n",
       "      <td>0.1</td>\n",
       "      <td>0</td>\n",
       "      <td>PRODUCT</td>\n",
       "      <td>BREIZH'N'ROLL</td>\n",
       "      <td>NYC</td>\n",
       "      <td>IN_PROGRESS</td>\n",
       "      <td>BREIZH&amp;#39;N&amp;#39;ROLL</td>\n",
       "      <td>NYC</td>\n",
       "      <td>Desserts</td>\n",
       "    </tr>\n",
       "    <tr>\n",
       "      <th>6</th>\n",
       "      <td>122765839</td>\n",
       "      <td>25968886</td>\n",
       "      <td>2018-04-13 12:19:31</td>\n",
       "      <td>2018-04-13 12:21:41</td>\n",
       "      <td>1</td>\n",
       "      <td>0</td>\n",
       "      <td>0</td>\n",
       "      <td>0</td>\n",
       "      <td>0</td>\n",
       "      <td>0.1</td>\n",
       "      <td>0</td>\n",
       "      <td>PRODUCT</td>\n",
       "      <td>BREIZH'N'ROLL</td>\n",
       "      <td>NYC</td>\n",
       "      <td>IN_PROGRESS</td>\n",
       "      <td>BREIZH&amp;#39;N&amp;#39;ROLL</td>\n",
       "      <td>NYC</td>\n",
       "      <td>Desserts</td>\n",
       "    </tr>\n",
       "    <tr>\n",
       "      <th>7</th>\n",
       "      <td>125356289</td>\n",
       "      <td>26620740</td>\n",
       "      <td>2018-04-20 10:32:37</td>\n",
       "      <td>2018-04-20 10:32:45</td>\n",
       "      <td>1</td>\n",
       "      <td>0</td>\n",
       "      <td>0</td>\n",
       "      <td>0</td>\n",
       "      <td>0</td>\n",
       "      <td>0.1</td>\n",
       "      <td>0</td>\n",
       "      <td>PRODUCT</td>\n",
       "      <td>BREIZH'N'ROLL</td>\n",
       "      <td>NYC</td>\n",
       "      <td>IN_PROGRESS</td>\n",
       "      <td>BREIZH&amp;#39;N&amp;#39;ROLL</td>\n",
       "      <td>NYC</td>\n",
       "      <td>Desserts</td>\n",
       "    </tr>\n",
       "    <tr>\n",
       "      <th>8</th>\n",
       "      <td>101489716</td>\n",
       "      <td>20819250</td>\n",
       "      <td>2018-02-07 11:33:17</td>\n",
       "      <td>2018-02-07 11:38:27</td>\n",
       "      <td>1</td>\n",
       "      <td>0</td>\n",
       "      <td>0</td>\n",
       "      <td>0</td>\n",
       "      <td>0</td>\n",
       "      <td>0.1</td>\n",
       "      <td>0</td>\n",
       "      <td>PRODUCT</td>\n",
       "      <td>BREIZH'N'ROLL</td>\n",
       "      <td>NYC</td>\n",
       "      <td>IN_PROGRESS</td>\n",
       "      <td>BREIZH&amp;#39;N&amp;#39;ROLL</td>\n",
       "      <td>NYC</td>\n",
       "      <td>Desserts</td>\n",
       "    </tr>\n",
       "    <tr>\n",
       "      <th>9</th>\n",
       "      <td>84390706</td>\n",
       "      <td>16892571</td>\n",
       "      <td>2017-11-28 11:56:39</td>\n",
       "      <td>2017-11-28 11:56:45</td>\n",
       "      <td>1</td>\n",
       "      <td>0</td>\n",
       "      <td>0</td>\n",
       "      <td>0</td>\n",
       "      <td>0</td>\n",
       "      <td>0.1</td>\n",
       "      <td>0</td>\n",
       "      <td>PRODUCT</td>\n",
       "      <td>BREIZH'N'ROLL</td>\n",
       "      <td>NYC</td>\n",
       "      <td>IN_PROGRESS</td>\n",
       "      <td>BREIZH&amp;#39;N&amp;#39;ROLL</td>\n",
       "      <td>NYC</td>\n",
       "      <td>Desserts</td>\n",
       "    </tr>\n",
       "    <tr>\n",
       "      <th>10</th>\n",
       "      <td>106488507</td>\n",
       "      <td>21984050</td>\n",
       "      <td>2018-02-23 12:23:44</td>\n",
       "      <td>2018-02-23 12:25:02</td>\n",
       "      <td>1</td>\n",
       "      <td>0</td>\n",
       "      <td>0</td>\n",
       "      <td>0</td>\n",
       "      <td>0</td>\n",
       "      <td>0.1</td>\n",
       "      <td>0</td>\n",
       "      <td>PRODUCT</td>\n",
       "      <td>BREIZH'N'ROLL</td>\n",
       "      <td>NYC</td>\n",
       "      <td>IN_PROGRESS</td>\n",
       "      <td>BREIZH&amp;#39;N&amp;#39;ROLL</td>\n",
       "      <td>NYC</td>\n",
       "      <td>Desserts</td>\n",
       "    </tr>\n",
       "    <tr>\n",
       "      <th>11</th>\n",
       "      <td>114793266</td>\n",
       "      <td>24024324</td>\n",
       "      <td>2018-03-22 11:53:50</td>\n",
       "      <td>2018-03-22 11:57:13</td>\n",
       "      <td>1</td>\n",
       "      <td>0</td>\n",
       "      <td>0</td>\n",
       "      <td>0</td>\n",
       "      <td>0</td>\n",
       "      <td>0.1</td>\n",
       "      <td>0</td>\n",
       "      <td>PRODUCT</td>\n",
       "      <td>BREIZH'N'ROLL</td>\n",
       "      <td>NYC</td>\n",
       "      <td>IN_PROGRESS</td>\n",
       "      <td>BREIZH&amp;#39;N&amp;#39;ROLL</td>\n",
       "      <td>NYC</td>\n",
       "      <td>Desserts</td>\n",
       "    </tr>\n",
       "    <tr>\n",
       "      <th>12</th>\n",
       "      <td>127947863</td>\n",
       "      <td>27286723</td>\n",
       "      <td>2018-04-27 11:32:44</td>\n",
       "      <td>2018-04-27 11:32:53</td>\n",
       "      <td>1</td>\n",
       "      <td>0</td>\n",
       "      <td>0</td>\n",
       "      <td>0</td>\n",
       "      <td>0</td>\n",
       "      <td>0.1</td>\n",
       "      <td>0</td>\n",
       "      <td>PRODUCT</td>\n",
       "      <td>BREIZH'N'ROLL</td>\n",
       "      <td>NYC</td>\n",
       "      <td>IN_PROGRESS</td>\n",
       "      <td>BREIZH&amp;#39;N&amp;#39;ROLL</td>\n",
       "      <td>NYC</td>\n",
       "      <td>Desserts</td>\n",
       "    </tr>\n",
       "    <tr>\n",
       "      <th>13</th>\n",
       "      <td>111820102</td>\n",
       "      <td>23298891</td>\n",
       "      <td>2018-03-13 12:12:33</td>\n",
       "      <td>2018-03-13 12:12:41</td>\n",
       "      <td>1</td>\n",
       "      <td>0</td>\n",
       "      <td>0</td>\n",
       "      <td>0</td>\n",
       "      <td>0</td>\n",
       "      <td>0.1</td>\n",
       "      <td>0</td>\n",
       "      <td>PRODUCT</td>\n",
       "      <td>BREIZH'N'ROLL</td>\n",
       "      <td>NYC</td>\n",
       "      <td>IN_PROGRESS</td>\n",
       "      <td>BREIZH&amp;#39;N&amp;#39;ROLL</td>\n",
       "      <td>NYC</td>\n",
       "      <td>Desserts</td>\n",
       "    </tr>\n",
       "    <tr>\n",
       "      <th>14</th>\n",
       "      <td>92274868</td>\n",
       "      <td>18680419</td>\n",
       "      <td>2018-01-04 11:57:01</td>\n",
       "      <td>2018-01-04 11:57:10</td>\n",
       "      <td>1</td>\n",
       "      <td>0</td>\n",
       "      <td>0</td>\n",
       "      <td>0</td>\n",
       "      <td>0</td>\n",
       "      <td>0.1</td>\n",
       "      <td>0</td>\n",
       "      <td>PRODUCT</td>\n",
       "      <td>BREIZH'N'ROLL</td>\n",
       "      <td>NYC</td>\n",
       "      <td>IN_PROGRESS</td>\n",
       "      <td>BREIZH&amp;#39;N&amp;#39;ROLL</td>\n",
       "      <td>NYC</td>\n",
       "      <td>Desserts</td>\n",
       "    </tr>\n",
       "  </tbody>\n",
       "</table>\n",
       "</div>"
      ],
      "text/plain": [
       "   id_order_line  id_order        date_opended        date_created  \\\n",
       "0       36303668   7901432 2017-04-29 20:38:13 2017-04-29 20:38:13   \n",
       "1      160656467  35669117 2018-07-18 12:55:12 2018-07-18 13:09:03   \n",
       "2      127895661  27274572 2018-04-27 10:44:45 2018-04-27 10:49:04   \n",
       "3      124934060  26512568 2018-04-19 10:35:06 2018-04-19 10:35:20   \n",
       "4       83606925  16715607 2017-11-24 12:35:38 2017-11-24 12:36:19   \n",
       "5       95576855  19444662 2018-01-17 11:34:34 2018-01-17 11:34:43   \n",
       "6      122765839  25968886 2018-04-13 12:19:31 2018-04-13 12:21:41   \n",
       "7      125356289  26620740 2018-04-20 10:32:37 2018-04-20 10:32:45   \n",
       "8      101489716  20819250 2018-02-07 11:33:17 2018-02-07 11:38:27   \n",
       "9       84390706  16892571 2017-11-28 11:56:39 2017-11-28 11:56:45   \n",
       "10     106488507  21984050 2018-02-23 12:23:44 2018-02-23 12:25:02   \n",
       "11     114793266  24024324 2018-03-22 11:53:50 2018-03-22 11:57:13   \n",
       "12     127947863  27286723 2018-04-27 11:32:44 2018-04-27 11:32:53   \n",
       "13     111820102  23298891 2018-03-13 12:12:33 2018-03-13 12:12:41   \n",
       "14      92274868  18680419 2018-01-04 11:57:01 2018-01-04 11:57:10   \n",
       "\n",
       "    m_quantity  m_unit_price  m_unit_price_exc_vat  m_total_price_inc_vat  \\\n",
       "0            1             0                     0                      0   \n",
       "1            1             0                     0                      0   \n",
       "2            1             0                     0                      0   \n",
       "3            1             0                     0                      0   \n",
       "4            1             0                     0                      0   \n",
       "5            1             0                     0                      0   \n",
       "6            1             0                     0                      0   \n",
       "7            1             0                     0                      0   \n",
       "8            1             0                     0                      0   \n",
       "9            1             0                     0                      0   \n",
       "10           1             0                     0                      0   \n",
       "11           1             0                     0                      0   \n",
       "12           1             0                     0                      0   \n",
       "13           1             0                     0                      0   \n",
       "14           1             0                     0                      0   \n",
       "\n",
       "    m_total_price_exc_vat  m_tax_percent  m_discount_amount dim_type  \\\n",
       "0                       0            0.2                  0   OPTION   \n",
       "1                       0            0.1                  0  PRODUCT   \n",
       "2                       0            0.1                  0  PRODUCT   \n",
       "3                       0            0.1                  0  PRODUCT   \n",
       "4                       0            0.1                  0  PRODUCT   \n",
       "5                       0            0.1                  0  PRODUCT   \n",
       "6                       0            0.1                  0  PRODUCT   \n",
       "7                       0            0.1                  0  PRODUCT   \n",
       "8                       0            0.1                  0  PRODUCT   \n",
       "9                       0            0.1                  0  PRODUCT   \n",
       "10                      0            0.1                  0  PRODUCT   \n",
       "11                      0            0.1                  0  PRODUCT   \n",
       "12                      0            0.1                  0  PRODUCT   \n",
       "13                      0            0.1                  0  PRODUCT   \n",
       "14                      0            0.1                  0  PRODUCT   \n",
       "\n",
       "        dim_category dim_name   dim_status dim_category_translated  \\\n",
       "0      Martini 15 cl      Gin      WAITING           Martini 15 cl   \n",
       "1   WRAP DE SARRASIN      NYC      WAITING          BUCKWHEAT WRAP   \n",
       "2      BREIZH'N'ROLL      NYC  IN_PROGRESS   BREIZH&#39;N&#39;ROLL   \n",
       "3      BREIZH'N'ROLL      NYC  IN_PROGRESS   BREIZH&#39;N&#39;ROLL   \n",
       "4      BREIZH'N'ROLL      NYC  IN_PROGRESS   BREIZH&#39;N&#39;ROLL   \n",
       "5      BREIZH'N'ROLL      NYC  IN_PROGRESS   BREIZH&#39;N&#39;ROLL   \n",
       "6      BREIZH'N'ROLL      NYC  IN_PROGRESS   BREIZH&#39;N&#39;ROLL   \n",
       "7      BREIZH'N'ROLL      NYC  IN_PROGRESS   BREIZH&#39;N&#39;ROLL   \n",
       "8      BREIZH'N'ROLL      NYC  IN_PROGRESS   BREIZH&#39;N&#39;ROLL   \n",
       "9      BREIZH'N'ROLL      NYC  IN_PROGRESS   BREIZH&#39;N&#39;ROLL   \n",
       "10     BREIZH'N'ROLL      NYC  IN_PROGRESS   BREIZH&#39;N&#39;ROLL   \n",
       "11     BREIZH'N'ROLL      NYC  IN_PROGRESS   BREIZH&#39;N&#39;ROLL   \n",
       "12     BREIZH'N'ROLL      NYC  IN_PROGRESS   BREIZH&#39;N&#39;ROLL   \n",
       "13     BREIZH'N'ROLL      NYC  IN_PROGRESS   BREIZH&#39;N&#39;ROLL   \n",
       "14     BREIZH'N'ROLL      NYC  IN_PROGRESS   BREIZH&#39;N&#39;ROLL   \n",
       "\n",
       "   dim_name_translated             categories  \n",
       "0                  Gin  Other Alcholic Drinks  \n",
       "1                  NYC             Appetizers  \n",
       "2                  NYC               Desserts  \n",
       "3                  NYC               Desserts  \n",
       "4                  NYC               Desserts  \n",
       "5                  NYC               Desserts  \n",
       "6                  NYC               Desserts  \n",
       "7                  NYC               Desserts  \n",
       "8                  NYC               Desserts  \n",
       "9                  NYC               Desserts  \n",
       "10                 NYC               Desserts  \n",
       "11                 NYC               Desserts  \n",
       "12                 NYC               Desserts  \n",
       "13                 NYC               Desserts  \n",
       "14                 NYC               Desserts  "
      ]
     },
     "execution_count": 251,
     "metadata": {},
     "output_type": "execute_result"
    }
   ],
   "source": [
    "order_line.head(15)"
   ]
  },
  {
   "cell_type": "code",
   "execution_count": 252,
   "metadata": {},
   "outputs": [],
   "source": [
    "# Exporting the Order line Set to csv\n",
    "order_line.to_csv('Order_line_Cleaned.csv', index=False)"
   ]
  },
  {
   "cell_type": "markdown",
   "metadata": {},
   "source": [
    "## Payment Data"
   ]
  },
  {
   "cell_type": "code",
   "execution_count": 201,
   "metadata": {},
   "outputs": [],
   "source": [
    "# Loading the Order Data from the csv file\n",
    "payment = pd.read_csv('Data_Files/payment_data.csv')"
   ]
  },
  {
   "cell_type": "code",
   "execution_count": 202,
   "metadata": {},
   "outputs": [
    {
     "data": {
      "text/plain": [
       "(500, 8)"
      ]
     },
     "execution_count": 202,
     "metadata": {},
     "output_type": "execute_result"
    }
   ],
   "source": [
    "payment.shape"
   ]
  },
  {
   "cell_type": "code",
   "execution_count": 203,
   "metadata": {},
   "outputs": [
    {
     "data": {
      "text/html": [
       "<div>\n",
       "<style scoped>\n",
       "    .dataframe tbody tr th:only-of-type {\n",
       "        vertical-align: middle;\n",
       "    }\n",
       "\n",
       "    .dataframe tbody tr th {\n",
       "        vertical-align: top;\n",
       "    }\n",
       "\n",
       "    .dataframe thead th {\n",
       "        text-align: right;\n",
       "    }\n",
       "</style>\n",
       "<table border=\"1\" class=\"dataframe\">\n",
       "  <thead>\n",
       "    <tr style=\"text-align: right;\">\n",
       "      <th></th>\n",
       "      <th>id_pay</th>\n",
       "      <th>id_order</th>\n",
       "      <th>dim_status</th>\n",
       "      <th>dim_type</th>\n",
       "      <th>m_amount</th>\n",
       "      <th>m_cashback</th>\n",
       "      <th>m_credit</th>\n",
       "      <th>date_created</th>\n",
       "    </tr>\n",
       "  </thead>\n",
       "  <tbody>\n",
       "    <tr>\n",
       "      <th>0</th>\n",
       "      <td>51132874</td>\n",
       "      <td>37856999</td>\n",
       "      <td>ACCEPTED</td>\n",
       "      <td>CB_Sans_Contact</td>\n",
       "      <td>16.1</td>\n",
       "      <td>0</td>\n",
       "      <td>0</td>\n",
       "      <td>08/08/2018 12:17:22</td>\n",
       "    </tr>\n",
       "    <tr>\n",
       "      <th>1</th>\n",
       "      <td>29021533</td>\n",
       "      <td>20355020</td>\n",
       "      <td>ACCEPTED</td>\n",
       "      <td>CB_Sans_Contact</td>\n",
       "      <td>13.9</td>\n",
       "      <td>0</td>\n",
       "      <td>0</td>\n",
       "      <td>31/01/2018 12:49:26</td>\n",
       "    </tr>\n",
       "    <tr>\n",
       "      <th>2</th>\n",
       "      <td>180172825</td>\n",
       "      <td>143751020</td>\n",
       "      <td>ACCEPTED</td>\n",
       "      <td>CB_SANS_CONTACT</td>\n",
       "      <td>25.3</td>\n",
       "      <td>0</td>\n",
       "      <td>0</td>\n",
       "      <td>23/09/2020 12:51:19</td>\n",
       "    </tr>\n",
       "    <tr>\n",
       "      <th>3</th>\n",
       "      <td>114043888</td>\n",
       "      <td>88950069</td>\n",
       "      <td>ACCEPTED</td>\n",
       "      <td>AMERICAN_EXPRESS</td>\n",
       "      <td>75.6</td>\n",
       "      <td>0</td>\n",
       "      <td>0</td>\n",
       "      <td>24/08/2019 19:31:05</td>\n",
       "    </tr>\n",
       "    <tr>\n",
       "      <th>4</th>\n",
       "      <td>32433714</td>\n",
       "      <td>22894007</td>\n",
       "      <td>ACCEPTED</td>\n",
       "      <td>BANK_TRANSFER</td>\n",
       "      <td>66.0</td>\n",
       "      <td>0</td>\n",
       "      <td>0</td>\n",
       "      <td>08/03/2018 14:00:10</td>\n",
       "    </tr>\n",
       "  </tbody>\n",
       "</table>\n",
       "</div>"
      ],
      "text/plain": [
       "      id_pay   id_order dim_status          dim_type  m_amount  m_cashback  \\\n",
       "0   51132874   37856999   ACCEPTED   CB_Sans_Contact      16.1           0   \n",
       "1   29021533   20355020   ACCEPTED   CB_Sans_Contact      13.9           0   \n",
       "2  180172825  143751020   ACCEPTED   CB_SANS_CONTACT      25.3           0   \n",
       "3  114043888   88950069   ACCEPTED  AMERICAN_EXPRESS      75.6           0   \n",
       "4   32433714   22894007   ACCEPTED     BANK_TRANSFER      66.0           0   \n",
       "\n",
       "   m_credit         date_created  \n",
       "0         0  08/08/2018 12:17:22  \n",
       "1         0  31/01/2018 12:49:26  \n",
       "2         0  23/09/2020 12:51:19  \n",
       "3         0  24/08/2019 19:31:05  \n",
       "4         0  08/03/2018 14:00:10  "
      ]
     },
     "execution_count": 203,
     "metadata": {},
     "output_type": "execute_result"
    }
   ],
   "source": [
    "payment.head()"
   ]
  },
  {
   "cell_type": "code",
   "execution_count": 204,
   "metadata": {},
   "outputs": [
    {
     "name": "stdout",
     "output_type": "stream",
     "text": [
      "<class 'pandas.core.frame.DataFrame'>\n",
      "RangeIndex: 500 entries, 0 to 499\n",
      "Data columns (total 8 columns):\n",
      " #   Column        Non-Null Count  Dtype  \n",
      "---  ------        --------------  -----  \n",
      " 0   id_pay        500 non-null    int64  \n",
      " 1   id_order      500 non-null    int64  \n",
      " 2   dim_status    500 non-null    object \n",
      " 3   dim_type      500 non-null    object \n",
      " 4   m_amount      500 non-null    float64\n",
      " 5   m_cashback    500 non-null    int64  \n",
      " 6   m_credit      500 non-null    int64  \n",
      " 7   date_created  500 non-null    object \n",
      "dtypes: float64(1), int64(4), object(3)\n",
      "memory usage: 31.4+ KB\n"
     ]
    }
   ],
   "source": [
    "payment.info()"
   ]
  },
  {
   "cell_type": "code",
   "execution_count": 205,
   "metadata": {},
   "outputs": [
    {
     "data": {
      "text/plain": [
       "id_pay            int64\n",
       "id_order          int64\n",
       "dim_status       object\n",
       "dim_type         object\n",
       "m_amount        float64\n",
       "m_cashback        int64\n",
       "m_credit          int64\n",
       "date_created     object\n",
       "dtype: object"
      ]
     },
     "execution_count": 205,
     "metadata": {},
     "output_type": "execute_result"
    }
   ],
   "source": [
    "payment.dtypes"
   ]
  },
  {
   "cell_type": "code",
   "execution_count": 206,
   "metadata": {},
   "outputs": [],
   "source": [
    "payment[['id_pay','id_order']] = payment[['id_pay','id_order']].astype(str)"
   ]
  },
  {
   "cell_type": "code",
   "execution_count": 207,
   "metadata": {},
   "outputs": [],
   "source": [
    "payment['date_created'] = pd.to_datetime(payment['date_created'], format= \"%d/%m/%Y %H:%M:%S\")"
   ]
  },
  {
   "cell_type": "code",
   "execution_count": 208,
   "metadata": {},
   "outputs": [],
   "source": [
    "# To standardrize the entries of data in dim_type column\n",
    "payment['dim_type'].replace('CB_Sans_Contact' , 'CB_SANS_CONTACT' , inplace = True)\n"
   ]
  },
  {
   "cell_type": "code",
   "execution_count": 209,
   "metadata": {},
   "outputs": [],
   "source": [
    "payment['dim_type'].replace('CARTE TICKET RESTAURANT' , 'CARTE_TICKET_RESTAURANT' , inplace = True)"
   ]
  },
  {
   "cell_type": "code",
   "execution_count": 210,
   "metadata": {},
   "outputs": [
    {
     "data": {
      "text/plain": [
       "12"
      ]
     },
     "execution_count": 210,
     "metadata": {},
     "output_type": "execute_result"
    }
   ],
   "source": [
    "payment['dim_type'].nunique()"
   ]
  },
  {
   "cell_type": "code",
   "execution_count": 211,
   "metadata": {},
   "outputs": [
    {
     "data": {
      "text/plain": [
       "dim_type\n",
       "CB_SANS_CONTACT            230\n",
       "VOUCHER                     76\n",
       "BANK_CHECK                  69\n",
       "AMERICAN_EXPRESS            61\n",
       "SUMUP                       16\n",
       "BANK_TRANSFER               12\n",
       "CARTE_TICKET_RESTAURANT     11\n",
       "UBER EATS                   11\n",
       "AUTRES                       5\n",
       "TAB                          4\n",
       "ALLORESTO                    3\n",
       "SIOUPLAIT                    2\n",
       "Name: count, dtype: int64"
      ]
     },
     "execution_count": 211,
     "metadata": {},
     "output_type": "execute_result"
    }
   ],
   "source": [
    "payment['dim_type'].value_counts()"
   ]
  },
  {
   "cell_type": "code",
   "execution_count": 212,
   "metadata": {},
   "outputs": [],
   "source": [
    "def payment_types(dim_type):\n",
    "    if dim_type == 'UBER EATS' :\n",
    "        return 'Delivery platforms'\n",
    "    elif dim_type == 'ALLORESTO' :\n",
    "        return 'Delivery platforms'\n",
    "    elif dim_type == 'CB_SANS_CONTACT' :\n",
    "        return 'Payment cards'\n",
    "    elif dim_type == 'SUMUP'  :\n",
    "        return 'Payment cards'\n",
    "    elif dim_type ==  'BANK_CHECK'  :\n",
    "        return 'Cash'\n",
    "    elif dim_type ==  'AMERICAN_EXPRESS'  :\n",
    "        return 'Cash'\n",
    "    elif dim_type ==  'TAB'  :\n",
    "        return 'Cash' \n",
    "    elif dim_type == 'VOUCHER' :\n",
    "        return 'Gift cards'\n",
    "    elif dim_type ==  'BANK_TRANSFER' :\n",
    "        return 'Bank transfer'\n",
    "    elif dim_type == 'CARTE_TICKET_RESTAURANT' :\n",
    "        return 'Restaurant checks'\n",
    "    else:\n",
    "        return 'others'"
   ]
  },
  {
   "cell_type": "code",
   "execution_count": 213,
   "metadata": {},
   "outputs": [],
   "source": [
    "payment['payment types'] = payment['dim_type'].apply(payment_types)"
   ]
  },
  {
   "cell_type": "code",
   "execution_count": 214,
   "metadata": {},
   "outputs": [
    {
     "data": {
      "text/plain": [
       "7"
      ]
     },
     "execution_count": 214,
     "metadata": {},
     "output_type": "execute_result"
    }
   ],
   "source": [
    "payment['payment types'].nunique()"
   ]
  },
  {
   "cell_type": "code",
   "execution_count": 215,
   "metadata": {},
   "outputs": [
    {
     "data": {
      "text/plain": [
       "payment types\n",
       "Payment cards         246\n",
       "Cash                  134\n",
       "Gift cards             76\n",
       "Delivery platforms     14\n",
       "Bank transfer          12\n",
       "Restaurant checks      11\n",
       "others                  7\n",
       "Name: count, dtype: int64"
      ]
     },
     "execution_count": 215,
     "metadata": {},
     "output_type": "execute_result"
    }
   ],
   "source": [
    "payment['payment types'].value_counts()"
   ]
  },
  {
   "cell_type": "code",
   "execution_count": 216,
   "metadata": {},
   "outputs": [
    {
     "data": {
      "text/plain": [
       "1"
      ]
     },
     "execution_count": 216,
     "metadata": {},
     "output_type": "execute_result"
    }
   ],
   "source": [
    "\n",
    "payment['m_cashback'].nunique()"
   ]
  },
  {
   "cell_type": "code",
   "execution_count": 217,
   "metadata": {},
   "outputs": [
    {
     "data": {
      "text/plain": [
       "m_cashback\n",
       "0    500\n",
       "Name: count, dtype: int64"
      ]
     },
     "execution_count": 217,
     "metadata": {},
     "output_type": "execute_result"
    }
   ],
   "source": [
    "payment['m_cashback'].value_counts()"
   ]
  },
  {
   "cell_type": "code",
   "execution_count": 218,
   "metadata": {},
   "outputs": [
    {
     "data": {
      "text/plain": [
       "1"
      ]
     },
     "execution_count": 218,
     "metadata": {},
     "output_type": "execute_result"
    }
   ],
   "source": [
    "payment['m_credit'].nunique()"
   ]
  },
  {
   "cell_type": "code",
   "execution_count": 219,
   "metadata": {},
   "outputs": [],
   "source": [
    "payment.drop( columns=[\"m_credit\",\"m_cashback\"] , inplace = True)"
   ]
  },
  {
   "cell_type": "code",
   "execution_count": 220,
   "metadata": {},
   "outputs": [
    {
     "data": {
      "text/plain": [
       "id_pay           0\n",
       "id_order         0\n",
       "dim_status       0\n",
       "dim_type         0\n",
       "m_amount         0\n",
       "date_created     0\n",
       "payment types    0\n",
       "dtype: int64"
      ]
     },
     "execution_count": 220,
     "metadata": {},
     "output_type": "execute_result"
    }
   ],
   "source": [
    "# Total number of missing values\n",
    "payment.isnull().sum()"
   ]
  },
  {
   "cell_type": "code",
   "execution_count": 221,
   "metadata": {},
   "outputs": [
    {
     "data": {
      "text/html": [
       "<div>\n",
       "<style scoped>\n",
       "    .dataframe tbody tr th:only-of-type {\n",
       "        vertical-align: middle;\n",
       "    }\n",
       "\n",
       "    .dataframe tbody tr th {\n",
       "        vertical-align: top;\n",
       "    }\n",
       "\n",
       "    .dataframe thead th {\n",
       "        text-align: right;\n",
       "    }\n",
       "</style>\n",
       "<table border=\"1\" class=\"dataframe\">\n",
       "  <thead>\n",
       "    <tr style=\"text-align: right;\">\n",
       "      <th></th>\n",
       "      <th>id_pay</th>\n",
       "      <th>id_order</th>\n",
       "      <th>dim_status</th>\n",
       "      <th>dim_type</th>\n",
       "      <th>m_amount</th>\n",
       "      <th>date_created</th>\n",
       "      <th>payment types</th>\n",
       "    </tr>\n",
       "  </thead>\n",
       "  <tbody>\n",
       "    <tr>\n",
       "      <th>0</th>\n",
       "      <td>51132874</td>\n",
       "      <td>37856999</td>\n",
       "      <td>ACCEPTED</td>\n",
       "      <td>CB_SANS_CONTACT</td>\n",
       "      <td>16.10</td>\n",
       "      <td>2018-08-08 12:17:22</td>\n",
       "      <td>Payment cards</td>\n",
       "    </tr>\n",
       "    <tr>\n",
       "      <th>1</th>\n",
       "      <td>29021533</td>\n",
       "      <td>20355020</td>\n",
       "      <td>ACCEPTED</td>\n",
       "      <td>CB_SANS_CONTACT</td>\n",
       "      <td>13.90</td>\n",
       "      <td>2018-01-31 12:49:26</td>\n",
       "      <td>Payment cards</td>\n",
       "    </tr>\n",
       "    <tr>\n",
       "      <th>2</th>\n",
       "      <td>180172825</td>\n",
       "      <td>143751020</td>\n",
       "      <td>ACCEPTED</td>\n",
       "      <td>CB_SANS_CONTACT</td>\n",
       "      <td>25.30</td>\n",
       "      <td>2020-09-23 12:51:19</td>\n",
       "      <td>Payment cards</td>\n",
       "    </tr>\n",
       "    <tr>\n",
       "      <th>3</th>\n",
       "      <td>114043888</td>\n",
       "      <td>88950069</td>\n",
       "      <td>ACCEPTED</td>\n",
       "      <td>AMERICAN_EXPRESS</td>\n",
       "      <td>75.60</td>\n",
       "      <td>2019-08-24 19:31:05</td>\n",
       "      <td>Cash</td>\n",
       "    </tr>\n",
       "    <tr>\n",
       "      <th>4</th>\n",
       "      <td>32433714</td>\n",
       "      <td>22894007</td>\n",
       "      <td>ACCEPTED</td>\n",
       "      <td>BANK_TRANSFER</td>\n",
       "      <td>66.00</td>\n",
       "      <td>2018-03-08 14:00:10</td>\n",
       "      <td>Bank transfer</td>\n",
       "    </tr>\n",
       "    <tr>\n",
       "      <th>5</th>\n",
       "      <td>27991201</td>\n",
       "      <td>19553878</td>\n",
       "      <td>ACCEPTED</td>\n",
       "      <td>BANK_CHECK</td>\n",
       "      <td>44.00</td>\n",
       "      <td>2018-01-18 20:52:49</td>\n",
       "      <td>Cash</td>\n",
       "    </tr>\n",
       "    <tr>\n",
       "      <th>6</th>\n",
       "      <td>75650068</td>\n",
       "      <td>57499061</td>\n",
       "      <td>ACCEPTED</td>\n",
       "      <td>BANK_CHECK</td>\n",
       "      <td>840.10</td>\n",
       "      <td>2019-01-28 17:49:28</td>\n",
       "      <td>Cash</td>\n",
       "    </tr>\n",
       "    <tr>\n",
       "      <th>7</th>\n",
       "      <td>144498285</td>\n",
       "      <td>113883716</td>\n",
       "      <td>ACCEPTED</td>\n",
       "      <td>VOUCHER</td>\n",
       "      <td>-1.30</td>\n",
       "      <td>2020-01-20 12:14:22</td>\n",
       "      <td>Gift cards</td>\n",
       "    </tr>\n",
       "    <tr>\n",
       "      <th>8</th>\n",
       "      <td>115258735</td>\n",
       "      <td>89950217</td>\n",
       "      <td>ACCEPTED</td>\n",
       "      <td>SUMUP</td>\n",
       "      <td>23.50</td>\n",
       "      <td>2019-08-30 21:08:28</td>\n",
       "      <td>Payment cards</td>\n",
       "    </tr>\n",
       "    <tr>\n",
       "      <th>9</th>\n",
       "      <td>40764122</td>\n",
       "      <td>29576034</td>\n",
       "      <td>ACCEPTED</td>\n",
       "      <td>CB_SANS_CONTACT</td>\n",
       "      <td>16.70</td>\n",
       "      <td>2018-05-23 11:47:06</td>\n",
       "      <td>Payment cards</td>\n",
       "    </tr>\n",
       "    <tr>\n",
       "      <th>10</th>\n",
       "      <td>72283083</td>\n",
       "      <td>54788796</td>\n",
       "      <td>ACCEPTED</td>\n",
       "      <td>AUTRES</td>\n",
       "      <td>86.00</td>\n",
       "      <td>2019-01-05 21:25:07</td>\n",
       "      <td>others</td>\n",
       "    </tr>\n",
       "    <tr>\n",
       "      <th>11</th>\n",
       "      <td>77434370</td>\n",
       "      <td>58952018</td>\n",
       "      <td>ACCEPTED</td>\n",
       "      <td>CB_SANS_CONTACT</td>\n",
       "      <td>14.50</td>\n",
       "      <td>2019-02-08 21:19:41</td>\n",
       "      <td>Payment cards</td>\n",
       "    </tr>\n",
       "    <tr>\n",
       "      <th>12</th>\n",
       "      <td>42998198</td>\n",
       "      <td>31386302</td>\n",
       "      <td>ACCEPTED</td>\n",
       "      <td>BANK_CHECK</td>\n",
       "      <td>300.00</td>\n",
       "      <td>2018-06-09 19:46:59</td>\n",
       "      <td>Cash</td>\n",
       "    </tr>\n",
       "    <tr>\n",
       "      <th>13</th>\n",
       "      <td>45317775</td>\n",
       "      <td>33242656</td>\n",
       "      <td>ACCEPTED</td>\n",
       "      <td>BANK_CHECK</td>\n",
       "      <td>343.90</td>\n",
       "      <td>2018-06-27 11:36:24</td>\n",
       "      <td>Cash</td>\n",
       "    </tr>\n",
       "    <tr>\n",
       "      <th>14</th>\n",
       "      <td>183831855</td>\n",
       "      <td>146793499</td>\n",
       "      <td>ACCEPTED</td>\n",
       "      <td>CB_SANS_CONTACT</td>\n",
       "      <td>28.45</td>\n",
       "      <td>2020-10-13 18:59:03</td>\n",
       "      <td>Payment cards</td>\n",
       "    </tr>\n",
       "    <tr>\n",
       "      <th>15</th>\n",
       "      <td>1221634</td>\n",
       "      <td>835290</td>\n",
       "      <td>ACCEPTED</td>\n",
       "      <td>BANK_CHECK</td>\n",
       "      <td>29.50</td>\n",
       "      <td>2016-03-16 20:48:45</td>\n",
       "      <td>Cash</td>\n",
       "    </tr>\n",
       "    <tr>\n",
       "      <th>16</th>\n",
       "      <td>6517921</td>\n",
       "      <td>4390416</td>\n",
       "      <td>ACCEPTED</td>\n",
       "      <td>BANK_CHECK</td>\n",
       "      <td>27.50</td>\n",
       "      <td>2016-12-12 22:01:40</td>\n",
       "      <td>Cash</td>\n",
       "    </tr>\n",
       "    <tr>\n",
       "      <th>17</th>\n",
       "      <td>154956073</td>\n",
       "      <td>122441404</td>\n",
       "      <td>ACCEPTED</td>\n",
       "      <td>CB_SANS_CONTACT</td>\n",
       "      <td>15.80</td>\n",
       "      <td>2020-03-07 19:52:30</td>\n",
       "      <td>Payment cards</td>\n",
       "    </tr>\n",
       "    <tr>\n",
       "      <th>18</th>\n",
       "      <td>4835058</td>\n",
       "      <td>3387309</td>\n",
       "      <td>ACCEPTED</td>\n",
       "      <td>AMERICAN_EXPRESS</td>\n",
       "      <td>312.00</td>\n",
       "      <td>2016-10-21 12:24:56</td>\n",
       "      <td>Cash</td>\n",
       "    </tr>\n",
       "    <tr>\n",
       "      <th>19</th>\n",
       "      <td>155768122</td>\n",
       "      <td>123044627</td>\n",
       "      <td>ACCEPTED</td>\n",
       "      <td>CB_SANS_CONTACT</td>\n",
       "      <td>27.50</td>\n",
       "      <td>2020-03-11 22:01:09</td>\n",
       "      <td>Payment cards</td>\n",
       "    </tr>\n",
       "  </tbody>\n",
       "</table>\n",
       "</div>"
      ],
      "text/plain": [
       "       id_pay   id_order dim_status          dim_type  m_amount  \\\n",
       "0    51132874   37856999   ACCEPTED   CB_SANS_CONTACT     16.10   \n",
       "1    29021533   20355020   ACCEPTED   CB_SANS_CONTACT     13.90   \n",
       "2   180172825  143751020   ACCEPTED   CB_SANS_CONTACT     25.30   \n",
       "3   114043888   88950069   ACCEPTED  AMERICAN_EXPRESS     75.60   \n",
       "4    32433714   22894007   ACCEPTED     BANK_TRANSFER     66.00   \n",
       "5    27991201   19553878   ACCEPTED        BANK_CHECK     44.00   \n",
       "6    75650068   57499061   ACCEPTED        BANK_CHECK    840.10   \n",
       "7   144498285  113883716   ACCEPTED           VOUCHER     -1.30   \n",
       "8   115258735   89950217   ACCEPTED             SUMUP     23.50   \n",
       "9    40764122   29576034   ACCEPTED   CB_SANS_CONTACT     16.70   \n",
       "10   72283083   54788796   ACCEPTED            AUTRES     86.00   \n",
       "11   77434370   58952018   ACCEPTED   CB_SANS_CONTACT     14.50   \n",
       "12   42998198   31386302   ACCEPTED        BANK_CHECK    300.00   \n",
       "13   45317775   33242656   ACCEPTED        BANK_CHECK    343.90   \n",
       "14  183831855  146793499   ACCEPTED   CB_SANS_CONTACT     28.45   \n",
       "15    1221634     835290   ACCEPTED        BANK_CHECK     29.50   \n",
       "16    6517921    4390416   ACCEPTED        BANK_CHECK     27.50   \n",
       "17  154956073  122441404   ACCEPTED   CB_SANS_CONTACT     15.80   \n",
       "18    4835058    3387309   ACCEPTED  AMERICAN_EXPRESS    312.00   \n",
       "19  155768122  123044627   ACCEPTED   CB_SANS_CONTACT     27.50   \n",
       "\n",
       "          date_created  payment types  \n",
       "0  2018-08-08 12:17:22  Payment cards  \n",
       "1  2018-01-31 12:49:26  Payment cards  \n",
       "2  2020-09-23 12:51:19  Payment cards  \n",
       "3  2019-08-24 19:31:05           Cash  \n",
       "4  2018-03-08 14:00:10  Bank transfer  \n",
       "5  2018-01-18 20:52:49           Cash  \n",
       "6  2019-01-28 17:49:28           Cash  \n",
       "7  2020-01-20 12:14:22     Gift cards  \n",
       "8  2019-08-30 21:08:28  Payment cards  \n",
       "9  2018-05-23 11:47:06  Payment cards  \n",
       "10 2019-01-05 21:25:07         others  \n",
       "11 2019-02-08 21:19:41  Payment cards  \n",
       "12 2018-06-09 19:46:59           Cash  \n",
       "13 2018-06-27 11:36:24           Cash  \n",
       "14 2020-10-13 18:59:03  Payment cards  \n",
       "15 2016-03-16 20:48:45           Cash  \n",
       "16 2016-12-12 22:01:40           Cash  \n",
       "17 2020-03-07 19:52:30  Payment cards  \n",
       "18 2016-10-21 12:24:56           Cash  \n",
       "19 2020-03-11 22:01:09  Payment cards  "
      ]
     },
     "execution_count": 221,
     "metadata": {},
     "output_type": "execute_result"
    }
   ],
   "source": [
    "payment.head(20)"
   ]
  },
  {
   "cell_type": "code",
   "execution_count": 222,
   "metadata": {},
   "outputs": [],
   "source": [
    "# Exporting the paymentSet to csv\n",
    "payment.to_csv('payment_Cleaned.csv', index=False)"
   ]
  },
  {
   "cell_type": "markdown",
   "metadata": {},
   "source": [
    "## Store Data"
   ]
  },
  {
   "cell_type": "code",
   "execution_count": 223,
   "metadata": {},
   "outputs": [],
   "source": [
    "# Loading the store Data from the csv file\n",
    "store = pd.read_csv('Data_Files/store_data.csv')"
   ]
  },
  {
   "cell_type": "code",
   "execution_count": 224,
   "metadata": {},
   "outputs": [
    {
     "data": {
      "text/plain": [
       "(21, 5)"
      ]
     },
     "execution_count": 224,
     "metadata": {},
     "output_type": "execute_result"
    }
   ],
   "source": [
    "store.shape"
   ]
  },
  {
   "cell_type": "code",
   "execution_count": 225,
   "metadata": {},
   "outputs": [
    {
     "data": {
      "text/html": [
       "<div>\n",
       "<style scoped>\n",
       "    .dataframe tbody tr th:only-of-type {\n",
       "        vertical-align: middle;\n",
       "    }\n",
       "\n",
       "    .dataframe tbody tr th {\n",
       "        vertical-align: top;\n",
       "    }\n",
       "\n",
       "    .dataframe thead th {\n",
       "        text-align: right;\n",
       "    }\n",
       "</style>\n",
       "<table border=\"1\" class=\"dataframe\">\n",
       "  <thead>\n",
       "    <tr style=\"text-align: right;\">\n",
       "      <th></th>\n",
       "      <th>id_store</th>\n",
       "      <th>date_created</th>\n",
       "      <th>dim_zipcode</th>\n",
       "      <th>dim_country</th>\n",
       "      <th>dim_currency</th>\n",
       "    </tr>\n",
       "  </thead>\n",
       "  <tbody>\n",
       "    <tr>\n",
       "      <th>0</th>\n",
       "      <td>360</td>\n",
       "      <td>29/07/2015 06:54:50</td>\n",
       "      <td>75001</td>\n",
       "      <td>FR</td>\n",
       "      <td>EUR</td>\n",
       "    </tr>\n",
       "    <tr>\n",
       "      <th>1</th>\n",
       "      <td>351</td>\n",
       "      <td>25/07/2015 11:51:52</td>\n",
       "      <td>75002</td>\n",
       "      <td>FR</td>\n",
       "      <td>EUR</td>\n",
       "    </tr>\n",
       "    <tr>\n",
       "      <th>2</th>\n",
       "      <td>4803</td>\n",
       "      <td>04/10/2017 13:56:31</td>\n",
       "      <td>75002</td>\n",
       "      <td>FR</td>\n",
       "      <td>EUR</td>\n",
       "    </tr>\n",
       "    <tr>\n",
       "      <th>3</th>\n",
       "      <td>4364</td>\n",
       "      <td>27/06/2017 12:27:31</td>\n",
       "      <td>75003</td>\n",
       "      <td>FR</td>\n",
       "      <td>EUR</td>\n",
       "    </tr>\n",
       "    <tr>\n",
       "      <th>4</th>\n",
       "      <td>5281</td>\n",
       "      <td>08/12/2017 11:09:59</td>\n",
       "      <td>75004</td>\n",
       "      <td>FR</td>\n",
       "      <td>EUR</td>\n",
       "    </tr>\n",
       "    <tr>\n",
       "      <th>5</th>\n",
       "      <td>7872</td>\n",
       "      <td>25/09/2018 16:04:17</td>\n",
       "      <td>75005</td>\n",
       "      <td>FR</td>\n",
       "      <td>EUR</td>\n",
       "    </tr>\n",
       "    <tr>\n",
       "      <th>6</th>\n",
       "      <td>8291</td>\n",
       "      <td>12/11/2018 08:28:37</td>\n",
       "      <td>75008</td>\n",
       "      <td>FR</td>\n",
       "      <td>EUR</td>\n",
       "    </tr>\n",
       "    <tr>\n",
       "      <th>7</th>\n",
       "      <td>7304</td>\n",
       "      <td>08/07/2018 15:21:37</td>\n",
       "      <td>75008</td>\n",
       "      <td>FR</td>\n",
       "      <td>EUR</td>\n",
       "    </tr>\n",
       "    <tr>\n",
       "      <th>8</th>\n",
       "      <td>6827</td>\n",
       "      <td>11/05/2018 10:08:10</td>\n",
       "      <td>75009</td>\n",
       "      <td>FR</td>\n",
       "      <td>EUR</td>\n",
       "    </tr>\n",
       "    <tr>\n",
       "      <th>9</th>\n",
       "      <td>5498</td>\n",
       "      <td>29/12/2017 16:14:24</td>\n",
       "      <td>75009</td>\n",
       "      <td>FR</td>\n",
       "      <td>EUR</td>\n",
       "    </tr>\n",
       "    <tr>\n",
       "      <th>10</th>\n",
       "      <td>2035</td>\n",
       "      <td>17/05/2016 08:53:49</td>\n",
       "      <td>75010</td>\n",
       "      <td>FR</td>\n",
       "      <td>EUR</td>\n",
       "    </tr>\n",
       "    <tr>\n",
       "      <th>11</th>\n",
       "      <td>4151</td>\n",
       "      <td>15/05/2017 17:28:52</td>\n",
       "      <td>75012</td>\n",
       "      <td>FR</td>\n",
       "      <td>EUR</td>\n",
       "    </tr>\n",
       "    <tr>\n",
       "      <th>12</th>\n",
       "      <td>6830</td>\n",
       "      <td>11/05/2018 11:03:01</td>\n",
       "      <td>75013</td>\n",
       "      <td>FR</td>\n",
       "      <td>EUR</td>\n",
       "    </tr>\n",
       "    <tr>\n",
       "      <th>13</th>\n",
       "      <td>730</td>\n",
       "      <td>09/11/2015 15:35:23</td>\n",
       "      <td>75013</td>\n",
       "      <td>FR</td>\n",
       "      <td>EUR</td>\n",
       "    </tr>\n",
       "    <tr>\n",
       "      <th>14</th>\n",
       "      <td>1513</td>\n",
       "      <td>15/03/2016 17:34:25</td>\n",
       "      <td>75015</td>\n",
       "      <td>FR</td>\n",
       "      <td>EUR</td>\n",
       "    </tr>\n",
       "    <tr>\n",
       "      <th>15</th>\n",
       "      <td>6008</td>\n",
       "      <td>19/02/2018 11:58:54</td>\n",
       "      <td>75016</td>\n",
       "      <td>FR</td>\n",
       "      <td>EUR</td>\n",
       "    </tr>\n",
       "    <tr>\n",
       "      <th>16</th>\n",
       "      <td>5860</td>\n",
       "      <td>29/01/2018 08:52:26</td>\n",
       "      <td>75018</td>\n",
       "      <td>FR</td>\n",
       "      <td>EUR</td>\n",
       "    </tr>\n",
       "    <tr>\n",
       "      <th>17</th>\n",
       "      <td>5617</td>\n",
       "      <td>09/01/2018 16:01:41</td>\n",
       "      <td>75018</td>\n",
       "      <td>FR</td>\n",
       "      <td>EUR</td>\n",
       "    </tr>\n",
       "    <tr>\n",
       "      <th>18</th>\n",
       "      <td>7786</td>\n",
       "      <td>15/09/2018 12:46:15</td>\n",
       "      <td>75019</td>\n",
       "      <td>FR</td>\n",
       "      <td>EUR</td>\n",
       "    </tr>\n",
       "    <tr>\n",
       "      <th>19</th>\n",
       "      <td>4196</td>\n",
       "      <td>19/05/2017 15:44:32</td>\n",
       "      <td>75019</td>\n",
       "      <td>FR</td>\n",
       "      <td>EUR</td>\n",
       "    </tr>\n",
       "    <tr>\n",
       "      <th>20</th>\n",
       "      <td>5210</td>\n",
       "      <td>29/11/2017 17:31:49</td>\n",
       "      <td>75020</td>\n",
       "      <td>FR</td>\n",
       "      <td>EUR</td>\n",
       "    </tr>\n",
       "  </tbody>\n",
       "</table>\n",
       "</div>"
      ],
      "text/plain": [
       "    id_store         date_created  dim_zipcode dim_country dim_currency\n",
       "0        360  29/07/2015 06:54:50        75001          FR          EUR\n",
       "1        351  25/07/2015 11:51:52        75002          FR          EUR\n",
       "2       4803  04/10/2017 13:56:31        75002          FR          EUR\n",
       "3       4364  27/06/2017 12:27:31        75003          FR          EUR\n",
       "4       5281  08/12/2017 11:09:59        75004          FR          EUR\n",
       "5       7872  25/09/2018 16:04:17        75005          FR          EUR\n",
       "6       8291  12/11/2018 08:28:37        75008          FR          EUR\n",
       "7       7304  08/07/2018 15:21:37        75008          FR          EUR\n",
       "8       6827  11/05/2018 10:08:10        75009          FR          EUR\n",
       "9       5498  29/12/2017 16:14:24        75009          FR          EUR\n",
       "10      2035  17/05/2016 08:53:49        75010          FR          EUR\n",
       "11      4151  15/05/2017 17:28:52        75012          FR          EUR\n",
       "12      6830  11/05/2018 11:03:01        75013          FR          EUR\n",
       "13       730  09/11/2015 15:35:23        75013          FR          EUR\n",
       "14      1513  15/03/2016 17:34:25        75015          FR          EUR\n",
       "15      6008  19/02/2018 11:58:54        75016          FR          EUR\n",
       "16      5860  29/01/2018 08:52:26        75018          FR          EUR\n",
       "17      5617  09/01/2018 16:01:41        75018          FR          EUR\n",
       "18      7786  15/09/2018 12:46:15        75019          FR          EUR\n",
       "19      4196  19/05/2017 15:44:32        75019          FR          EUR\n",
       "20      5210  29/11/2017 17:31:49        75020          FR          EUR"
      ]
     },
     "execution_count": 225,
     "metadata": {},
     "output_type": "execute_result"
    }
   ],
   "source": [
    "store.head(21)"
   ]
  },
  {
   "cell_type": "code",
   "execution_count": 226,
   "metadata": {},
   "outputs": [
    {
     "data": {
      "text/plain": [
       "id_store         int64\n",
       "date_created    object\n",
       "dim_zipcode      int64\n",
       "dim_country     object\n",
       "dim_currency    object\n",
       "dtype: object"
      ]
     },
     "execution_count": 226,
     "metadata": {},
     "output_type": "execute_result"
    }
   ],
   "source": [
    "store.dtypes"
   ]
  },
  {
   "cell_type": "code",
   "execution_count": 227,
   "metadata": {},
   "outputs": [],
   "source": [
    "store['id_store'] = store['id_store'].astype(str)"
   ]
  },
  {
   "cell_type": "code",
   "execution_count": 228,
   "metadata": {},
   "outputs": [],
   "source": [
    "store['date_created'] = pd.to_datetime(store['date_created'], format= \"%d/%m/%Y %H:%M:%S\")"
   ]
  },
  {
   "cell_type": "code",
   "execution_count": 229,
   "metadata": {},
   "outputs": [],
   "source": [
    "store.rename(columns={'date_created' : 'store_date_created'}, inplace=True)"
   ]
  },
  {
   "cell_type": "code",
   "execution_count": 230,
   "metadata": {},
   "outputs": [
    {
     "data": {
      "text/plain": [
       "id_store              0\n",
       "store_date_created    0\n",
       "dim_zipcode           0\n",
       "dim_country           0\n",
       "dim_currency          0\n",
       "dtype: int64"
      ]
     },
     "execution_count": 230,
     "metadata": {},
     "output_type": "execute_result"
    }
   ],
   "source": [
    "# Total number of missing values\n",
    "store.isnull().sum()"
   ]
  },
  {
   "cell_type": "code",
   "execution_count": 231,
   "metadata": {},
   "outputs": [
    {
     "data": {
      "text/plain": [
       "(21, 5)"
      ]
     },
     "execution_count": 231,
     "metadata": {},
     "output_type": "execute_result"
    }
   ],
   "source": [
    "store.shape"
   ]
  },
  {
   "cell_type": "code",
   "execution_count": 232,
   "metadata": {},
   "outputs": [],
   "source": [
    "# Exporting the paymentSet to csv\n",
    "store.to_csv('store_data_cleaned.csv', index=False)"
   ]
  },
  {
   "cell_type": "markdown",
   "metadata": {},
   "source": [
    "## Merging"
   ]
  },
  {
   "cell_type": "code",
   "execution_count": 233,
   "metadata": {},
   "outputs": [],
   "source": [
    "merged_order_store = pd.merge(order_data, store, left_on= 'id_store' , right_on= 'id_store' , how = 'inner')"
   ]
  },
  {
   "cell_type": "code",
   "execution_count": 234,
   "metadata": {},
   "outputs": [
    {
     "data": {
      "text/plain": [
       "(477, 17)"
      ]
     },
     "execution_count": 234,
     "metadata": {},
     "output_type": "execute_result"
    }
   ],
   "source": [
    "merged_order_store.shape"
   ]
  },
  {
   "cell_type": "code",
   "execution_count": 235,
   "metadata": {},
   "outputs": [
    {
     "data": {
      "text/html": [
       "<div>\n",
       "<style scoped>\n",
       "    .dataframe tbody tr th:only-of-type {\n",
       "        vertical-align: middle;\n",
       "    }\n",
       "\n",
       "    .dataframe tbody tr th {\n",
       "        vertical-align: top;\n",
       "    }\n",
       "\n",
       "    .dataframe thead th {\n",
       "        text-align: right;\n",
       "    }\n",
       "</style>\n",
       "<table border=\"1\" class=\"dataframe\">\n",
       "  <thead>\n",
       "    <tr style=\"text-align: right;\">\n",
       "      <th></th>\n",
       "      <th>id_order</th>\n",
       "      <th>id_store</th>\n",
       "      <th>id_waiter</th>\n",
       "      <th>id_device</th>\n",
       "      <th>date_opened</th>\n",
       "      <th>date_closed</th>\n",
       "      <th>dim_status</th>\n",
       "      <th>dim_source</th>\n",
       "      <th>m_nb_customer</th>\n",
       "      <th>m_cached_payed</th>\n",
       "      <th>m_cached_price</th>\n",
       "      <th>time</th>\n",
       "      <th>meal_types</th>\n",
       "      <th>store_date_created</th>\n",
       "      <th>dim_zipcode</th>\n",
       "      <th>dim_country</th>\n",
       "      <th>dim_currency</th>\n",
       "    </tr>\n",
       "  </thead>\n",
       "  <tbody>\n",
       "    <tr>\n",
       "      <th>0</th>\n",
       "      <td>112572333</td>\n",
       "      <td>7786</td>\n",
       "      <td>24920.0</td>\n",
       "      <td>14854.0</td>\n",
       "      <td>2020-01-12 16:03:02</td>\n",
       "      <td>2020-01-12 16:03:13</td>\n",
       "      <td>CLOSED</td>\n",
       "      <td>Tiller order</td>\n",
       "      <td>1</td>\n",
       "      <td>11.90</td>\n",
       "      <td>11.90</td>\n",
       "      <td>16:03:02</td>\n",
       "      <td>Lunch</td>\n",
       "      <td>2018-09-15 12:46:15</td>\n",
       "      <td>75019</td>\n",
       "      <td>FR</td>\n",
       "      <td>EUR</td>\n",
       "    </tr>\n",
       "    <tr>\n",
       "      <th>1</th>\n",
       "      <td>59462366</td>\n",
       "      <td>7786</td>\n",
       "      <td>15509.0</td>\n",
       "      <td>14854.0</td>\n",
       "      <td>2019-02-13 09:43:34</td>\n",
       "      <td>2019-02-13 09:51:15</td>\n",
       "      <td>CLOSED</td>\n",
       "      <td>Tiller iPAD</td>\n",
       "      <td>1</td>\n",
       "      <td>17.20</td>\n",
       "      <td>17.20</td>\n",
       "      <td>09:43:34</td>\n",
       "      <td>Breakfast</td>\n",
       "      <td>2018-09-15 12:46:15</td>\n",
       "      <td>75019</td>\n",
       "      <td>FR</td>\n",
       "      <td>EUR</td>\n",
       "    </tr>\n",
       "    <tr>\n",
       "      <th>2</th>\n",
       "      <td>96305027</td>\n",
       "      <td>7786</td>\n",
       "      <td>15509.0</td>\n",
       "      <td>14854.0</td>\n",
       "      <td>2019-10-05 10:33:39</td>\n",
       "      <td>2019-10-05 10:34:55</td>\n",
       "      <td>CLOSED</td>\n",
       "      <td>Tiller order</td>\n",
       "      <td>1</td>\n",
       "      <td>18.20</td>\n",
       "      <td>18.20</td>\n",
       "      <td>10:33:39</td>\n",
       "      <td>Breakfast</td>\n",
       "      <td>2018-09-15 12:46:15</td>\n",
       "      <td>75019</td>\n",
       "      <td>FR</td>\n",
       "      <td>EUR</td>\n",
       "    </tr>\n",
       "    <tr>\n",
       "      <th>3</th>\n",
       "      <td>96761931</td>\n",
       "      <td>7786</td>\n",
       "      <td>15509.0</td>\n",
       "      <td>14854.0</td>\n",
       "      <td>2019-10-08 08:21:08</td>\n",
       "      <td>2019-10-08 08:22:21</td>\n",
       "      <td>CLOSED</td>\n",
       "      <td>Tiller order</td>\n",
       "      <td>1</td>\n",
       "      <td>12.74</td>\n",
       "      <td>12.74</td>\n",
       "      <td>08:21:08</td>\n",
       "      <td>Breakfast</td>\n",
       "      <td>2018-09-15 12:46:15</td>\n",
       "      <td>75019</td>\n",
       "      <td>FR</td>\n",
       "      <td>EUR</td>\n",
       "    </tr>\n",
       "    <tr>\n",
       "      <th>4</th>\n",
       "      <td>98310606</td>\n",
       "      <td>7786</td>\n",
       "      <td>15509.0</td>\n",
       "      <td>14854.0</td>\n",
       "      <td>2019-10-16 17:10:28</td>\n",
       "      <td>2019-10-16 17:12:21</td>\n",
       "      <td>CLOSED</td>\n",
       "      <td>Tiller order</td>\n",
       "      <td>1</td>\n",
       "      <td>33.30</td>\n",
       "      <td>33.30</td>\n",
       "      <td>17:10:28</td>\n",
       "      <td>Lunch</td>\n",
       "      <td>2018-09-15 12:46:15</td>\n",
       "      <td>75019</td>\n",
       "      <td>FR</td>\n",
       "      <td>EUR</td>\n",
       "    </tr>\n",
       "    <tr>\n",
       "      <th>...</th>\n",
       "      <td>...</td>\n",
       "      <td>...</td>\n",
       "      <td>...</td>\n",
       "      <td>...</td>\n",
       "      <td>...</td>\n",
       "      <td>...</td>\n",
       "      <td>...</td>\n",
       "      <td>...</td>\n",
       "      <td>...</td>\n",
       "      <td>...</td>\n",
       "      <td>...</td>\n",
       "      <td>...</td>\n",
       "      <td>...</td>\n",
       "      <td>...</td>\n",
       "      <td>...</td>\n",
       "      <td>...</td>\n",
       "      <td>...</td>\n",
       "    </tr>\n",
       "    <tr>\n",
       "      <th>472</th>\n",
       "      <td>40416074</td>\n",
       "      <td>7304</td>\n",
       "      <td>14172.0</td>\n",
       "      <td>13929.0</td>\n",
       "      <td>2018-09-04 10:27:19</td>\n",
       "      <td>2018-09-04 10:59:55</td>\n",
       "      <td>CLOSED</td>\n",
       "      <td>Tiller iPAD</td>\n",
       "      <td>3</td>\n",
       "      <td>53.30</td>\n",
       "      <td>53.30</td>\n",
       "      <td>10:27:19</td>\n",
       "      <td>Breakfast</td>\n",
       "      <td>2018-07-08 15:21:37</td>\n",
       "      <td>75008</td>\n",
       "      <td>FR</td>\n",
       "      <td>EUR</td>\n",
       "    </tr>\n",
       "    <tr>\n",
       "      <th>473</th>\n",
       "      <td>89446917</td>\n",
       "      <td>7304</td>\n",
       "      <td>22355.0</td>\n",
       "      <td>13929.0</td>\n",
       "      <td>2019-08-28 11:15:01</td>\n",
       "      <td>2019-08-28 11:55:47</td>\n",
       "      <td>CLOSED</td>\n",
       "      <td>Tiller iPAD</td>\n",
       "      <td>2</td>\n",
       "      <td>40.40</td>\n",
       "      <td>40.40</td>\n",
       "      <td>11:15:01</td>\n",
       "      <td>Breakfast</td>\n",
       "      <td>2018-07-08 15:21:37</td>\n",
       "      <td>75008</td>\n",
       "      <td>FR</td>\n",
       "      <td>EUR</td>\n",
       "    </tr>\n",
       "    <tr>\n",
       "      <th>474</th>\n",
       "      <td>79029748</td>\n",
       "      <td>7304</td>\n",
       "      <td>14172.0</td>\n",
       "      <td>13929.0</td>\n",
       "      <td>2019-06-24 10:48:18</td>\n",
       "      <td>2019-06-24 12:03:03</td>\n",
       "      <td>CLOSED</td>\n",
       "      <td>Tiller iPAD</td>\n",
       "      <td>3</td>\n",
       "      <td>87.30</td>\n",
       "      <td>87.30</td>\n",
       "      <td>10:48:18</td>\n",
       "      <td>Breakfast</td>\n",
       "      <td>2018-07-08 15:21:37</td>\n",
       "      <td>75008</td>\n",
       "      <td>FR</td>\n",
       "      <td>EUR</td>\n",
       "    </tr>\n",
       "    <tr>\n",
       "      <th>475</th>\n",
       "      <td>120870811</td>\n",
       "      <td>7304</td>\n",
       "      <td>22355.0</td>\n",
       "      <td>13930.0</td>\n",
       "      <td>2020-02-28 12:29:35</td>\n",
       "      <td>2020-02-28 13:15:55</td>\n",
       "      <td>CLOSED</td>\n",
       "      <td>Tiller iPAD</td>\n",
       "      <td>2</td>\n",
       "      <td>68.70</td>\n",
       "      <td>68.70</td>\n",
       "      <td>12:29:35</td>\n",
       "      <td>Lunch</td>\n",
       "      <td>2018-07-08 15:21:37</td>\n",
       "      <td>75008</td>\n",
       "      <td>FR</td>\n",
       "      <td>EUR</td>\n",
       "    </tr>\n",
       "    <tr>\n",
       "      <th>476</th>\n",
       "      <td>40543935</td>\n",
       "      <td>7304</td>\n",
       "      <td>14172.0</td>\n",
       "      <td>13929.0</td>\n",
       "      <td>2018-09-05 11:12:28</td>\n",
       "      <td>2018-09-05 12:13:38</td>\n",
       "      <td>CLOSED</td>\n",
       "      <td>Tiller iPAD</td>\n",
       "      <td>2</td>\n",
       "      <td>62.30</td>\n",
       "      <td>62.30</td>\n",
       "      <td>11:12:28</td>\n",
       "      <td>Breakfast</td>\n",
       "      <td>2018-07-08 15:21:37</td>\n",
       "      <td>75008</td>\n",
       "      <td>FR</td>\n",
       "      <td>EUR</td>\n",
       "    </tr>\n",
       "  </tbody>\n",
       "</table>\n",
       "<p>477 rows × 17 columns</p>\n",
       "</div>"
      ],
      "text/plain": [
       "      id_order id_store  id_waiter  id_device         date_opened  \\\n",
       "0    112572333     7786    24920.0    14854.0 2020-01-12 16:03:02   \n",
       "1     59462366     7786    15509.0    14854.0 2019-02-13 09:43:34   \n",
       "2     96305027     7786    15509.0    14854.0 2019-10-05 10:33:39   \n",
       "3     96761931     7786    15509.0    14854.0 2019-10-08 08:21:08   \n",
       "4     98310606     7786    15509.0    14854.0 2019-10-16 17:10:28   \n",
       "..         ...      ...        ...        ...                 ...   \n",
       "472   40416074     7304    14172.0    13929.0 2018-09-04 10:27:19   \n",
       "473   89446917     7304    22355.0    13929.0 2019-08-28 11:15:01   \n",
       "474   79029748     7304    14172.0    13929.0 2019-06-24 10:48:18   \n",
       "475  120870811     7304    22355.0    13930.0 2020-02-28 12:29:35   \n",
       "476   40543935     7304    14172.0    13929.0 2018-09-05 11:12:28   \n",
       "\n",
       "            date_closed dim_status    dim_source  m_nb_customer  \\\n",
       "0   2020-01-12 16:03:13     CLOSED  Tiller order              1   \n",
       "1   2019-02-13 09:51:15     CLOSED   Tiller iPAD              1   \n",
       "2   2019-10-05 10:34:55     CLOSED  Tiller order              1   \n",
       "3   2019-10-08 08:22:21     CLOSED  Tiller order              1   \n",
       "4   2019-10-16 17:12:21     CLOSED  Tiller order              1   \n",
       "..                  ...        ...           ...            ...   \n",
       "472 2018-09-04 10:59:55     CLOSED   Tiller iPAD              3   \n",
       "473 2019-08-28 11:55:47     CLOSED   Tiller iPAD              2   \n",
       "474 2019-06-24 12:03:03     CLOSED   Tiller iPAD              3   \n",
       "475 2020-02-28 13:15:55     CLOSED   Tiller iPAD              2   \n",
       "476 2018-09-05 12:13:38     CLOSED   Tiller iPAD              2   \n",
       "\n",
       "     m_cached_payed  m_cached_price      time meal_types  store_date_created  \\\n",
       "0             11.90           11.90  16:03:02      Lunch 2018-09-15 12:46:15   \n",
       "1             17.20           17.20  09:43:34  Breakfast 2018-09-15 12:46:15   \n",
       "2             18.20           18.20  10:33:39  Breakfast 2018-09-15 12:46:15   \n",
       "3             12.74           12.74  08:21:08  Breakfast 2018-09-15 12:46:15   \n",
       "4             33.30           33.30  17:10:28      Lunch 2018-09-15 12:46:15   \n",
       "..              ...             ...       ...        ...                 ...   \n",
       "472           53.30           53.30  10:27:19  Breakfast 2018-07-08 15:21:37   \n",
       "473           40.40           40.40  11:15:01  Breakfast 2018-07-08 15:21:37   \n",
       "474           87.30           87.30  10:48:18  Breakfast 2018-07-08 15:21:37   \n",
       "475           68.70           68.70  12:29:35      Lunch 2018-07-08 15:21:37   \n",
       "476           62.30           62.30  11:12:28  Breakfast 2018-07-08 15:21:37   \n",
       "\n",
       "     dim_zipcode dim_country dim_currency  \n",
       "0          75019          FR          EUR  \n",
       "1          75019          FR          EUR  \n",
       "2          75019          FR          EUR  \n",
       "3          75019          FR          EUR  \n",
       "4          75019          FR          EUR  \n",
       "..           ...         ...          ...  \n",
       "472        75008          FR          EUR  \n",
       "473        75008          FR          EUR  \n",
       "474        75008          FR          EUR  \n",
       "475        75008          FR          EUR  \n",
       "476        75008          FR          EUR  \n",
       "\n",
       "[477 rows x 17 columns]"
      ]
     },
     "execution_count": 235,
     "metadata": {},
     "output_type": "execute_result"
    }
   ],
   "source": [
    "merged_order_store"
   ]
  },
  {
   "cell_type": "code",
   "execution_count": 236,
   "metadata": {},
   "outputs": [],
   "source": [
    "# Exporting merged data set to csv\n",
    "merged_order_store.to_csv('merged_order_store.csv', index=False)"
   ]
  },
  {
   "cell_type": "code",
   "execution_count": null,
   "metadata": {},
   "outputs": [],
   "source": []
  }
 ],
 "metadata": {
  "kernelspec": {
   "display_name": "Python 3",
   "language": "python",
   "name": "python3"
  },
  "language_info": {
   "codemirror_mode": {
    "name": "ipython",
    "version": 3
   },
   "file_extension": ".py",
   "mimetype": "text/x-python",
   "name": "python",
   "nbconvert_exporter": "python",
   "pygments_lexer": "ipython3",
   "version": "3.10.11"
  },
  "orig_nbformat": 4
 },
 "nbformat": 4,
 "nbformat_minor": 2
}
